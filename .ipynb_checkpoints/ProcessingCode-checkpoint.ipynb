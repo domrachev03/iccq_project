{
 "cells": [
  {
   "cell_type": "markdown",
   "metadata": {},
   "source": [
    "## Preprocessing\n",
    "\n",
    "From binary files to uniform and same sized .input files."
   ]
  },
  {
   "cell_type": "code",
   "execution_count": 1,
   "metadata": {},
   "outputs": [],
   "source": [
    "import pandas as pd\n",
    "import numpy as np\n",
    "import sys\n",
    "\n",
    "df = pd.read_csv('database.csv')"
   ]
  },
  {
   "cell_type": "code",
   "execution_count": 2,
   "metadata": {},
   "outputs": [
    {
     "data": {
      "text/html": [
       "<div>\n",
       "<style scoped>\n",
       "    .dataframe tbody tr th:only-of-type {\n",
       "        vertical-align: middle;\n",
       "    }\n",
       "\n",
       "    .dataframe tbody tr th {\n",
       "        vertical-align: top;\n",
       "    }\n",
       "\n",
       "    .dataframe thead th {\n",
       "        text-align: right;\n",
       "    }\n",
       "</style>\n",
       "<table border=\"1\" class=\"dataframe\">\n",
       "  <thead>\n",
       "    <tr style=\"text-align: right;\">\n",
       "      <th></th>\n",
       "      <th>0</th>\n",
       "      <th>1</th>\n",
       "      <th>2</th>\n",
       "    </tr>\n",
       "  </thead>\n",
       "  <tbody>\n",
       "    <tr>\n",
       "      <th>0</th>\n",
       "      <td>i</td>\n",
       "      <td>publicstaticintisPairSum(intA[],intN,intX){int...</td>\n",
       "      <td>loop_control</td>\n",
       "    </tr>\n",
       "    <tr>\n",
       "      <th>1</th>\n",
       "      <td>j</td>\n",
       "      <td>publicstaticintisPairSum(intA[],intN,intX){int...</td>\n",
       "      <td>loop_control</td>\n",
       "    </tr>\n",
       "    <tr>\n",
       "      <th>2</th>\n",
       "      <td>input</td>\n",
       "      <td>finalpublicstaticvoidAuthification(Stringinput...</td>\n",
       "      <td>loop_control</td>\n",
       "    </tr>\n",
       "    <tr>\n",
       "      <th>3</th>\n",
       "      <td>number</td>\n",
       "      <td>publicstaticvoidmain(String[]args){intsum=0;in...</td>\n",
       "      <td>loop_control</td>\n",
       "    </tr>\n",
       "    <tr>\n",
       "      <th>4</th>\n",
       "      <td>num</td>\n",
       "      <td>publicstaticvoidRussianRoulette(String[]args){...</td>\n",
       "      <td>loop_control</td>\n",
       "    </tr>\n",
       "    <tr>\n",
       "      <th>5</th>\n",
       "      <td>i</td>\n",
       "      <td>publicstaticintisPairSum(intA[],intN,intX){int...</td>\n",
       "      <td>loop_control</td>\n",
       "    </tr>\n",
       "    <tr>\n",
       "      <th>6</th>\n",
       "      <td>i</td>\n",
       "      <td>voidBFS(intn){booleannodes[]=newboolean[V];int...</td>\n",
       "      <td>loop_control</td>\n",
       "    </tr>\n",
       "    <tr>\n",
       "      <th>7</th>\n",
       "      <td>i</td>\n",
       "      <td>publicstaticvoidmain(Stringargs[]){intSIZE=10;...</td>\n",
       "      <td>loop_control</td>\n",
       "    </tr>\n",
       "    <tr>\n",
       "      <th>8</th>\n",
       "      <td>j</td>\n",
       "      <td>publicstaticvoidmain(Stringargs[]){intSIZE=10;...</td>\n",
       "      <td>loop_control</td>\n",
       "    </tr>\n",
       "    <tr>\n",
       "      <th>9</th>\n",
       "      <td>bufSize</td>\n",
       "      <td>privatestaticbyte[]toByteArrayInternal(InputSt...</td>\n",
       "      <td>loop_control</td>\n",
       "    </tr>\n",
       "    <tr>\n",
       "      <th>10</th>\n",
       "      <td>totalLen</td>\n",
       "      <td>privatestaticbyte[]toByteArrayInternal(InputSt...</td>\n",
       "      <td>loop_control</td>\n",
       "    </tr>\n",
       "    <tr>\n",
       "      <th>11</th>\n",
       "      <td>off</td>\n",
       "      <td>privatestaticbyte[]toByteArrayInternal(InputSt...</td>\n",
       "      <td>loop_control</td>\n",
       "    </tr>\n",
       "    <tr>\n",
       "      <th>12</th>\n",
       "      <td>i</td>\n",
       "      <td>LLNodeinsertAtPos(intkey,intpos,LLNodehead){LL...</td>\n",
       "      <td>loop_control</td>\n",
       "    </tr>\n",
       "    <tr>\n",
       "      <th>13</th>\n",
       "      <td>counter</td>\n",
       "      <td>publicvoidtest_ConstructorLjava_util_Collectio...</td>\n",
       "      <td>loop_control</td>\n",
       "    </tr>\n",
       "    <tr>\n",
       "      <th>14</th>\n",
       "      <td>i</td>\n",
       "      <td>protectedbooleanrestoreSketches()throwsExcepti...</td>\n",
       "      <td>loop_control</td>\n",
       "    </tr>\n",
       "    <tr>\n",
       "      <th>15</th>\n",
       "      <td>i</td>\n",
       "      <td>publicstaticvoidmain(String[]args){ArrayList&lt;R...</td>\n",
       "      <td>loop_control</td>\n",
       "    </tr>\n",
       "    <tr>\n",
       "      <th>16</th>\n",
       "      <td>i</td>\n",
       "      <td>publicvoidbookRoom(RoomAccessaccess,Humanclien...</td>\n",
       "      <td>loop_control</td>\n",
       "    </tr>\n",
       "    <tr>\n",
       "      <th>17</th>\n",
       "      <td>e</td>\n",
       "      <td>publicvoidreplay(ReplaySubscription&lt;T&gt;rs){if(r...</td>\n",
       "      <td>loop_control</td>\n",
       "    </tr>\n",
       "    <tr>\n",
       "      <th>18</th>\n",
       "      <td>index</td>\n",
       "      <td>publicvoidreplay(ReplaySubscription&lt;T&gt;rs){if(r...</td>\n",
       "      <td>loop_control</td>\n",
       "    </tr>\n",
       "    <tr>\n",
       "      <th>19</th>\n",
       "      <td>e</td>\n",
       "      <td>voiddrainRegular(Subscriber&lt;?superT&gt;a){intmiss...</td>\n",
       "      <td>loop_control</td>\n",
       "    </tr>\n",
       "    <tr>\n",
       "      <th>20</th>\n",
       "      <td>e</td>\n",
       "      <td>publicvoidreplay(ReplaySubscription&lt;T&gt;rs){if(r...</td>\n",
       "      <td>loop_control</td>\n",
       "    </tr>\n",
       "    <tr>\n",
       "      <th>21</th>\n",
       "      <td>index</td>\n",
       "      <td>publicvoidreplay(ReplayDisposable&lt;T&gt;rs){if(rs....</td>\n",
       "      <td>loop_control</td>\n",
       "    </tr>\n",
       "    <tr>\n",
       "      <th>22</th>\n",
       "      <td>i</td>\n",
       "      <td>publicT[]getValues(T[]array){Node&lt;Object&gt;h=hea...</td>\n",
       "      <td>loop_control</td>\n",
       "    </tr>\n",
       "    <tr>\n",
       "      <th>23</th>\n",
       "      <td>s</td>\n",
       "      <td>publicintsize(){ints=0;Node&lt;Object&gt;h=head;whil...</td>\n",
       "      <td>loop_control</td>\n",
       "    </tr>\n",
       "    <tr>\n",
       "      <th>24</th>\n",
       "      <td>pos</td>\n",
       "      <td>protectedvoidadd(char[]cbuf,intoff,intlen)thro...</td>\n",
       "      <td>loop_control</td>\n",
       "    </tr>\n",
       "    <tr>\n",
       "      <th>25</th>\n",
       "      <td>end</td>\n",
       "      <td>protectedvoidadd(char[]cbuf,intoff,intlen)thro...</td>\n",
       "      <td>loop_control</td>\n",
       "    </tr>\n",
       "    <tr>\n",
       "      <th>26</th>\n",
       "      <td>i</td>\n",
       "      <td>privatevoidfilterVisibilityOfSubsequentBoardMe...</td>\n",
       "      <td>loop_control</td>\n",
       "    </tr>\n",
       "    <tr>\n",
       "      <th>27</th>\n",
       "      <td>m</td>\n",
       "      <td>privatevoidfilterVisibilityOfSubsequentBoardMe...</td>\n",
       "      <td>loop_control</td>\n",
       "    </tr>\n",
       "    <tr>\n",
       "      <th>28</th>\n",
       "      <td>kids</td>\n",
       "      <td>publicstaticUIComponentfindComponent(UICompone...</td>\n",
       "      <td>iterator</td>\n",
       "    </tr>\n",
       "    <tr>\n",
       "      <th>29</th>\n",
       "      <td>keyIterator</td>\n",
       "      <td>publicObject[][]convert(Map&lt;String,Object&gt;mapI...</td>\n",
       "      <td>iterator</td>\n",
       "    </tr>\n",
       "    <tr>\n",
       "      <th>30</th>\n",
       "      <td>valueIterator</td>\n",
       "      <td>publicObject[][]convert(Map&lt;String,Object&gt;mapI...</td>\n",
       "      <td>iterator</td>\n",
       "    </tr>\n",
       "    <tr>\n",
       "      <th>31</th>\n",
       "      <td>repositoryIterator</td>\n",
       "      <td>publicLocalRepositorygetLocalRepositoryOrFail(...</td>\n",
       "      <td>iterator</td>\n",
       "    </tr>\n",
       "    <tr>\n",
       "      <th>32</th>\n",
       "      <td>iter</td>\n",
       "      <td>publicStringtoString(){StringBuildersb=newStri...</td>\n",
       "      <td>iterator</td>\n",
       "    </tr>\n",
       "    <tr>\n",
       "      <th>33</th>\n",
       "      <td>it</td>\n",
       "      <td>publicstaticvoidmain(String[]args){ArrayList&lt;I...</td>\n",
       "      <td>iterator</td>\n",
       "    </tr>\n",
       "    <tr>\n",
       "      <th>34</th>\n",
       "      <td>i</td>\n",
       "      <td>publicstaticvoidmain(String[]args){ArrayList&lt;I...</td>\n",
       "      <td>iterator</td>\n",
       "    </tr>\n",
       "    <tr>\n",
       "      <th>35</th>\n",
       "      <td>it</td>\n",
       "      <td>publicvoiditShouldIterateSequenceUrls()throwsE...</td>\n",
       "      <td>iterator</td>\n",
       "    </tr>\n",
       "    <tr>\n",
       "      <th>36</th>\n",
       "      <td>it</td>\n",
       "      <td>publicErrorAggregateValueaggregate(Iterable&lt;Er...</td>\n",
       "      <td>iterator</td>\n",
       "    </tr>\n",
       "    <tr>\n",
       "      <th>37</th>\n",
       "      <td>iterator</td>\n",
       "      <td>publicstaticStringgetAccessToken(TreeMap&lt;Strin...</td>\n",
       "      <td>iterator</td>\n",
       "    </tr>\n",
       "    <tr>\n",
       "      <th>38</th>\n",
       "      <td>i</td>\n",
       "      <td>publicObjectvisit(RelationNodenode){doublenum=...</td>\n",
       "      <td>iterator</td>\n",
       "    </tr>\n",
       "    <tr>\n",
       "      <th>39</th>\n",
       "      <td>iterator</td>\n",
       "      <td>publicStringgetMessage(){StringBuilderbuilder=...</td>\n",
       "      <td>iterator</td>\n",
       "    </tr>\n",
       "    <tr>\n",
       "      <th>40</th>\n",
       "      <td>lib</td>\n",
       "      <td>publicvoidreload(){try{parseKeywordsTxt(newFil...</td>\n",
       "      <td>iterator</td>\n",
       "    </tr>\n",
       "    <tr>\n",
       "      <th>41</th>\n",
       "      <td>editor</td>\n",
       "      <td>protectedvoidstoreSketches(){if(editors.size()...</td>\n",
       "      <td>iterator</td>\n",
       "    </tr>\n",
       "    <tr>\n",
       "      <th>42</th>\n",
       "      <td>path</td>\n",
       "      <td>protectedvoidrebuildRecentSketchesMenuItems(){...</td>\n",
       "      <td>iterator</td>\n",
       "    </tr>\n",
       "    <tr>\n",
       "      <th>43</th>\n",
       "      <td>recentSketch</td>\n",
       "      <td>protectedvoidrebuildRecentSketchesMenuItems(){...</td>\n",
       "      <td>iterator</td>\n",
       "    </tr>\n",
       "    <tr>\n",
       "      <th>44</th>\n",
       "      <td>editor</td>\n",
       "      <td>protectedbooleanhandleQuitEach(){for(Editoredi...</td>\n",
       "      <td>iterator</td>\n",
       "    </tr>\n",
       "    <tr>\n",
       "      <th>45</th>\n",
       "      <td>t_board</td>\n",
       "      <td>privatevoidfilterVisibilityOfSubsequentBoardMe...</td>\n",
       "      <td>iterator</td>\n",
       "    </tr>\n",
       "    <tr>\n",
       "      <th>46</th>\n",
       "      <td>networkService</td>\n",
       "      <td>privateListenableFuture&lt;ReconnaissanceReport&gt;f...</td>\n",
       "      <td>iterator</td>\n",
       "    </tr>\n",
       "    <tr>\n",
       "      <th>47</th>\n",
       "      <td>node</td>\n",
       "      <td>privateImmutableSet&lt;N&gt;validate(Iterable&lt;?exten...</td>\n",
       "      <td>iterator</td>\n",
       "    </tr>\n",
       "    <tr>\n",
       "      <th>48</th>\n",
       "      <td>edge</td>\n",
       "      <td>publicbooleanremoveNode(Nnode){checkNotNull(no...</td>\n",
       "      <td>iterator</td>\n",
       "    </tr>\n",
       "    <tr>\n",
       "      <th>49</th>\n",
       "      <td>source</td>\n",
       "      <td>publiclonglength()throwsIOException{longresult...</td>\n",
       "      <td>iterator</td>\n",
       "    </tr>\n",
       "    <tr>\n",
       "      <th>50</th>\n",
       "      <td>e</td>\n",
       "      <td>privatestaticvoidthrowDeleteFailed(Pathpath,Co...</td>\n",
       "      <td>iterator</td>\n",
       "    </tr>\n",
       "  </tbody>\n",
       "</table>\n",
       "</div>"
      ],
      "text/plain": [
       "                     0                                                  1  \\\n",
       "0                    i  publicstaticintisPairSum(intA[],intN,intX){int...   \n",
       "1                    j  publicstaticintisPairSum(intA[],intN,intX){int...   \n",
       "2                input  finalpublicstaticvoidAuthification(Stringinput...   \n",
       "3               number  publicstaticvoidmain(String[]args){intsum=0;in...   \n",
       "4                  num  publicstaticvoidRussianRoulette(String[]args){...   \n",
       "5                    i  publicstaticintisPairSum(intA[],intN,intX){int...   \n",
       "6                    i  voidBFS(intn){booleannodes[]=newboolean[V];int...   \n",
       "7                    i  publicstaticvoidmain(Stringargs[]){intSIZE=10;...   \n",
       "8                    j  publicstaticvoidmain(Stringargs[]){intSIZE=10;...   \n",
       "9              bufSize  privatestaticbyte[]toByteArrayInternal(InputSt...   \n",
       "10            totalLen  privatestaticbyte[]toByteArrayInternal(InputSt...   \n",
       "11                 off  privatestaticbyte[]toByteArrayInternal(InputSt...   \n",
       "12                   i  LLNodeinsertAtPos(intkey,intpos,LLNodehead){LL...   \n",
       "13             counter  publicvoidtest_ConstructorLjava_util_Collectio...   \n",
       "14                   i  protectedbooleanrestoreSketches()throwsExcepti...   \n",
       "15                   i  publicstaticvoidmain(String[]args){ArrayList<R...   \n",
       "16                   i  publicvoidbookRoom(RoomAccessaccess,Humanclien...   \n",
       "17                   e  publicvoidreplay(ReplaySubscription<T>rs){if(r...   \n",
       "18               index  publicvoidreplay(ReplaySubscription<T>rs){if(r...   \n",
       "19                   e  voiddrainRegular(Subscriber<?superT>a){intmiss...   \n",
       "20                   e  publicvoidreplay(ReplaySubscription<T>rs){if(r...   \n",
       "21               index  publicvoidreplay(ReplayDisposable<T>rs){if(rs....   \n",
       "22                   i  publicT[]getValues(T[]array){Node<Object>h=hea...   \n",
       "23                   s  publicintsize(){ints=0;Node<Object>h=head;whil...   \n",
       "24                 pos  protectedvoidadd(char[]cbuf,intoff,intlen)thro...   \n",
       "25                 end  protectedvoidadd(char[]cbuf,intoff,intlen)thro...   \n",
       "26                   i  privatevoidfilterVisibilityOfSubsequentBoardMe...   \n",
       "27                   m  privatevoidfilterVisibilityOfSubsequentBoardMe...   \n",
       "28                kids  publicstaticUIComponentfindComponent(UICompone...   \n",
       "29         keyIterator  publicObject[][]convert(Map<String,Object>mapI...   \n",
       "30       valueIterator  publicObject[][]convert(Map<String,Object>mapI...   \n",
       "31  repositoryIterator  publicLocalRepositorygetLocalRepositoryOrFail(...   \n",
       "32                iter  publicStringtoString(){StringBuildersb=newStri...   \n",
       "33                  it  publicstaticvoidmain(String[]args){ArrayList<I...   \n",
       "34                   i  publicstaticvoidmain(String[]args){ArrayList<I...   \n",
       "35                  it  publicvoiditShouldIterateSequenceUrls()throwsE...   \n",
       "36                  it  publicErrorAggregateValueaggregate(Iterable<Er...   \n",
       "37            iterator  publicstaticStringgetAccessToken(TreeMap<Strin...   \n",
       "38                   i  publicObjectvisit(RelationNodenode){doublenum=...   \n",
       "39            iterator  publicStringgetMessage(){StringBuilderbuilder=...   \n",
       "40                 lib  publicvoidreload(){try{parseKeywordsTxt(newFil...   \n",
       "41              editor  protectedvoidstoreSketches(){if(editors.size()...   \n",
       "42                path  protectedvoidrebuildRecentSketchesMenuItems(){...   \n",
       "43        recentSketch  protectedvoidrebuildRecentSketchesMenuItems(){...   \n",
       "44              editor  protectedbooleanhandleQuitEach(){for(Editoredi...   \n",
       "45             t_board  privatevoidfilterVisibilityOfSubsequentBoardMe...   \n",
       "46      networkService  privateListenableFuture<ReconnaissanceReport>f...   \n",
       "47                node  privateImmutableSet<N>validate(Iterable<?exten...   \n",
       "48                edge  publicbooleanremoveNode(Nnode){checkNotNull(no...   \n",
       "49              source  publiclonglength()throwsIOException{longresult...   \n",
       "50                   e  privatestaticvoidthrowDeleteFailed(Pathpath,Co...   \n",
       "\n",
       "               2  \n",
       "0   loop_control  \n",
       "1   loop_control  \n",
       "2   loop_control  \n",
       "3   loop_control  \n",
       "4   loop_control  \n",
       "5   loop_control  \n",
       "6   loop_control  \n",
       "7   loop_control  \n",
       "8   loop_control  \n",
       "9   loop_control  \n",
       "10  loop_control  \n",
       "11  loop_control  \n",
       "12  loop_control  \n",
       "13  loop_control  \n",
       "14  loop_control  \n",
       "15  loop_control  \n",
       "16  loop_control  \n",
       "17  loop_control  \n",
       "18  loop_control  \n",
       "19  loop_control  \n",
       "20  loop_control  \n",
       "21  loop_control  \n",
       "22  loop_control  \n",
       "23  loop_control  \n",
       "24  loop_control  \n",
       "25  loop_control  \n",
       "26  loop_control  \n",
       "27  loop_control  \n",
       "28      iterator  \n",
       "29      iterator  \n",
       "30      iterator  \n",
       "31      iterator  \n",
       "32      iterator  \n",
       "33      iterator  \n",
       "34      iterator  \n",
       "35      iterator  \n",
       "36      iterator  \n",
       "37      iterator  \n",
       "38      iterator  \n",
       "39      iterator  \n",
       "40      iterator  \n",
       "41      iterator  \n",
       "42      iterator  \n",
       "43      iterator  \n",
       "44      iterator  \n",
       "45      iterator  \n",
       "46      iterator  \n",
       "47      iterator  \n",
       "48      iterator  \n",
       "49      iterator  \n",
       "50      iterator  "
      ]
     },
     "execution_count": 2,
     "metadata": {},
     "output_type": "execute_result"
    }
   ],
   "source": [
    "df"
   ]
  },
  {
   "cell_type": "code",
   "execution_count": 3,
   "metadata": {},
   "outputs": [
    {
     "name": "stdout",
     "output_type": "stream",
     "text": [
      "publicstaticvoidmain(String[]args){intsum=0;intnumber=0;Scannerinput=newScanner(System.in);do{sum+=number;System.out.println(\"Enteranumber\");number=input.nextInt();}while(number>=0);System.out.println(\"Sum=\"+sum);input.close();}\n"
     ]
    }
   ],
   "source": [
    "import sys\n",
    "np.set_printoptions(threshold=sys.maxsize)\n",
    "print(df['1'][3])"
   ]
  },
  {
   "cell_type": "code",
   "execution_count": 4,
   "metadata": {},
   "outputs": [],
   "source": [
    "max_character_encoding = 130 # it should be 126, but maybe there are characters that I didn't see in the training set\n",
    "\n",
    "def convert_str_to_array(text):\n",
    "    content_numbers = np.zeros(len(text))\n",
    "    for i in range(len(text)):\n",
    "            # print(ord(str_text[i]) / max_character_encoding)\n",
    "            content_numbers[i] = ord(text[i]) / max_character_encoding\n",
    "    return content_numbers\n",
    "\n",
    "def concatenate(x):\n",
    "    x['1'] = x['0'] + x['1']\n",
    "    return x\n",
    "\n",
    "def squaring(x, max_len):\n",
    "    import math\n",
    "    \n",
    "    height = int( math.sqrt( int(  max_len / 3 ) ) )\n",
    "    width = height\n",
    "    total_size = height * width * 3\n",
    "\n",
    "    return np.pad(x, (0, total_size - len(x)), 'constant')"
   ]
  },
  {
   "cell_type": "code",
   "execution_count": 5,
   "metadata": {},
   "outputs": [
    {
     "data": {
      "text/html": [
       "<div>\n",
       "<style scoped>\n",
       "    .dataframe tbody tr th:only-of-type {\n",
       "        vertical-align: middle;\n",
       "    }\n",
       "\n",
       "    .dataframe tbody tr th {\n",
       "        vertical-align: top;\n",
       "    }\n",
       "\n",
       "    .dataframe thead th {\n",
       "        text-align: right;\n",
       "    }\n",
       "</style>\n",
       "<table border=\"1\" class=\"dataframe\">\n",
       "  <thead>\n",
       "    <tr style=\"text-align: right;\">\n",
       "      <th></th>\n",
       "      <th>0</th>\n",
       "      <th>1</th>\n",
       "      <th>2</th>\n",
       "    </tr>\n",
       "  </thead>\n",
       "  <tbody>\n",
       "    <tr>\n",
       "      <th>0</th>\n",
       "      <td>i</td>\n",
       "      <td>ipublicstaticintisPairSum(intA[],intN,intX){in...</td>\n",
       "      <td>loop_control</td>\n",
       "    </tr>\n",
       "    <tr>\n",
       "      <th>1</th>\n",
       "      <td>j</td>\n",
       "      <td>jpublicstaticintisPairSum(intA[],intN,intX){in...</td>\n",
       "      <td>loop_control</td>\n",
       "    </tr>\n",
       "    <tr>\n",
       "      <th>2</th>\n",
       "      <td>input</td>\n",
       "      <td>inputfinalpublicstaticvoidAuthification(String...</td>\n",
       "      <td>loop_control</td>\n",
       "    </tr>\n",
       "    <tr>\n",
       "      <th>3</th>\n",
       "      <td>number</td>\n",
       "      <td>numberpublicstaticvoidmain(String[]args){intsu...</td>\n",
       "      <td>loop_control</td>\n",
       "    </tr>\n",
       "    <tr>\n",
       "      <th>4</th>\n",
       "      <td>num</td>\n",
       "      <td>numpublicstaticvoidRussianRoulette(String[]arg...</td>\n",
       "      <td>loop_control</td>\n",
       "    </tr>\n",
       "    <tr>\n",
       "      <th>5</th>\n",
       "      <td>i</td>\n",
       "      <td>ipublicstaticintisPairSum(intA[],intN,intX){in...</td>\n",
       "      <td>loop_control</td>\n",
       "    </tr>\n",
       "    <tr>\n",
       "      <th>6</th>\n",
       "      <td>i</td>\n",
       "      <td>ivoidBFS(intn){booleannodes[]=newboolean[V];in...</td>\n",
       "      <td>loop_control</td>\n",
       "    </tr>\n",
       "    <tr>\n",
       "      <th>7</th>\n",
       "      <td>i</td>\n",
       "      <td>ipublicstaticvoidmain(Stringargs[]){intSIZE=10...</td>\n",
       "      <td>loop_control</td>\n",
       "    </tr>\n",
       "    <tr>\n",
       "      <th>8</th>\n",
       "      <td>j</td>\n",
       "      <td>jpublicstaticvoidmain(Stringargs[]){intSIZE=10...</td>\n",
       "      <td>loop_control</td>\n",
       "    </tr>\n",
       "    <tr>\n",
       "      <th>9</th>\n",
       "      <td>bufSize</td>\n",
       "      <td>bufSizeprivatestaticbyte[]toByteArrayInternal(...</td>\n",
       "      <td>loop_control</td>\n",
       "    </tr>\n",
       "    <tr>\n",
       "      <th>10</th>\n",
       "      <td>totalLen</td>\n",
       "      <td>totalLenprivatestaticbyte[]toByteArrayInternal...</td>\n",
       "      <td>loop_control</td>\n",
       "    </tr>\n",
       "    <tr>\n",
       "      <th>11</th>\n",
       "      <td>off</td>\n",
       "      <td>offprivatestaticbyte[]toByteArrayInternal(Inpu...</td>\n",
       "      <td>loop_control</td>\n",
       "    </tr>\n",
       "    <tr>\n",
       "      <th>12</th>\n",
       "      <td>i</td>\n",
       "      <td>iLLNodeinsertAtPos(intkey,intpos,LLNodehead){L...</td>\n",
       "      <td>loop_control</td>\n",
       "    </tr>\n",
       "    <tr>\n",
       "      <th>13</th>\n",
       "      <td>counter</td>\n",
       "      <td>counterpublicvoidtest_ConstructorLjava_util_Co...</td>\n",
       "      <td>loop_control</td>\n",
       "    </tr>\n",
       "    <tr>\n",
       "      <th>14</th>\n",
       "      <td>i</td>\n",
       "      <td>iprotectedbooleanrestoreSketches()throwsExcept...</td>\n",
       "      <td>loop_control</td>\n",
       "    </tr>\n",
       "    <tr>\n",
       "      <th>15</th>\n",
       "      <td>i</td>\n",
       "      <td>ipublicstaticvoidmain(String[]args){ArrayList&lt;...</td>\n",
       "      <td>loop_control</td>\n",
       "    </tr>\n",
       "    <tr>\n",
       "      <th>16</th>\n",
       "      <td>i</td>\n",
       "      <td>ipublicvoidbookRoom(RoomAccessaccess,Humanclie...</td>\n",
       "      <td>loop_control</td>\n",
       "    </tr>\n",
       "    <tr>\n",
       "      <th>17</th>\n",
       "      <td>e</td>\n",
       "      <td>epublicvoidreplay(ReplaySubscription&lt;T&gt;rs){if(...</td>\n",
       "      <td>loop_control</td>\n",
       "    </tr>\n",
       "    <tr>\n",
       "      <th>18</th>\n",
       "      <td>index</td>\n",
       "      <td>indexpublicvoidreplay(ReplaySubscription&lt;T&gt;rs)...</td>\n",
       "      <td>loop_control</td>\n",
       "    </tr>\n",
       "    <tr>\n",
       "      <th>19</th>\n",
       "      <td>e</td>\n",
       "      <td>evoiddrainRegular(Subscriber&lt;?superT&gt;a){intmis...</td>\n",
       "      <td>loop_control</td>\n",
       "    </tr>\n",
       "    <tr>\n",
       "      <th>20</th>\n",
       "      <td>e</td>\n",
       "      <td>epublicvoidreplay(ReplaySubscription&lt;T&gt;rs){if(...</td>\n",
       "      <td>loop_control</td>\n",
       "    </tr>\n",
       "    <tr>\n",
       "      <th>21</th>\n",
       "      <td>index</td>\n",
       "      <td>indexpublicvoidreplay(ReplayDisposable&lt;T&gt;rs){i...</td>\n",
       "      <td>loop_control</td>\n",
       "    </tr>\n",
       "    <tr>\n",
       "      <th>22</th>\n",
       "      <td>i</td>\n",
       "      <td>ipublicT[]getValues(T[]array){Node&lt;Object&gt;h=he...</td>\n",
       "      <td>loop_control</td>\n",
       "    </tr>\n",
       "    <tr>\n",
       "      <th>23</th>\n",
       "      <td>s</td>\n",
       "      <td>spublicintsize(){ints=0;Node&lt;Object&gt;h=head;whi...</td>\n",
       "      <td>loop_control</td>\n",
       "    </tr>\n",
       "    <tr>\n",
       "      <th>24</th>\n",
       "      <td>pos</td>\n",
       "      <td>posprotectedvoidadd(char[]cbuf,intoff,intlen)t...</td>\n",
       "      <td>loop_control</td>\n",
       "    </tr>\n",
       "    <tr>\n",
       "      <th>25</th>\n",
       "      <td>end</td>\n",
       "      <td>endprotectedvoidadd(char[]cbuf,intoff,intlen)t...</td>\n",
       "      <td>loop_control</td>\n",
       "    </tr>\n",
       "    <tr>\n",
       "      <th>26</th>\n",
       "      <td>i</td>\n",
       "      <td>iprivatevoidfilterVisibilityOfSubsequentBoardM...</td>\n",
       "      <td>loop_control</td>\n",
       "    </tr>\n",
       "    <tr>\n",
       "      <th>27</th>\n",
       "      <td>m</td>\n",
       "      <td>mprivatevoidfilterVisibilityOfSubsequentBoardM...</td>\n",
       "      <td>loop_control</td>\n",
       "    </tr>\n",
       "    <tr>\n",
       "      <th>28</th>\n",
       "      <td>kids</td>\n",
       "      <td>kidspublicstaticUIComponentfindComponent(UICom...</td>\n",
       "      <td>iterator</td>\n",
       "    </tr>\n",
       "    <tr>\n",
       "      <th>29</th>\n",
       "      <td>keyIterator</td>\n",
       "      <td>keyIteratorpublicObject[][]convert(Map&lt;String,...</td>\n",
       "      <td>iterator</td>\n",
       "    </tr>\n",
       "    <tr>\n",
       "      <th>30</th>\n",
       "      <td>valueIterator</td>\n",
       "      <td>valueIteratorpublicObject[][]convert(Map&lt;Strin...</td>\n",
       "      <td>iterator</td>\n",
       "    </tr>\n",
       "    <tr>\n",
       "      <th>31</th>\n",
       "      <td>repositoryIterator</td>\n",
       "      <td>repositoryIteratorpublicLocalRepositorygetLoca...</td>\n",
       "      <td>iterator</td>\n",
       "    </tr>\n",
       "    <tr>\n",
       "      <th>32</th>\n",
       "      <td>iter</td>\n",
       "      <td>iterpublicStringtoString(){StringBuildersb=new...</td>\n",
       "      <td>iterator</td>\n",
       "    </tr>\n",
       "    <tr>\n",
       "      <th>33</th>\n",
       "      <td>it</td>\n",
       "      <td>itpublicstaticvoidmain(String[]args){ArrayList...</td>\n",
       "      <td>iterator</td>\n",
       "    </tr>\n",
       "    <tr>\n",
       "      <th>34</th>\n",
       "      <td>i</td>\n",
       "      <td>ipublicstaticvoidmain(String[]args){ArrayList&lt;...</td>\n",
       "      <td>iterator</td>\n",
       "    </tr>\n",
       "    <tr>\n",
       "      <th>35</th>\n",
       "      <td>it</td>\n",
       "      <td>itpublicvoiditShouldIterateSequenceUrls()throw...</td>\n",
       "      <td>iterator</td>\n",
       "    </tr>\n",
       "    <tr>\n",
       "      <th>36</th>\n",
       "      <td>it</td>\n",
       "      <td>itpublicErrorAggregateValueaggregate(Iterable&lt;...</td>\n",
       "      <td>iterator</td>\n",
       "    </tr>\n",
       "    <tr>\n",
       "      <th>37</th>\n",
       "      <td>iterator</td>\n",
       "      <td>iteratorpublicstaticStringgetAccessToken(TreeM...</td>\n",
       "      <td>iterator</td>\n",
       "    </tr>\n",
       "    <tr>\n",
       "      <th>38</th>\n",
       "      <td>i</td>\n",
       "      <td>ipublicObjectvisit(RelationNodenode){doublenum...</td>\n",
       "      <td>iterator</td>\n",
       "    </tr>\n",
       "    <tr>\n",
       "      <th>39</th>\n",
       "      <td>iterator</td>\n",
       "      <td>iteratorpublicStringgetMessage(){StringBuilder...</td>\n",
       "      <td>iterator</td>\n",
       "    </tr>\n",
       "    <tr>\n",
       "      <th>40</th>\n",
       "      <td>lib</td>\n",
       "      <td>libpublicvoidreload(){try{parseKeywordsTxt(new...</td>\n",
       "      <td>iterator</td>\n",
       "    </tr>\n",
       "    <tr>\n",
       "      <th>41</th>\n",
       "      <td>editor</td>\n",
       "      <td>editorprotectedvoidstoreSketches(){if(editors....</td>\n",
       "      <td>iterator</td>\n",
       "    </tr>\n",
       "    <tr>\n",
       "      <th>42</th>\n",
       "      <td>path</td>\n",
       "      <td>pathprotectedvoidrebuildRecentSketchesMenuItem...</td>\n",
       "      <td>iterator</td>\n",
       "    </tr>\n",
       "    <tr>\n",
       "      <th>43</th>\n",
       "      <td>recentSketch</td>\n",
       "      <td>recentSketchprotectedvoidrebuildRecentSketches...</td>\n",
       "      <td>iterator</td>\n",
       "    </tr>\n",
       "    <tr>\n",
       "      <th>44</th>\n",
       "      <td>editor</td>\n",
       "      <td>editorprotectedbooleanhandleQuitEach(){for(Edi...</td>\n",
       "      <td>iterator</td>\n",
       "    </tr>\n",
       "    <tr>\n",
       "      <th>45</th>\n",
       "      <td>t_board</td>\n",
       "      <td>t_boardprivatevoidfilterVisibilityOfSubsequent...</td>\n",
       "      <td>iterator</td>\n",
       "    </tr>\n",
       "    <tr>\n",
       "      <th>46</th>\n",
       "      <td>networkService</td>\n",
       "      <td>networkServiceprivateListenableFuture&lt;Reconnai...</td>\n",
       "      <td>iterator</td>\n",
       "    </tr>\n",
       "    <tr>\n",
       "      <th>47</th>\n",
       "      <td>node</td>\n",
       "      <td>nodeprivateImmutableSet&lt;N&gt;validate(Iterable&lt;?e...</td>\n",
       "      <td>iterator</td>\n",
       "    </tr>\n",
       "    <tr>\n",
       "      <th>48</th>\n",
       "      <td>edge</td>\n",
       "      <td>edgepublicbooleanremoveNode(Nnode){checkNotNul...</td>\n",
       "      <td>iterator</td>\n",
       "    </tr>\n",
       "    <tr>\n",
       "      <th>49</th>\n",
       "      <td>source</td>\n",
       "      <td>sourcepubliclonglength()throwsIOException{long...</td>\n",
       "      <td>iterator</td>\n",
       "    </tr>\n",
       "    <tr>\n",
       "      <th>50</th>\n",
       "      <td>e</td>\n",
       "      <td>eprivatestaticvoidthrowDeleteFailed(Pathpath,C...</td>\n",
       "      <td>iterator</td>\n",
       "    </tr>\n",
       "  </tbody>\n",
       "</table>\n",
       "</div>"
      ],
      "text/plain": [
       "                     0                                                  1  \\\n",
       "0                    i  ipublicstaticintisPairSum(intA[],intN,intX){in...   \n",
       "1                    j  jpublicstaticintisPairSum(intA[],intN,intX){in...   \n",
       "2                input  inputfinalpublicstaticvoidAuthification(String...   \n",
       "3               number  numberpublicstaticvoidmain(String[]args){intsu...   \n",
       "4                  num  numpublicstaticvoidRussianRoulette(String[]arg...   \n",
       "5                    i  ipublicstaticintisPairSum(intA[],intN,intX){in...   \n",
       "6                    i  ivoidBFS(intn){booleannodes[]=newboolean[V];in...   \n",
       "7                    i  ipublicstaticvoidmain(Stringargs[]){intSIZE=10...   \n",
       "8                    j  jpublicstaticvoidmain(Stringargs[]){intSIZE=10...   \n",
       "9              bufSize  bufSizeprivatestaticbyte[]toByteArrayInternal(...   \n",
       "10            totalLen  totalLenprivatestaticbyte[]toByteArrayInternal...   \n",
       "11                 off  offprivatestaticbyte[]toByteArrayInternal(Inpu...   \n",
       "12                   i  iLLNodeinsertAtPos(intkey,intpos,LLNodehead){L...   \n",
       "13             counter  counterpublicvoidtest_ConstructorLjava_util_Co...   \n",
       "14                   i  iprotectedbooleanrestoreSketches()throwsExcept...   \n",
       "15                   i  ipublicstaticvoidmain(String[]args){ArrayList<...   \n",
       "16                   i  ipublicvoidbookRoom(RoomAccessaccess,Humanclie...   \n",
       "17                   e  epublicvoidreplay(ReplaySubscription<T>rs){if(...   \n",
       "18               index  indexpublicvoidreplay(ReplaySubscription<T>rs)...   \n",
       "19                   e  evoiddrainRegular(Subscriber<?superT>a){intmis...   \n",
       "20                   e  epublicvoidreplay(ReplaySubscription<T>rs){if(...   \n",
       "21               index  indexpublicvoidreplay(ReplayDisposable<T>rs){i...   \n",
       "22                   i  ipublicT[]getValues(T[]array){Node<Object>h=he...   \n",
       "23                   s  spublicintsize(){ints=0;Node<Object>h=head;whi...   \n",
       "24                 pos  posprotectedvoidadd(char[]cbuf,intoff,intlen)t...   \n",
       "25                 end  endprotectedvoidadd(char[]cbuf,intoff,intlen)t...   \n",
       "26                   i  iprivatevoidfilterVisibilityOfSubsequentBoardM...   \n",
       "27                   m  mprivatevoidfilterVisibilityOfSubsequentBoardM...   \n",
       "28                kids  kidspublicstaticUIComponentfindComponent(UICom...   \n",
       "29         keyIterator  keyIteratorpublicObject[][]convert(Map<String,...   \n",
       "30       valueIterator  valueIteratorpublicObject[][]convert(Map<Strin...   \n",
       "31  repositoryIterator  repositoryIteratorpublicLocalRepositorygetLoca...   \n",
       "32                iter  iterpublicStringtoString(){StringBuildersb=new...   \n",
       "33                  it  itpublicstaticvoidmain(String[]args){ArrayList...   \n",
       "34                   i  ipublicstaticvoidmain(String[]args){ArrayList<...   \n",
       "35                  it  itpublicvoiditShouldIterateSequenceUrls()throw...   \n",
       "36                  it  itpublicErrorAggregateValueaggregate(Iterable<...   \n",
       "37            iterator  iteratorpublicstaticStringgetAccessToken(TreeM...   \n",
       "38                   i  ipublicObjectvisit(RelationNodenode){doublenum...   \n",
       "39            iterator  iteratorpublicStringgetMessage(){StringBuilder...   \n",
       "40                 lib  libpublicvoidreload(){try{parseKeywordsTxt(new...   \n",
       "41              editor  editorprotectedvoidstoreSketches(){if(editors....   \n",
       "42                path  pathprotectedvoidrebuildRecentSketchesMenuItem...   \n",
       "43        recentSketch  recentSketchprotectedvoidrebuildRecentSketches...   \n",
       "44              editor  editorprotectedbooleanhandleQuitEach(){for(Edi...   \n",
       "45             t_board  t_boardprivatevoidfilterVisibilityOfSubsequent...   \n",
       "46      networkService  networkServiceprivateListenableFuture<Reconnai...   \n",
       "47                node  nodeprivateImmutableSet<N>validate(Iterable<?e...   \n",
       "48                edge  edgepublicbooleanremoveNode(Nnode){checkNotNul...   \n",
       "49              source  sourcepubliclonglength()throwsIOException{long...   \n",
       "50                   e  eprivatestaticvoidthrowDeleteFailed(Pathpath,C...   \n",
       "\n",
       "               2  \n",
       "0   loop_control  \n",
       "1   loop_control  \n",
       "2   loop_control  \n",
       "3   loop_control  \n",
       "4   loop_control  \n",
       "5   loop_control  \n",
       "6   loop_control  \n",
       "7   loop_control  \n",
       "8   loop_control  \n",
       "9   loop_control  \n",
       "10  loop_control  \n",
       "11  loop_control  \n",
       "12  loop_control  \n",
       "13  loop_control  \n",
       "14  loop_control  \n",
       "15  loop_control  \n",
       "16  loop_control  \n",
       "17  loop_control  \n",
       "18  loop_control  \n",
       "19  loop_control  \n",
       "20  loop_control  \n",
       "21  loop_control  \n",
       "22  loop_control  \n",
       "23  loop_control  \n",
       "24  loop_control  \n",
       "25  loop_control  \n",
       "26  loop_control  \n",
       "27  loop_control  \n",
       "28      iterator  \n",
       "29      iterator  \n",
       "30      iterator  \n",
       "31      iterator  \n",
       "32      iterator  \n",
       "33      iterator  \n",
       "34      iterator  \n",
       "35      iterator  \n",
       "36      iterator  \n",
       "37      iterator  \n",
       "38      iterator  \n",
       "39      iterator  \n",
       "40      iterator  \n",
       "41      iterator  \n",
       "42      iterator  \n",
       "43      iterator  \n",
       "44      iterator  \n",
       "45      iterator  \n",
       "46      iterator  \n",
       "47      iterator  \n",
       "48      iterator  \n",
       "49      iterator  \n",
       "50      iterator  "
      ]
     },
     "execution_count": 5,
     "metadata": {},
     "output_type": "execute_result"
    }
   ],
   "source": [
    "df = df.apply(concatenate, axis = 1)\n",
    "df"
   ]
  },
  {
   "cell_type": "code",
   "execution_count": 6,
   "metadata": {},
   "outputs": [
    {
     "data": {
      "text/html": [
       "<div>\n",
       "<style scoped>\n",
       "    .dataframe tbody tr th:only-of-type {\n",
       "        vertical-align: middle;\n",
       "    }\n",
       "\n",
       "    .dataframe tbody tr th {\n",
       "        vertical-align: top;\n",
       "    }\n",
       "\n",
       "    .dataframe thead th {\n",
       "        text-align: right;\n",
       "    }\n",
       "</style>\n",
       "<table border=\"1\" class=\"dataframe\">\n",
       "  <thead>\n",
       "    <tr style=\"text-align: right;\">\n",
       "      <th></th>\n",
       "      <th>0</th>\n",
       "      <th>1</th>\n",
       "      <th>2</th>\n",
       "    </tr>\n",
       "  </thead>\n",
       "  <tbody>\n",
       "    <tr>\n",
       "      <th>0</th>\n",
       "      <td>i</td>\n",
       "      <td>[0.8076923076923077, 0.8615384615384616, 0.9, ...</td>\n",
       "      <td>loop_control</td>\n",
       "    </tr>\n",
       "    <tr>\n",
       "      <th>1</th>\n",
       "      <td>j</td>\n",
       "      <td>[0.8153846153846154, 0.8615384615384616, 0.9, ...</td>\n",
       "      <td>loop_control</td>\n",
       "    </tr>\n",
       "    <tr>\n",
       "      <th>2</th>\n",
       "      <td>input</td>\n",
       "      <td>[0.8076923076923077, 0.8461538461538461, 0.861...</td>\n",
       "      <td>loop_control</td>\n",
       "    </tr>\n",
       "    <tr>\n",
       "      <th>3</th>\n",
       "      <td>number</td>\n",
       "      <td>[0.8461538461538461, 0.9, 0.8384615384615385, ...</td>\n",
       "      <td>loop_control</td>\n",
       "    </tr>\n",
       "    <tr>\n",
       "      <th>4</th>\n",
       "      <td>num</td>\n",
       "      <td>[0.8461538461538461, 0.9, 0.8384615384615385, ...</td>\n",
       "      <td>loop_control</td>\n",
       "    </tr>\n",
       "    <tr>\n",
       "      <th>5</th>\n",
       "      <td>i</td>\n",
       "      <td>[0.8076923076923077, 0.8615384615384616, 0.9, ...</td>\n",
       "      <td>loop_control</td>\n",
       "    </tr>\n",
       "    <tr>\n",
       "      <th>6</th>\n",
       "      <td>i</td>\n",
       "      <td>[0.8076923076923077, 0.9076923076923077, 0.853...</td>\n",
       "      <td>loop_control</td>\n",
       "    </tr>\n",
       "    <tr>\n",
       "      <th>7</th>\n",
       "      <td>i</td>\n",
       "      <td>[0.8076923076923077, 0.8615384615384616, 0.9, ...</td>\n",
       "      <td>loop_control</td>\n",
       "    </tr>\n",
       "    <tr>\n",
       "      <th>8</th>\n",
       "      <td>j</td>\n",
       "      <td>[0.8153846153846154, 0.8615384615384616, 0.9, ...</td>\n",
       "      <td>loop_control</td>\n",
       "    </tr>\n",
       "    <tr>\n",
       "      <th>9</th>\n",
       "      <td>bufSize</td>\n",
       "      <td>[0.7538461538461538, 0.9, 0.7846153846153846, ...</td>\n",
       "      <td>loop_control</td>\n",
       "    </tr>\n",
       "    <tr>\n",
       "      <th>10</th>\n",
       "      <td>totalLen</td>\n",
       "      <td>[0.8923076923076924, 0.8538461538461538, 0.892...</td>\n",
       "      <td>loop_control</td>\n",
       "    </tr>\n",
       "    <tr>\n",
       "      <th>11</th>\n",
       "      <td>off</td>\n",
       "      <td>[0.8538461538461538, 0.7846153846153846, 0.784...</td>\n",
       "      <td>loop_control</td>\n",
       "    </tr>\n",
       "    <tr>\n",
       "      <th>12</th>\n",
       "      <td>i</td>\n",
       "      <td>[0.8076923076923077, 0.5846153846153846, 0.584...</td>\n",
       "      <td>loop_control</td>\n",
       "    </tr>\n",
       "    <tr>\n",
       "      <th>13</th>\n",
       "      <td>counter</td>\n",
       "      <td>[0.7615384615384615, 0.8538461538461538, 0.9, ...</td>\n",
       "      <td>loop_control</td>\n",
       "    </tr>\n",
       "    <tr>\n",
       "      <th>14</th>\n",
       "      <td>i</td>\n",
       "      <td>[0.8076923076923077, 0.8615384615384616, 0.876...</td>\n",
       "      <td>loop_control</td>\n",
       "    </tr>\n",
       "    <tr>\n",
       "      <th>15</th>\n",
       "      <td>i</td>\n",
       "      <td>[0.8076923076923077, 0.8615384615384616, 0.9, ...</td>\n",
       "      <td>loop_control</td>\n",
       "    </tr>\n",
       "    <tr>\n",
       "      <th>16</th>\n",
       "      <td>i</td>\n",
       "      <td>[0.8076923076923077, 0.8615384615384616, 0.9, ...</td>\n",
       "      <td>loop_control</td>\n",
       "    </tr>\n",
       "    <tr>\n",
       "      <th>17</th>\n",
       "      <td>e</td>\n",
       "      <td>[0.7769230769230769, 0.8615384615384616, 0.9, ...</td>\n",
       "      <td>loop_control</td>\n",
       "    </tr>\n",
       "    <tr>\n",
       "      <th>18</th>\n",
       "      <td>index</td>\n",
       "      <td>[0.8076923076923077, 0.8461538461538461, 0.769...</td>\n",
       "      <td>loop_control</td>\n",
       "    </tr>\n",
       "    <tr>\n",
       "      <th>19</th>\n",
       "      <td>e</td>\n",
       "      <td>[0.7769230769230769, 0.9076923076923077, 0.853...</td>\n",
       "      <td>loop_control</td>\n",
       "    </tr>\n",
       "    <tr>\n",
       "      <th>20</th>\n",
       "      <td>e</td>\n",
       "      <td>[0.7769230769230769, 0.8615384615384616, 0.9, ...</td>\n",
       "      <td>loop_control</td>\n",
       "    </tr>\n",
       "    <tr>\n",
       "      <th>21</th>\n",
       "      <td>index</td>\n",
       "      <td>[0.8076923076923077, 0.8461538461538461, 0.769...</td>\n",
       "      <td>loop_control</td>\n",
       "    </tr>\n",
       "    <tr>\n",
       "      <th>22</th>\n",
       "      <td>i</td>\n",
       "      <td>[0.8076923076923077, 0.8615384615384616, 0.9, ...</td>\n",
       "      <td>loop_control</td>\n",
       "    </tr>\n",
       "    <tr>\n",
       "      <th>23</th>\n",
       "      <td>s</td>\n",
       "      <td>[0.8846153846153846, 0.8615384615384616, 0.9, ...</td>\n",
       "      <td>loop_control</td>\n",
       "    </tr>\n",
       "    <tr>\n",
       "      <th>24</th>\n",
       "      <td>pos</td>\n",
       "      <td>[0.8615384615384616, 0.8538461538461538, 0.884...</td>\n",
       "      <td>loop_control</td>\n",
       "    </tr>\n",
       "    <tr>\n",
       "      <th>25</th>\n",
       "      <td>end</td>\n",
       "      <td>[0.7769230769230769, 0.8461538461538461, 0.769...</td>\n",
       "      <td>loop_control</td>\n",
       "    </tr>\n",
       "    <tr>\n",
       "      <th>26</th>\n",
       "      <td>i</td>\n",
       "      <td>[0.8076923076923077, 0.8615384615384616, 0.876...</td>\n",
       "      <td>loop_control</td>\n",
       "    </tr>\n",
       "    <tr>\n",
       "      <th>27</th>\n",
       "      <td>m</td>\n",
       "      <td>[0.8384615384615385, 0.8615384615384616, 0.876...</td>\n",
       "      <td>loop_control</td>\n",
       "    </tr>\n",
       "    <tr>\n",
       "      <th>28</th>\n",
       "      <td>kids</td>\n",
       "      <td>[0.823076923076923, 0.8076923076923077, 0.7692...</td>\n",
       "      <td>iterator</td>\n",
       "    </tr>\n",
       "    <tr>\n",
       "      <th>29</th>\n",
       "      <td>keyIterator</td>\n",
       "      <td>[0.823076923076923, 0.7769230769230769, 0.9307...</td>\n",
       "      <td>iterator</td>\n",
       "    </tr>\n",
       "    <tr>\n",
       "      <th>30</th>\n",
       "      <td>valueIterator</td>\n",
       "      <td>[0.9076923076923077, 0.7461538461538462, 0.830...</td>\n",
       "      <td>iterator</td>\n",
       "    </tr>\n",
       "    <tr>\n",
       "      <th>31</th>\n",
       "      <td>repositoryIterator</td>\n",
       "      <td>[0.8769230769230769, 0.7769230769230769, 0.861...</td>\n",
       "      <td>iterator</td>\n",
       "    </tr>\n",
       "    <tr>\n",
       "      <th>32</th>\n",
       "      <td>iter</td>\n",
       "      <td>[0.8076923076923077, 0.8923076923076924, 0.776...</td>\n",
       "      <td>iterator</td>\n",
       "    </tr>\n",
       "    <tr>\n",
       "      <th>33</th>\n",
       "      <td>it</td>\n",
       "      <td>[0.8076923076923077, 0.8923076923076924, 0.861...</td>\n",
       "      <td>iterator</td>\n",
       "    </tr>\n",
       "    <tr>\n",
       "      <th>34</th>\n",
       "      <td>i</td>\n",
       "      <td>[0.8076923076923077, 0.8615384615384616, 0.9, ...</td>\n",
       "      <td>iterator</td>\n",
       "    </tr>\n",
       "    <tr>\n",
       "      <th>35</th>\n",
       "      <td>it</td>\n",
       "      <td>[0.8076923076923077, 0.8923076923076924, 0.861...</td>\n",
       "      <td>iterator</td>\n",
       "    </tr>\n",
       "    <tr>\n",
       "      <th>36</th>\n",
       "      <td>it</td>\n",
       "      <td>[0.8076923076923077, 0.8923076923076924, 0.861...</td>\n",
       "      <td>iterator</td>\n",
       "    </tr>\n",
       "    <tr>\n",
       "      <th>37</th>\n",
       "      <td>iterator</td>\n",
       "      <td>[0.8076923076923077, 0.8923076923076924, 0.776...</td>\n",
       "      <td>iterator</td>\n",
       "    </tr>\n",
       "    <tr>\n",
       "      <th>38</th>\n",
       "      <td>i</td>\n",
       "      <td>[0.8076923076923077, 0.8615384615384616, 0.9, ...</td>\n",
       "      <td>iterator</td>\n",
       "    </tr>\n",
       "    <tr>\n",
       "      <th>39</th>\n",
       "      <td>iterator</td>\n",
       "      <td>[0.8076923076923077, 0.8923076923076924, 0.776...</td>\n",
       "      <td>iterator</td>\n",
       "    </tr>\n",
       "    <tr>\n",
       "      <th>40</th>\n",
       "      <td>lib</td>\n",
       "      <td>[0.8307692307692308, 0.8076923076923077, 0.753...</td>\n",
       "      <td>iterator</td>\n",
       "    </tr>\n",
       "    <tr>\n",
       "      <th>41</th>\n",
       "      <td>editor</td>\n",
       "      <td>[0.7769230769230769, 0.7692307692307693, 0.807...</td>\n",
       "      <td>iterator</td>\n",
       "    </tr>\n",
       "    <tr>\n",
       "      <th>42</th>\n",
       "      <td>path</td>\n",
       "      <td>[0.8615384615384616, 0.7461538461538462, 0.892...</td>\n",
       "      <td>iterator</td>\n",
       "    </tr>\n",
       "    <tr>\n",
       "      <th>43</th>\n",
       "      <td>recentSketch</td>\n",
       "      <td>[0.8769230769230769, 0.7769230769230769, 0.761...</td>\n",
       "      <td>iterator</td>\n",
       "    </tr>\n",
       "    <tr>\n",
       "      <th>44</th>\n",
       "      <td>editor</td>\n",
       "      <td>[0.7769230769230769, 0.7692307692307693, 0.807...</td>\n",
       "      <td>iterator</td>\n",
       "    </tr>\n",
       "    <tr>\n",
       "      <th>45</th>\n",
       "      <td>t_board</td>\n",
       "      <td>[0.8923076923076924, 0.7307692307692307, 0.753...</td>\n",
       "      <td>iterator</td>\n",
       "    </tr>\n",
       "    <tr>\n",
       "      <th>46</th>\n",
       "      <td>networkService</td>\n",
       "      <td>[0.8461538461538461, 0.7769230769230769, 0.892...</td>\n",
       "      <td>iterator</td>\n",
       "    </tr>\n",
       "    <tr>\n",
       "      <th>47</th>\n",
       "      <td>node</td>\n",
       "      <td>[0.8461538461538461, 0.8538461538461538, 0.769...</td>\n",
       "      <td>iterator</td>\n",
       "    </tr>\n",
       "    <tr>\n",
       "      <th>48</th>\n",
       "      <td>edge</td>\n",
       "      <td>[0.7769230769230769, 0.7692307692307693, 0.792...</td>\n",
       "      <td>iterator</td>\n",
       "    </tr>\n",
       "    <tr>\n",
       "      <th>49</th>\n",
       "      <td>source</td>\n",
       "      <td>[0.8846153846153846, 0.8538461538461538, 0.9, ...</td>\n",
       "      <td>iterator</td>\n",
       "    </tr>\n",
       "    <tr>\n",
       "      <th>50</th>\n",
       "      <td>e</td>\n",
       "      <td>[0.7769230769230769, 0.8615384615384616, 0.876...</td>\n",
       "      <td>iterator</td>\n",
       "    </tr>\n",
       "  </tbody>\n",
       "</table>\n",
       "</div>"
      ],
      "text/plain": [
       "                     0                                                  1  \\\n",
       "0                    i  [0.8076923076923077, 0.8615384615384616, 0.9, ...   \n",
       "1                    j  [0.8153846153846154, 0.8615384615384616, 0.9, ...   \n",
       "2                input  [0.8076923076923077, 0.8461538461538461, 0.861...   \n",
       "3               number  [0.8461538461538461, 0.9, 0.8384615384615385, ...   \n",
       "4                  num  [0.8461538461538461, 0.9, 0.8384615384615385, ...   \n",
       "5                    i  [0.8076923076923077, 0.8615384615384616, 0.9, ...   \n",
       "6                    i  [0.8076923076923077, 0.9076923076923077, 0.853...   \n",
       "7                    i  [0.8076923076923077, 0.8615384615384616, 0.9, ...   \n",
       "8                    j  [0.8153846153846154, 0.8615384615384616, 0.9, ...   \n",
       "9              bufSize  [0.7538461538461538, 0.9, 0.7846153846153846, ...   \n",
       "10            totalLen  [0.8923076923076924, 0.8538461538461538, 0.892...   \n",
       "11                 off  [0.8538461538461538, 0.7846153846153846, 0.784...   \n",
       "12                   i  [0.8076923076923077, 0.5846153846153846, 0.584...   \n",
       "13             counter  [0.7615384615384615, 0.8538461538461538, 0.9, ...   \n",
       "14                   i  [0.8076923076923077, 0.8615384615384616, 0.876...   \n",
       "15                   i  [0.8076923076923077, 0.8615384615384616, 0.9, ...   \n",
       "16                   i  [0.8076923076923077, 0.8615384615384616, 0.9, ...   \n",
       "17                   e  [0.7769230769230769, 0.8615384615384616, 0.9, ...   \n",
       "18               index  [0.8076923076923077, 0.8461538461538461, 0.769...   \n",
       "19                   e  [0.7769230769230769, 0.9076923076923077, 0.853...   \n",
       "20                   e  [0.7769230769230769, 0.8615384615384616, 0.9, ...   \n",
       "21               index  [0.8076923076923077, 0.8461538461538461, 0.769...   \n",
       "22                   i  [0.8076923076923077, 0.8615384615384616, 0.9, ...   \n",
       "23                   s  [0.8846153846153846, 0.8615384615384616, 0.9, ...   \n",
       "24                 pos  [0.8615384615384616, 0.8538461538461538, 0.884...   \n",
       "25                 end  [0.7769230769230769, 0.8461538461538461, 0.769...   \n",
       "26                   i  [0.8076923076923077, 0.8615384615384616, 0.876...   \n",
       "27                   m  [0.8384615384615385, 0.8615384615384616, 0.876...   \n",
       "28                kids  [0.823076923076923, 0.8076923076923077, 0.7692...   \n",
       "29         keyIterator  [0.823076923076923, 0.7769230769230769, 0.9307...   \n",
       "30       valueIterator  [0.9076923076923077, 0.7461538461538462, 0.830...   \n",
       "31  repositoryIterator  [0.8769230769230769, 0.7769230769230769, 0.861...   \n",
       "32                iter  [0.8076923076923077, 0.8923076923076924, 0.776...   \n",
       "33                  it  [0.8076923076923077, 0.8923076923076924, 0.861...   \n",
       "34                   i  [0.8076923076923077, 0.8615384615384616, 0.9, ...   \n",
       "35                  it  [0.8076923076923077, 0.8923076923076924, 0.861...   \n",
       "36                  it  [0.8076923076923077, 0.8923076923076924, 0.861...   \n",
       "37            iterator  [0.8076923076923077, 0.8923076923076924, 0.776...   \n",
       "38                   i  [0.8076923076923077, 0.8615384615384616, 0.9, ...   \n",
       "39            iterator  [0.8076923076923077, 0.8923076923076924, 0.776...   \n",
       "40                 lib  [0.8307692307692308, 0.8076923076923077, 0.753...   \n",
       "41              editor  [0.7769230769230769, 0.7692307692307693, 0.807...   \n",
       "42                path  [0.8615384615384616, 0.7461538461538462, 0.892...   \n",
       "43        recentSketch  [0.8769230769230769, 0.7769230769230769, 0.761...   \n",
       "44              editor  [0.7769230769230769, 0.7692307692307693, 0.807...   \n",
       "45             t_board  [0.8923076923076924, 0.7307692307692307, 0.753...   \n",
       "46      networkService  [0.8461538461538461, 0.7769230769230769, 0.892...   \n",
       "47                node  [0.8461538461538461, 0.8538461538461538, 0.769...   \n",
       "48                edge  [0.7769230769230769, 0.7692307692307693, 0.792...   \n",
       "49              source  [0.8846153846153846, 0.8538461538461538, 0.9, ...   \n",
       "50                   e  [0.7769230769230769, 0.8615384615384616, 0.876...   \n",
       "\n",
       "               2  \n",
       "0   loop_control  \n",
       "1   loop_control  \n",
       "2   loop_control  \n",
       "3   loop_control  \n",
       "4   loop_control  \n",
       "5   loop_control  \n",
       "6   loop_control  \n",
       "7   loop_control  \n",
       "8   loop_control  \n",
       "9   loop_control  \n",
       "10  loop_control  \n",
       "11  loop_control  \n",
       "12  loop_control  \n",
       "13  loop_control  \n",
       "14  loop_control  \n",
       "15  loop_control  \n",
       "16  loop_control  \n",
       "17  loop_control  \n",
       "18  loop_control  \n",
       "19  loop_control  \n",
       "20  loop_control  \n",
       "21  loop_control  \n",
       "22  loop_control  \n",
       "23  loop_control  \n",
       "24  loop_control  \n",
       "25  loop_control  \n",
       "26  loop_control  \n",
       "27  loop_control  \n",
       "28      iterator  \n",
       "29      iterator  \n",
       "30      iterator  \n",
       "31      iterator  \n",
       "32      iterator  \n",
       "33      iterator  \n",
       "34      iterator  \n",
       "35      iterator  \n",
       "36      iterator  \n",
       "37      iterator  \n",
       "38      iterator  \n",
       "39      iterator  \n",
       "40      iterator  \n",
       "41      iterator  \n",
       "42      iterator  \n",
       "43      iterator  \n",
       "44      iterator  \n",
       "45      iterator  \n",
       "46      iterator  \n",
       "47      iterator  \n",
       "48      iterator  \n",
       "49      iterator  \n",
       "50      iterator  "
      ]
     },
     "execution_count": 6,
     "metadata": {},
     "output_type": "execute_result"
    }
   ],
   "source": [
    "df['1'] = df['1'].apply(convert_str_to_array)\n",
    "df"
   ]
  },
  {
   "cell_type": "code",
   "execution_count": 7,
   "metadata": {},
   "outputs": [
    {
     "data": {
      "text/html": [
       "<div>\n",
       "<style scoped>\n",
       "    .dataframe tbody tr th:only-of-type {\n",
       "        vertical-align: middle;\n",
       "    }\n",
       "\n",
       "    .dataframe tbody tr th {\n",
       "        vertical-align: top;\n",
       "    }\n",
       "\n",
       "    .dataframe thead th {\n",
       "        text-align: right;\n",
       "    }\n",
       "</style>\n",
       "<table border=\"1\" class=\"dataframe\">\n",
       "  <thead>\n",
       "    <tr style=\"text-align: right;\">\n",
       "      <th></th>\n",
       "      <th>0</th>\n",
       "      <th>1</th>\n",
       "      <th>2</th>\n",
       "      <th>len</th>\n",
       "    </tr>\n",
       "  </thead>\n",
       "  <tbody>\n",
       "    <tr>\n",
       "      <th>0</th>\n",
       "      <td>i</td>\n",
       "      <td>[0.8076923076923077, 0.8615384615384616, 0.9, ...</td>\n",
       "      <td>loop_control</td>\n",
       "      <td>139</td>\n",
       "    </tr>\n",
       "    <tr>\n",
       "      <th>1</th>\n",
       "      <td>j</td>\n",
       "      <td>[0.8153846153846154, 0.8615384615384616, 0.9, ...</td>\n",
       "      <td>loop_control</td>\n",
       "      <td>139</td>\n",
       "    </tr>\n",
       "    <tr>\n",
       "      <th>2</th>\n",
       "      <td>input</td>\n",
       "      <td>[0.8076923076923077, 0.8461538461538461, 0.861...</td>\n",
       "      <td>loop_control</td>\n",
       "      <td>165</td>\n",
       "    </tr>\n",
       "    <tr>\n",
       "      <th>3</th>\n",
       "      <td>number</td>\n",
       "      <td>[0.8461538461538461, 0.9, 0.8384615384615385, ...</td>\n",
       "      <td>loop_control</td>\n",
       "      <td>234</td>\n",
       "    </tr>\n",
       "    <tr>\n",
       "      <th>4</th>\n",
       "      <td>num</td>\n",
       "      <td>[0.8461538461538461, 0.9, 0.8384615384615385, ...</td>\n",
       "      <td>loop_control</td>\n",
       "      <td>333</td>\n",
       "    </tr>\n",
       "    <tr>\n",
       "      <th>5</th>\n",
       "      <td>i</td>\n",
       "      <td>[0.8076923076923077, 0.8615384615384616, 0.9, ...</td>\n",
       "      <td>loop_control</td>\n",
       "      <td>136</td>\n",
       "    </tr>\n",
       "    <tr>\n",
       "      <th>6</th>\n",
       "      <td>i</td>\n",
       "      <td>[0.8076923076923077, 0.9076923076923077, 0.853...</td>\n",
       "      <td>loop_control</td>\n",
       "      <td>232</td>\n",
       "    </tr>\n",
       "    <tr>\n",
       "      <th>7</th>\n",
       "      <td>i</td>\n",
       "      <td>[0.8076923076923077, 0.8615384615384616, 0.9, ...</td>\n",
       "      <td>loop_control</td>\n",
       "      <td>448</td>\n",
       "    </tr>\n",
       "    <tr>\n",
       "      <th>8</th>\n",
       "      <td>j</td>\n",
       "      <td>[0.8153846153846154, 0.8615384615384616, 0.9, ...</td>\n",
       "      <td>loop_control</td>\n",
       "      <td>448</td>\n",
       "    </tr>\n",
       "    <tr>\n",
       "      <th>9</th>\n",
       "      <td>bufSize</td>\n",
       "      <td>[0.7538461538461538, 0.9, 0.7846153846153846, ...</td>\n",
       "      <td>loop_control</td>\n",
       "      <td>711</td>\n",
       "    </tr>\n",
       "    <tr>\n",
       "      <th>10</th>\n",
       "      <td>totalLen</td>\n",
       "      <td>[0.8923076923076924, 0.8538461538461538, 0.892...</td>\n",
       "      <td>loop_control</td>\n",
       "      <td>712</td>\n",
       "    </tr>\n",
       "    <tr>\n",
       "      <th>11</th>\n",
       "      <td>off</td>\n",
       "      <td>[0.8538461538461538, 0.7846153846153846, 0.784...</td>\n",
       "      <td>loop_control</td>\n",
       "      <td>707</td>\n",
       "    </tr>\n",
       "    <tr>\n",
       "      <th>12</th>\n",
       "      <td>i</td>\n",
       "      <td>[0.8076923076923077, 0.5846153846153846, 0.584...</td>\n",
       "      <td>loop_control</td>\n",
       "      <td>231</td>\n",
       "    </tr>\n",
       "    <tr>\n",
       "      <th>13</th>\n",
       "      <td>counter</td>\n",
       "      <td>[0.7615384615384615, 0.8538461538461538, 0.9, ...</td>\n",
       "      <td>loop_control</td>\n",
       "      <td>438</td>\n",
       "    </tr>\n",
       "    <tr>\n",
       "      <th>14</th>\n",
       "      <td>i</td>\n",
       "      <td>[0.8076923076923077, 0.8615384615384616, 0.876...</td>\n",
       "      <td>loop_control</td>\n",
       "      <td>563</td>\n",
       "    </tr>\n",
       "    <tr>\n",
       "      <th>15</th>\n",
       "      <td>i</td>\n",
       "      <td>[0.8076923076923077, 0.8615384615384616, 0.9, ...</td>\n",
       "      <td>loop_control</td>\n",
       "      <td>966</td>\n",
       "    </tr>\n",
       "    <tr>\n",
       "      <th>16</th>\n",
       "      <td>i</td>\n",
       "      <td>[0.8076923076923077, 0.8615384615384616, 0.9, ...</td>\n",
       "      <td>loop_control</td>\n",
       "      <td>351</td>\n",
       "    </tr>\n",
       "    <tr>\n",
       "      <th>17</th>\n",
       "      <td>e</td>\n",
       "      <td>[0.7769230769230769, 0.8615384615384616, 0.9, ...</td>\n",
       "      <td>loop_control</td>\n",
       "      <td>802</td>\n",
       "    </tr>\n",
       "    <tr>\n",
       "      <th>18</th>\n",
       "      <td>index</td>\n",
       "      <td>[0.8076923076923077, 0.8461538461538461, 0.769...</td>\n",
       "      <td>loop_control</td>\n",
       "      <td>806</td>\n",
       "    </tr>\n",
       "    <tr>\n",
       "      <th>19</th>\n",
       "      <td>e</td>\n",
       "      <td>[0.7769230769230769, 0.9076923076923077, 0.853...</td>\n",
       "      <td>loop_control</td>\n",
       "      <td>474</td>\n",
       "    </tr>\n",
       "    <tr>\n",
       "      <th>20</th>\n",
       "      <td>e</td>\n",
       "      <td>[0.7769230769230769, 0.8615384615384616, 0.9, ...</td>\n",
       "      <td>loop_control</td>\n",
       "      <td>802</td>\n",
       "    </tr>\n",
       "    <tr>\n",
       "      <th>21</th>\n",
       "      <td>index</td>\n",
       "      <td>[0.8076923076923077, 0.8461538461538461, 0.769...</td>\n",
       "      <td>loop_control</td>\n",
       "      <td>704</td>\n",
       "    </tr>\n",
       "    <tr>\n",
       "      <th>22</th>\n",
       "      <td>i</td>\n",
       "      <td>[0.8076923076923077, 0.8615384615384616, 0.9, ...</td>\n",
       "      <td>loop_control</td>\n",
       "      <td>326</td>\n",
       "    </tr>\n",
       "    <tr>\n",
       "      <th>23</th>\n",
       "      <td>s</td>\n",
       "      <td>[0.8846153846153846, 0.8615384615384616, 0.9, ...</td>\n",
       "      <td>loop_control</td>\n",
       "      <td>224</td>\n",
       "    </tr>\n",
       "    <tr>\n",
       "      <th>24</th>\n",
       "      <td>pos</td>\n",
       "      <td>[0.8615384615384616, 0.8538461538461538, 0.884...</td>\n",
       "      <td>loop_control</td>\n",
       "      <td>451</td>\n",
       "    </tr>\n",
       "    <tr>\n",
       "      <th>25</th>\n",
       "      <td>end</td>\n",
       "      <td>[0.7769230769230769, 0.8461538461538461, 0.769...</td>\n",
       "      <td>loop_control</td>\n",
       "      <td>451</td>\n",
       "    </tr>\n",
       "    <tr>\n",
       "      <th>26</th>\n",
       "      <td>i</td>\n",
       "      <td>[0.8076923076923077, 0.8615384615384616, 0.876...</td>\n",
       "      <td>loop_control</td>\n",
       "      <td>715</td>\n",
       "    </tr>\n",
       "    <tr>\n",
       "      <th>27</th>\n",
       "      <td>m</td>\n",
       "      <td>[0.8384615384615385, 0.8615384615384616, 0.876...</td>\n",
       "      <td>loop_control</td>\n",
       "      <td>715</td>\n",
       "    </tr>\n",
       "    <tr>\n",
       "      <th>28</th>\n",
       "      <td>kids</td>\n",
       "      <td>[0.823076923076923, 0.8076923076923077, 0.7692...</td>\n",
       "      <td>iterator</td>\n",
       "      <td>299</td>\n",
       "    </tr>\n",
       "    <tr>\n",
       "      <th>29</th>\n",
       "      <td>keyIterator</td>\n",
       "      <td>[0.823076923076923, 0.7769230769230769, 0.9307...</td>\n",
       "      <td>iterator</td>\n",
       "      <td>365</td>\n",
       "    </tr>\n",
       "    <tr>\n",
       "      <th>30</th>\n",
       "      <td>valueIterator</td>\n",
       "      <td>[0.9076923076923077, 0.7461538461538462, 0.830...</td>\n",
       "      <td>iterator</td>\n",
       "      <td>367</td>\n",
       "    </tr>\n",
       "    <tr>\n",
       "      <th>31</th>\n",
       "      <td>repositoryIterator</td>\n",
       "      <td>[0.8769230769230769, 0.7769230769230769, 0.861...</td>\n",
       "      <td>iterator</td>\n",
       "      <td>458</td>\n",
       "    </tr>\n",
       "    <tr>\n",
       "      <th>32</th>\n",
       "      <td>iter</td>\n",
       "      <td>[0.8076923076923077, 0.8923076923076924, 0.776...</td>\n",
       "      <td>iterator</td>\n",
       "      <td>306</td>\n",
       "    </tr>\n",
       "    <tr>\n",
       "      <th>33</th>\n",
       "      <td>it</td>\n",
       "      <td>[0.8076923076923077, 0.8923076923076924, 0.861...</td>\n",
       "      <td>iterator</td>\n",
       "      <td>279</td>\n",
       "    </tr>\n",
       "    <tr>\n",
       "      <th>34</th>\n",
       "      <td>i</td>\n",
       "      <td>[0.8076923076923077, 0.8615384615384616, 0.9, ...</td>\n",
       "      <td>iterator</td>\n",
       "      <td>278</td>\n",
       "    </tr>\n",
       "    <tr>\n",
       "      <th>35</th>\n",
       "      <td>it</td>\n",
       "      <td>[0.8076923076923077, 0.8923076923076924, 0.861...</td>\n",
       "      <td>iterator</td>\n",
       "      <td>358</td>\n",
       "    </tr>\n",
       "    <tr>\n",
       "      <th>36</th>\n",
       "      <td>it</td>\n",
       "      <td>[0.8076923076923077, 0.8923076923076924, 0.861...</td>\n",
       "      <td>iterator</td>\n",
       "      <td>341</td>\n",
       "    </tr>\n",
       "    <tr>\n",
       "      <th>37</th>\n",
       "      <td>iterator</td>\n",
       "      <td>[0.8076923076923077, 0.8923076923076924, 0.776...</td>\n",
       "      <td>iterator</td>\n",
       "      <td>340</td>\n",
       "    </tr>\n",
       "    <tr>\n",
       "      <th>38</th>\n",
       "      <td>i</td>\n",
       "      <td>[0.8076923076923077, 0.8615384615384616, 0.9, ...</td>\n",
       "      <td>iterator</td>\n",
       "      <td>322</td>\n",
       "    </tr>\n",
       "    <tr>\n",
       "      <th>39</th>\n",
       "      <td>iterator</td>\n",
       "      <td>[0.8076923076923077, 0.8923076923076924, 0.776...</td>\n",
       "      <td>iterator</td>\n",
       "      <td>305</td>\n",
       "    </tr>\n",
       "    <tr>\n",
       "      <th>40</th>\n",
       "      <td>lib</td>\n",
       "      <td>[0.8307692307692308, 0.8076923076923077, 0.753...</td>\n",
       "      <td>iterator</td>\n",
       "      <td>601</td>\n",
       "    </tr>\n",
       "    <tr>\n",
       "      <th>41</th>\n",
       "      <td>editor</td>\n",
       "      <td>[0.7769230769230769, 0.7692307692307693, 0.807...</td>\n",
       "      <td>iterator</td>\n",
       "      <td>527</td>\n",
       "    </tr>\n",
       "    <tr>\n",
       "      <th>42</th>\n",
       "      <td>path</td>\n",
       "      <td>[0.8615384615384616, 0.7461538461538462, 0.892...</td>\n",
       "      <td>iterator</td>\n",
       "      <td>743</td>\n",
       "    </tr>\n",
       "    <tr>\n",
       "      <th>43</th>\n",
       "      <td>recentSketch</td>\n",
       "      <td>[0.8769230769230769, 0.7769230769230769, 0.761...</td>\n",
       "      <td>iterator</td>\n",
       "      <td>751</td>\n",
       "    </tr>\n",
       "    <tr>\n",
       "      <th>44</th>\n",
       "      <td>editor</td>\n",
       "      <td>[0.7769230769230769, 0.7692307692307693, 0.807...</td>\n",
       "      <td>iterator</td>\n",
       "      <td>119</td>\n",
       "    </tr>\n",
       "    <tr>\n",
       "      <th>45</th>\n",
       "      <td>t_board</td>\n",
       "      <td>[0.8923076923076924, 0.7307692307692307, 0.753...</td>\n",
       "      <td>iterator</td>\n",
       "      <td>721</td>\n",
       "    </tr>\n",
       "    <tr>\n",
       "      <th>46</th>\n",
       "      <td>networkService</td>\n",
       "      <td>[0.8461538461538461, 0.7769230769230769, 0.892...</td>\n",
       "      <td>iterator</td>\n",
       "      <td>1571</td>\n",
       "    </tr>\n",
       "    <tr>\n",
       "      <th>47</th>\n",
       "      <td>node</td>\n",
       "      <td>[0.8461538461538461, 0.8538461538461538, 0.769...</td>\n",
       "      <td>iterator</td>\n",
       "      <td>211</td>\n",
       "    </tr>\n",
       "    <tr>\n",
       "      <th>48</th>\n",
       "      <td>edge</td>\n",
       "      <td>[0.7769230769230769, 0.7692307692307693, 0.792...</td>\n",
       "      <td>iterator</td>\n",
       "      <td>277</td>\n",
       "    </tr>\n",
       "    <tr>\n",
       "      <th>49</th>\n",
       "      <td>source</td>\n",
       "      <td>[0.8846153846153846, 0.8538461538461538, 0.9, ...</td>\n",
       "      <td>iterator</td>\n",
       "      <td>125</td>\n",
       "    </tr>\n",
       "    <tr>\n",
       "      <th>50</th>\n",
       "      <td>e</td>\n",
       "      <td>[0.7769230769230769, 0.8615384615384616, 0.876...</td>\n",
       "      <td>iterator</td>\n",
       "      <td>430</td>\n",
       "    </tr>\n",
       "  </tbody>\n",
       "</table>\n",
       "</div>"
      ],
      "text/plain": [
       "                     0                                                  1  \\\n",
       "0                    i  [0.8076923076923077, 0.8615384615384616, 0.9, ...   \n",
       "1                    j  [0.8153846153846154, 0.8615384615384616, 0.9, ...   \n",
       "2                input  [0.8076923076923077, 0.8461538461538461, 0.861...   \n",
       "3               number  [0.8461538461538461, 0.9, 0.8384615384615385, ...   \n",
       "4                  num  [0.8461538461538461, 0.9, 0.8384615384615385, ...   \n",
       "5                    i  [0.8076923076923077, 0.8615384615384616, 0.9, ...   \n",
       "6                    i  [0.8076923076923077, 0.9076923076923077, 0.853...   \n",
       "7                    i  [0.8076923076923077, 0.8615384615384616, 0.9, ...   \n",
       "8                    j  [0.8153846153846154, 0.8615384615384616, 0.9, ...   \n",
       "9              bufSize  [0.7538461538461538, 0.9, 0.7846153846153846, ...   \n",
       "10            totalLen  [0.8923076923076924, 0.8538461538461538, 0.892...   \n",
       "11                 off  [0.8538461538461538, 0.7846153846153846, 0.784...   \n",
       "12                   i  [0.8076923076923077, 0.5846153846153846, 0.584...   \n",
       "13             counter  [0.7615384615384615, 0.8538461538461538, 0.9, ...   \n",
       "14                   i  [0.8076923076923077, 0.8615384615384616, 0.876...   \n",
       "15                   i  [0.8076923076923077, 0.8615384615384616, 0.9, ...   \n",
       "16                   i  [0.8076923076923077, 0.8615384615384616, 0.9, ...   \n",
       "17                   e  [0.7769230769230769, 0.8615384615384616, 0.9, ...   \n",
       "18               index  [0.8076923076923077, 0.8461538461538461, 0.769...   \n",
       "19                   e  [0.7769230769230769, 0.9076923076923077, 0.853...   \n",
       "20                   e  [0.7769230769230769, 0.8615384615384616, 0.9, ...   \n",
       "21               index  [0.8076923076923077, 0.8461538461538461, 0.769...   \n",
       "22                   i  [0.8076923076923077, 0.8615384615384616, 0.9, ...   \n",
       "23                   s  [0.8846153846153846, 0.8615384615384616, 0.9, ...   \n",
       "24                 pos  [0.8615384615384616, 0.8538461538461538, 0.884...   \n",
       "25                 end  [0.7769230769230769, 0.8461538461538461, 0.769...   \n",
       "26                   i  [0.8076923076923077, 0.8615384615384616, 0.876...   \n",
       "27                   m  [0.8384615384615385, 0.8615384615384616, 0.876...   \n",
       "28                kids  [0.823076923076923, 0.8076923076923077, 0.7692...   \n",
       "29         keyIterator  [0.823076923076923, 0.7769230769230769, 0.9307...   \n",
       "30       valueIterator  [0.9076923076923077, 0.7461538461538462, 0.830...   \n",
       "31  repositoryIterator  [0.8769230769230769, 0.7769230769230769, 0.861...   \n",
       "32                iter  [0.8076923076923077, 0.8923076923076924, 0.776...   \n",
       "33                  it  [0.8076923076923077, 0.8923076923076924, 0.861...   \n",
       "34                   i  [0.8076923076923077, 0.8615384615384616, 0.9, ...   \n",
       "35                  it  [0.8076923076923077, 0.8923076923076924, 0.861...   \n",
       "36                  it  [0.8076923076923077, 0.8923076923076924, 0.861...   \n",
       "37            iterator  [0.8076923076923077, 0.8923076923076924, 0.776...   \n",
       "38                   i  [0.8076923076923077, 0.8615384615384616, 0.9, ...   \n",
       "39            iterator  [0.8076923076923077, 0.8923076923076924, 0.776...   \n",
       "40                 lib  [0.8307692307692308, 0.8076923076923077, 0.753...   \n",
       "41              editor  [0.7769230769230769, 0.7692307692307693, 0.807...   \n",
       "42                path  [0.8615384615384616, 0.7461538461538462, 0.892...   \n",
       "43        recentSketch  [0.8769230769230769, 0.7769230769230769, 0.761...   \n",
       "44              editor  [0.7769230769230769, 0.7692307692307693, 0.807...   \n",
       "45             t_board  [0.8923076923076924, 0.7307692307692307, 0.753...   \n",
       "46      networkService  [0.8461538461538461, 0.7769230769230769, 0.892...   \n",
       "47                node  [0.8461538461538461, 0.8538461538461538, 0.769...   \n",
       "48                edge  [0.7769230769230769, 0.7692307692307693, 0.792...   \n",
       "49              source  [0.8846153846153846, 0.8538461538461538, 0.9, ...   \n",
       "50                   e  [0.7769230769230769, 0.8615384615384616, 0.876...   \n",
       "\n",
       "               2   len  \n",
       "0   loop_control   139  \n",
       "1   loop_control   139  \n",
       "2   loop_control   165  \n",
       "3   loop_control   234  \n",
       "4   loop_control   333  \n",
       "5   loop_control   136  \n",
       "6   loop_control   232  \n",
       "7   loop_control   448  \n",
       "8   loop_control   448  \n",
       "9   loop_control   711  \n",
       "10  loop_control   712  \n",
       "11  loop_control   707  \n",
       "12  loop_control   231  \n",
       "13  loop_control   438  \n",
       "14  loop_control   563  \n",
       "15  loop_control   966  \n",
       "16  loop_control   351  \n",
       "17  loop_control   802  \n",
       "18  loop_control   806  \n",
       "19  loop_control   474  \n",
       "20  loop_control   802  \n",
       "21  loop_control   704  \n",
       "22  loop_control   326  \n",
       "23  loop_control   224  \n",
       "24  loop_control   451  \n",
       "25  loop_control   451  \n",
       "26  loop_control   715  \n",
       "27  loop_control   715  \n",
       "28      iterator   299  \n",
       "29      iterator   365  \n",
       "30      iterator   367  \n",
       "31      iterator   458  \n",
       "32      iterator   306  \n",
       "33      iterator   279  \n",
       "34      iterator   278  \n",
       "35      iterator   358  \n",
       "36      iterator   341  \n",
       "37      iterator   340  \n",
       "38      iterator   322  \n",
       "39      iterator   305  \n",
       "40      iterator   601  \n",
       "41      iterator   527  \n",
       "42      iterator   743  \n",
       "43      iterator   751  \n",
       "44      iterator   119  \n",
       "45      iterator   721  \n",
       "46      iterator  1571  \n",
       "47      iterator   211  \n",
       "48      iterator   277  \n",
       "49      iterator   125  \n",
       "50      iterator   430  "
      ]
     },
     "execution_count": 7,
     "metadata": {},
     "output_type": "execute_result"
    }
   ],
   "source": [
    "df['len'] = df['1'].apply(len)\n",
    "df"
   ]
  },
  {
   "cell_type": "code",
   "execution_count": 8,
   "metadata": {},
   "outputs": [
    {
     "data": {
      "text/plain": [
       "1671"
      ]
     },
     "execution_count": 8,
     "metadata": {},
     "output_type": "execute_result"
    }
   ],
   "source": [
    "maxlen = df['len'].max() + 100\n",
    "maxlen"
   ]
  },
  {
   "cell_type": "code",
   "execution_count": 9,
   "metadata": {},
   "outputs": [],
   "source": [
    "df['squared'] = df['1'].apply(squaring, args = (maxlen, ))"
   ]
  },
  {
   "cell_type": "code",
   "execution_count": 10,
   "metadata": {},
   "outputs": [],
   "source": [
    "df['Y'] = df['2'].apply(lambda x: int(x == 'iterator'))"
   ]
  },
  {
   "cell_type": "code",
   "execution_count": 11,
   "metadata": {},
   "outputs": [
    {
     "data": {
      "text/plain": [
       "0     0\n",
       "1     0\n",
       "2     0\n",
       "3     0\n",
       "4     0\n",
       "5     0\n",
       "6     0\n",
       "7     0\n",
       "8     0\n",
       "9     0\n",
       "10    0\n",
       "11    0\n",
       "12    0\n",
       "13    0\n",
       "14    0\n",
       "15    0\n",
       "16    0\n",
       "17    0\n",
       "18    0\n",
       "19    0\n",
       "20    0\n",
       "21    0\n",
       "22    0\n",
       "23    0\n",
       "24    0\n",
       "25    0\n",
       "26    0\n",
       "27    0\n",
       "28    1\n",
       "29    1\n",
       "30    1\n",
       "31    1\n",
       "32    1\n",
       "33    1\n",
       "34    1\n",
       "35    1\n",
       "36    1\n",
       "37    1\n",
       "38    1\n",
       "39    1\n",
       "40    1\n",
       "41    1\n",
       "42    1\n",
       "43    1\n",
       "44    1\n",
       "45    1\n",
       "46    1\n",
       "47    1\n",
       "48    1\n",
       "49    1\n",
       "50    1\n",
       "Name: Y, dtype: int64"
      ]
     },
     "execution_count": 11,
     "metadata": {},
     "output_type": "execute_result"
    }
   ],
   "source": [
    "df['Y']"
   ]
  },
  {
   "cell_type": "code",
   "execution_count": 12,
   "metadata": {},
   "outputs": [
    {
     "data": {
      "text/plain": [
       "(array([[0],\n",
       "        [0],\n",
       "        [0],\n",
       "        [0],\n",
       "        [0],\n",
       "        [0],\n",
       "        [0],\n",
       "        [0],\n",
       "        [0],\n",
       "        [0],\n",
       "        [0],\n",
       "        [0],\n",
       "        [0],\n",
       "        [0],\n",
       "        [0],\n",
       "        [0],\n",
       "        [0],\n",
       "        [0],\n",
       "        [0],\n",
       "        [0],\n",
       "        [0],\n",
       "        [0],\n",
       "        [0],\n",
       "        [0],\n",
       "        [0],\n",
       "        [0],\n",
       "        [0],\n",
       "        [0],\n",
       "        [1],\n",
       "        [1],\n",
       "        [1],\n",
       "        [1],\n",
       "        [1],\n",
       "        [1],\n",
       "        [1],\n",
       "        [1],\n",
       "        [1],\n",
       "        [1],\n",
       "        [1],\n",
       "        [1],\n",
       "        [1],\n",
       "        [1],\n",
       "        [1],\n",
       "        [1],\n",
       "        [1],\n",
       "        [1],\n",
       "        [1],\n",
       "        [1],\n",
       "        [1],\n",
       "        [1],\n",
       "        [1]]),\n",
       " (51, 1))"
      ]
     },
     "execution_count": 12,
     "metadata": {},
     "output_type": "execute_result"
    }
   ],
   "source": [
    "X = np.array(df['squared'].tolist())\n",
    "Y = df['Y'].to_numpy()[:, np.newaxis]\n",
    "Y, Y.shape"
   ]
  },
  {
   "cell_type": "markdown",
   "metadata": {},
   "source": [
    "## Using Tensorflow to classify the files"
   ]
  },
  {
   "cell_type": "code",
   "execution_count": 13,
   "metadata": {},
   "outputs": [],
   "source": [
    "import math\n",
    "import numpy as np\n",
    "import matplotlib.pyplot as plt\n",
    "from matplotlib.pyplot import imread\n",
    "import scipy\n",
    "from PIL import Image\n",
    "import pandas as pd\n",
    "import tensorflow as tf\n",
    "import tensorflow.keras.layers as tfl\n",
    "from tensorflow.python.framework import ops\n",
    "\n",
    "%matplotlib inline\n",
    "np.random.seed(1)"
   ]
  },
  {
   "cell_type": "code",
   "execution_count": 14,
   "metadata": {},
   "outputs": [
    {
     "name": "stdout",
     "output_type": "stream",
     "text": [
      "(51, 1587)\n",
      "(51, 1)\n"
     ]
    }
   ],
   "source": [
    "print(X.shape)\n",
    "print(Y.shape)"
   ]
  },
  {
   "cell_type": "code",
   "execution_count": 15,
   "metadata": {},
   "outputs": [
    {
     "data": {
      "image/png": "[encoded data removed]",
      "text/plain": [
       "<Figure size 432x288 with 1 Axes>"
      ]
     },
     "metadata": {
      "needs_background": "light"
     },
     "output_type": "display_data"
    },
    {
     "data": {
      "image/png": "[encoded data removed]",
      "text/plain": [
       "<Figure size 432x288 with 1 Axes>"
      ]
     },
     "metadata": {
      "needs_background": "light"
     },
     "output_type": "display_data"
    },
    {
     "data": {
      "image/png": "[encoded data removed]",
      "text/plain": [
       "<Figure size 432x288 with 1 Axes>"
      ]
     },
     "metadata": {
      "needs_background": "light"
     },
     "output_type": "display_data"
    },
    {
     "data": {
      "image/png": "[encoded data removed]",
      "text/plain": [
       "<Figure size 432x288 with 1 Axes>"
      ]
     },
     "metadata": {
      "needs_background": "light"
     },
     "output_type": "display_data"
    },
    {
     "data": {
      "image/png": "[encoded data removed]",
      "text/plain": [
       "<Figure size 432x288 with 1 Axes>"
      ]
     },
     "metadata": {
      "needs_background": "light"
     },
     "output_type": "display_data"
    },
    {
     "data": {
      "image/png": "[encoded data removed]",
      "text/plain": [
       "<Figure size 432x288 with 1 Axes>"
      ]
     },
     "metadata": {
      "needs_background": "light"
     },
     "output_type": "display_data"
    },
    {
     "data": {
      "image/png": "[encoded data removed]",
      "text/plain": [
       "<Figure size 432x288 with 1 Axes>"
      ]
     },
     "metadata": {
      "needs_background": "light"
     },
     "output_type": "display_data"
    },
    {
     "data": {
      "image/png": "[encoded data removed]",
      "text/plain": [
       "<Figure size 432x288 with 1 Axes>"
      ]
     },
     "metadata": {
      "needs_background": "light"
     },
     "output_type": "display_data"
    },
    {
     "data": {
      "image/png": "[encoded data removed]",
      "text/plain": [
       "<Figure size 432x288 with 1 Axes>"
      ]
     },
     "metadata": {
      "needs_background": "light"
     },
     "output_type": "display_data"
    },
    {
     "data": {
      "image/png": "[encoded data removed]",
      "text/plain": [
       "<Figure size 432x288 with 1 Axes>"
      ]
     },
     "metadata": {
      "needs_background": "light"
     },
     "output_type": "display_data"
    },
    {
     "data": {
      "image/png": "[encoded data removed]",
      "text/plain": [
       "<Figure size 432x288 with 1 Axes>"
      ]
     },
     "metadata": {
      "needs_background": "light"
     },
     "output_type": "display_data"
    },
    {
     "data": {
      "image/png": "[encoded data removed]",
      "text/plain": [
       "<Figure size 432x288 with 1 Axes>"
      ]
     },
     "metadata": {
      "needs_background": "light"
     },
     "output_type": "display_data"
    },
    {
     "data": {
      "image/png": "[encoded data removed]",
      "text/plain": [
       "<Figure size 432x288 with 1 Axes>"
      ]
     },
     "metadata": {
      "needs_background": "light"
     },
     "output_type": "display_data"
    },
    {
     "data": {
      "image/png": "[encoded data removed]",
      "text/plain": [
       "<Figure size 432x288 with 1 Axes>"
      ]
     },
     "metadata": {
      "needs_background": "light"
     },
     "output_type": "display_data"
    },
    {
     "data": {
      "image/png": "[encoded data removed]",
      "text/plain": [
       "<Figure size 432x288 with 1 Axes>"
      ]
     },
     "metadata": {
      "needs_background": "light"
     },
     "output_type": "display_data"
    },
    {
     "data": {
      "image/png": "[encoded data removed]",
      "text/plain": [
       "<Figure size 432x288 with 1 Axes>"
      ]
     },
     "metadata": {
      "needs_background": "light"
     },
     "output_type": "display_data"
    },
    {
     "data": {
      "image/png": "[encoded data removed]",
      "text/plain": [
       "<Figure size 432x288 with 1 Axes>"
      ]
     },
     "metadata": {
      "needs_background": "light"
     },
     "output_type": "display_data"
    },
    {
     "data": {
      "image/png": "[encoded data removed]",
      "text/plain": [
       "<Figure size 432x288 with 1 Axes>"
      ]
     },
     "metadata": {
      "needs_background": "light"
     },
     "output_type": "display_data"
    },
    {
     "data": {
      "image/png": "[encoded data removed]",
      "text/plain": [
       "<Figure size 432x288 with 1 Axes>"
      ]
     },
     "metadata": {
      "needs_background": "light"
     },
     "output_type": "display_data"
    },
    {
     "data": {
      "image/png": "[encoded data removed]",
      "text/plain": [
       "<Figure size 432x288 with 1 Axes>"
      ]
     },
     "metadata": {
      "needs_background": "light"
     },
     "output_type": "display_data"
    },
    {
     "data": {
      "image/png": "[encoded data removed]",
      "text/plain": [
       "<Figure size 432x288 with 1 Axes>"
      ]
     },
     "metadata": {
      "needs_background": "light"
     },
     "output_type": "display_data"
    },
    {
     "data": {
      "image/png": "[encoded data removed]",
      "text/plain": [
       "<Figure size 432x288 with 1 Axes>"
      ]
     },
     "metadata": {
      "needs_background": "light"
     },
     "output_type": "display_data"
    },
    {
     "data": {
      "image/png": "[encoded data removed]",
      "text/plain": [
       "<Figure size 432x288 with 1 Axes>"
      ]
     },
     "metadata": {
      "needs_background": "light"
     },
     "output_type": "display_data"
    },
    {
     "data": {
      "image/png": "[encoded data removed]",
      "text/plain": [
       "<Figure size 432x288 with 1 Axes>"
      ]
     },
     "metadata": {
      "needs_background": "light"
     },
     "output_type": "display_data"
    },
    {
     "data": {
      "image/png": "[encoded data removed]",
      "text/plain": [
       "<Figure size 432x288 with 1 Axes>"
      ]
     },
     "metadata": {
      "needs_background": "light"
     },
     "output_type": "display_data"
    },
    {
     "data": {
      "image/png": "[encoded data removed]",
      "text/plain": [
       "<Figure size 432x288 with 1 Axes>"
      ]
     },
     "metadata": {
      "needs_background": "light"
     },
     "output_type": "display_data"
    },
    {
     "data": {
      "image/png": "[encoded data removed]",
      "text/plain": [
       "<Figure size 432x288 with 1 Axes>"
      ]
     },
     "metadata": {
      "needs_background": "light"
     },
     "output_type": "display_data"
    },
    {
     "data": {
      "image/png": "[encoded data removed]",
      "text/plain": [
       "<Figure size 432x288 with 1 Axes>"
      ]
     },
     "metadata": {
      "needs_background": "light"
     },
     "output_type": "display_data"
    },
    {
     "data": {
      "image/png": "[encoded data removed]",
      "text/plain": [
       "<Figure size 432x288 with 1 Axes>"
      ]
     },
     "metadata": {
      "needs_background": "light"
     },
     "output_type": "display_data"
    },
    {
     "data": {
      "image/png": "[encoded data removed]",
      "text/plain": [
       "<Figure size 432x288 with 1 Axes>"
      ]
     },
     "metadata": {
      "needs_background": "light"
     },
     "output_type": "display_data"
    },
    {
     "data": {
      "image/png": "[encoded data removed]",
      "text/plain": [
       "<Figure size 432x288 with 1 Axes>"
      ]
     },
     "metadata": {
      "needs_background": "light"
     },
     "output_type": "display_data"
    },
    {
     "data": {
      "image/png": "[encoded data removed]",
      "text/plain": [
       "<Figure size 432x288 with 1 Axes>"
      ]
     },
     "metadata": {
      "needs_background": "light"
     },
     "output_type": "display_data"
    },
    {
     "data": {
      "image/png": "[encoded data removed]",
      "text/plain": [
       "<Figure size 432x288 with 1 Axes>"
      ]
     },
     "metadata": {
      "needs_background": "light"
     },
     "output_type": "display_data"
    },
    {
     "data": {
      "image/png": "[encoded data removed]",
      "text/plain": [
       "<Figure size 432x288 with 1 Axes>"
      ]
     },
     "metadata": {
      "needs_background": "light"
     },
     "output_type": "display_data"
    },
    {
     "data": {
      "image/png": "[encoded data removed]",
      "text/plain": [
       "<Figure size 432x288 with 1 Axes>"
      ]
     },
     "metadata": {
      "needs_background": "light"
     },
     "output_type": "display_data"
    },
    {
     "data": {
      "image/png": "[encoded data removed]",
      "text/plain": [
       "<Figure size 432x288 with 1 Axes>"
      ]
     },
     "metadata": {
      "needs_background": "light"
     },
     "output_type": "display_data"
    },
    {
     "data": {
      "image/png": "[encoded data removed]",
      "text/plain": [
       "<Figure size 432x288 with 1 Axes>"
      ]
     },
     "metadata": {
      "needs_background": "light"
     },
     "output_type": "display_data"
    },
    {
     "data": {
      "image/png": "[encoded data removed]",
      "text/plain": [
       "<Figure size 432x288 with 1 Axes>"
      ]
     },
     "metadata": {
      "needs_background": "light"
     },
     "output_type": "display_data"
    },
    {
     "data": {
      "image/png": "[encoded data removed]",
      "text/plain": [
       "<Figure size 432x288 with 1 Axes>"
      ]
     },
     "metadata": {
      "needs_background": "light"
     },
     "output_type": "display_data"
    },
    {
     "data": {
      "image/png": "[encoded data removed]",
      "text/plain": [
       "<Figure size 432x288 with 1 Axes>"
      ]
     },
     "metadata": {
      "needs_background": "light"
     },
     "output_type": "display_data"
    },
    {
     "data": {
      "image/png": "[encoded data removed]",
      "text/plain": [
       "<Figure size 432x288 with 1 Axes>"
      ]
     },
     "metadata": {
      "needs_background": "light"
     },
     "output_type": "display_data"
    },
    {
     "data": {
      "image/png": "[encoded data removed]",
      "text/plain": [
       "<Figure size 432x288 with 1 Axes>"
      ]
     },
     "metadata": {
      "needs_background": "light"
     },
     "output_type": "display_data"
    },
    {
     "data": {
      "image/png": "[encoded data removed]",
      "text/plain": [
       "<Figure size 432x288 with 1 Axes>"
      ]
     },
     "metadata": {
      "needs_background": "light"
     },
     "output_type": "display_data"
    },
    {
     "data": {
      "image/png": "[encoded data removed]",
      "text/plain": [
       "<Figure size 432x288 with 1 Axes>"
      ]
     },
     "metadata": {
      "needs_background": "light"
     },
     "output_type": "display_data"
    },
    {
     "data": {
      "image/png": "[encoded data removed]",
      "text/plain": [
       "<Figure size 432x288 with 1 Axes>"
      ]
     },
     "metadata": {
      "needs_background": "light"
     },
     "output_type": "display_data"
    },
    {
     "data": {
      "image/png": "[encoded data removed]",
      "text/plain": [
       "<Figure size 432x288 with 1 Axes>"
      ]
     },
     "metadata": {
      "needs_background": "light"
     },
     "output_type": "display_data"
    },
    {
     "data": {
      "image/png": "[encoded data removed]",
      "text/plain": [
       "<Figure size 432x288 with 1 Axes>"
      ]
     },
     "metadata": {
      "needs_background": "light"
     },
     "output_type": "display_data"
    },
    {
     "data": {
      "image/png": "[encoded data removed]",
      "text/plain": [
       "<Figure size 432x288 with 1 Axes>"
      ]
     },
     "metadata": {
      "needs_background": "light"
     },
     "output_type": "display_data"
    },
    {
     "data": {
      "image/png": "[encoded data removed]",
      "text/plain": [
       "<Figure size 432x288 with 1 Axes>"
      ]
     },
     "metadata": {
      "needs_background": "light"
     },
     "output_type": "display_data"
    },
    {
     "data": {
      "image/png": "[encoded data removed]",
      "text/plain": [
       "<Figure size 432x288 with 1 Axes>"
      ]
     },
     "metadata": {
      "needs_background": "light"
     },
     "output_type": "display_data"
    },
    {
     "data": {
      "image/png": "[encoded data removed]",
      "text/plain": [
       "<Figure size 432x288 with 1 Axes>"
      ]
     },
     "metadata": {
      "needs_background": "light"
     },
     "output_type": "display_data"
    }
   ],
   "source": [
    "def show_compiled_as_image(index):\n",
    "    height = int( math.sqrt( int(  len(df['1'][index]) / 3 ) ) )\n",
    "    width = height\n",
    "    total_pixels = height * width * 3\n",
    "\n",
    "    #print(\"X[index] = \", len(X[index]))\n",
    "    #print(\"total_pixels = \", total_pixels)\n",
    "\n",
    "    test = X[index,:total_pixels]\n",
    "\n",
    "    test = np.reshape(test, (height, width, 3))\n",
    "\n",
    "    plt.imshow(test) #display sample training image\n",
    "    plt.show()\n",
    "\n",
    "for i in range(X.shape[0]):\n",
    "    show_compiled_as_image(i)"
   ]
  },
  {
   "cell_type": "markdown",
   "metadata": {},
   "source": [
    "Shuffling and breaking in train and test set."
   ]
  },
  {
   "cell_type": "code",
   "execution_count": 16,
   "metadata": {},
   "outputs": [],
   "source": [
    "randomize = np.arange(len(df['0'].tolist()))\n",
    "np.random.shuffle(randomize)\n",
    "\n",
    "X_shuffled = X[randomize]\n",
    "Y_shuffled = Y[randomize]\n",
    "# names_randomized = np.array(file_names)[randomize]\n",
    "\n",
    "size_train = 25\n",
    "\n",
    "X_train = X_shuffled[:size_train]\n",
    "X_train = np.reshape(X_train, (size_train, 23, 23, 3))\n",
    "\n",
    "X_test  = X_shuffled[size_train:]\n",
    "X_test = np.reshape(X_test, (len(df['0'].tolist())-size_train, 23, 23, 3))\n",
    "\n",
    "Y_train = Y_shuffled[:size_train]\n",
    "Y_test  = Y_shuffled[size_train:]\n",
    "\n",
    "#print(Y_shuffled)\n",
    "#print(names_randomized)"
   ]
  },
  {
   "cell_type": "markdown",
   "metadata": {},
   "source": [
    "Creating my model."
   ]
  },
  {
   "cell_type": "code",
   "execution_count": 17,
   "metadata": {},
   "outputs": [],
   "source": [
    "def my_model():\n",
    "    \"\"\"\n",
    "    Implements the forward propagation for the binary classification model:\n",
    "    ZEROPAD2D -> CONV2D -> BATCHNORM -> RELU -> MAXPOOL -> FLATTEN -> DENSE\n",
    "    \n",
    "    Arguments:\n",
    "    None\n",
    "\n",
    "    Returns:\n",
    "    model -- TF Keras model (object containing the information for the entire training process) \n",
    "    \"\"\"\n",
    "    model = tf.keras.Sequential([\n",
    "            \n",
    "        ## ZeroPadding2D with padding 3, input shape of height x width x 3\n",
    "        tfl.ZeroPadding2D(padding=3,input_shape=(23, 23, 3)) ,\n",
    "        \n",
    "        ## Conv2D with 32 7x7 filters and stride of 1\n",
    "        tfl.Conv2D(filters=32, kernel_size=7, strides=1) ,\n",
    "        \n",
    "        ## BatchNormalization for axis 3\n",
    "        tfl.BatchNormalization(axis=3) ,\n",
    "        \n",
    "        ## ReLU\n",
    "        tfl.ReLU(),\n",
    "        \n",
    "        ## Max Pooling 2D with default parameters\n",
    "        tfl.MaxPooling2D(),\n",
    "        \n",
    "        ## Flatten layer\n",
    "        tfl.Flatten(),\n",
    "        \n",
    "        ## Dense layer with 1 unit for output & 'sigmoid' activation\n",
    "        tfl.Dense(units=1, activation='sigmoid')\n",
    "\n",
    "        ])\n",
    "    \n",
    "    return model"
   ]
  },
  {
   "cell_type": "markdown",
   "metadata": {},
   "source": [
    "Defining the optimizar, loss function and metric."
   ]
  },
  {
   "cell_type": "code",
   "execution_count": 18,
   "metadata": {},
   "outputs": [
    {
     "name": "stdout",
     "output_type": "stream",
     "text": [
      "Model: \"sequential\"\n",
      "_________________________________________________________________\n",
      "Layer (type)                 Output Shape              Param #   \n",
      "=================================================================\n",
      "zero_padding2d (ZeroPadding2 (None, 29, 29, 3)         0         \n",
      "_________________________________________________________________\n",
      "conv2d (Conv2D)              (None, 23, 23, 32)        4736      \n",
      "_________________________________________________________________\n",
      "batch_normalization (BatchNo (None, 23, 23, 32)        128       \n",
      "_________________________________________________________________\n",
      "re_lu (ReLU)                 (None, 23, 23, 32)        0         \n",
      "_________________________________________________________________\n",
      "max_pooling2d (MaxPooling2D) (None, 11, 11, 32)        0         \n",
      "_________________________________________________________________\n",
      "flatten (Flatten)            (None, 3872)              0         \n",
      "_________________________________________________________________\n",
      "dense (Dense)                (None, 1)                 3873      \n",
      "=================================================================\n",
      "Total params: 8,737\n",
      "Trainable params: 8,673\n",
      "Non-trainable params: 64\n",
      "_________________________________________________________________\n"
     ]
    },
    {
     "name": "stderr",
     "output_type": "stream",
     "text": [
      "2022-02-20 20:44:20.380683: I tensorflow/compiler/jit/xla_cpu_device.cc:41] Not creating XLA devices, tf_xla_enable_xla_devices not set\n",
      "2022-02-20 20:44:20.380923: I tensorflow/core/platform/cpu_feature_guard.cc:142] This TensorFlow binary is optimized with oneAPI Deep Neural Network Library (oneDNN) to use the following CPU instructions in performance-critical operations:  SSE4.1 SSE4.2 AVX AVX2 FMA\n",
      "To enable them in other operations, rebuild TensorFlow with the appropriate compiler flags.\n",
      "2022-02-20 20:44:20.381343: I tensorflow/core/common_runtime/process_util.cc:146] Creating new thread pool with default inter op setting: 2. Tune using inter_op_parallelism_threads for best performance.\n"
     ]
    }
   ],
   "source": [
    "my_model = my_model()\n",
    "my_model.compile(optimizer='adam',\n",
    "                 loss='binary_crossentropy',\n",
    "                 metrics=['accuracy'])\n",
    "my_model.summary()"
   ]
  },
  {
   "cell_type": "code",
   "execution_count": 21,
   "metadata": {},
   "outputs": [
    {
     "name": "stdout",
     "output_type": "stream",
     "text": [
      "Epoch 1/30\n",
      "1/1 [==============================] - 0s 105ms/step - loss: 0.0496 - accuracy: 1.0000\n",
      "Epoch 2/30\n",
      "1/1 [==============================] - 0s 88ms/step - loss: 0.0466 - accuracy: 1.0000\n",
      "Epoch 3/30\n",
      "1/1 [==============================] - 0s 42ms/step - loss: 0.0442 - accuracy: 1.0000\n",
      "Epoch 4/30\n",
      "1/1 [==============================] - 0s 56ms/step - loss: 0.0405 - accuracy: 1.0000\n",
      "Epoch 5/30\n",
      "1/1 [==============================] - 0s 53ms/step - loss: 0.0362 - accuracy: 1.0000\n",
      "Epoch 6/30\n",
      "1/1 [==============================] - 0s 164ms/step - loss: 0.0325 - accuracy: 1.0000\n",
      "Epoch 7/30\n",
      "1/1 [==============================] - 0s 61ms/step - loss: 0.0298 - accuracy: 1.0000\n",
      "Epoch 8/30\n",
      "1/1 [==============================] - 0s 40ms/step - loss: 0.0277 - accuracy: 1.0000\n",
      "Epoch 9/30\n",
      "1/1 [==============================] - 0s 49ms/step - loss: 0.0260 - accuracy: 1.0000\n",
      "Epoch 10/30\n",
      "1/1 [==============================] - 0s 67ms/step - loss: 0.0242 - accuracy: 1.0000\n",
      "Epoch 11/30\n",
      "1/1 [==============================] - 0s 40ms/step - loss: 0.0223 - accuracy: 1.0000\n",
      "Epoch 12/30\n",
      "1/1 [==============================] - 0s 58ms/step - loss: 0.0206 - accuracy: 1.0000\n",
      "Epoch 13/30\n",
      "1/1 [==============================] - 0s 96ms/step - loss: 0.0192 - accuracy: 1.0000\n",
      "Epoch 14/30\n",
      "1/1 [==============================] - 0s 92ms/step - loss: 0.0181 - accuracy: 1.0000\n",
      "Epoch 15/30\n",
      "1/1 [==============================] - 0s 50ms/step - loss: 0.0171 - accuracy: 1.0000\n",
      "Epoch 16/30\n",
      "1/1 [==============================] - 0s 122ms/step - loss: 0.0162 - accuracy: 1.0000\n",
      "Epoch 17/30\n",
      "1/1 [==============================] - 0s 74ms/step - loss: 0.0152 - accuracy: 1.0000\n",
      "Epoch 18/30\n",
      "1/1 [==============================] - 0s 123ms/step - loss: 0.0143 - accuracy: 1.0000\n",
      "Epoch 19/30\n",
      "1/1 [==============================] - 0s 169ms/step - loss: 0.0135 - accuracy: 1.0000\n",
      "Epoch 20/30\n",
      "1/1 [==============================] - 0s 239ms/step - loss: 0.0128 - accuracy: 1.0000\n",
      "Epoch 21/30\n",
      "1/1 [==============================] - 0s 68ms/step - loss: 0.0122 - accuracy: 1.0000\n",
      "Epoch 22/30\n",
      "1/1 [==============================] - 0s 104ms/step - loss: 0.0117 - accuracy: 1.0000\n",
      "Epoch 23/30\n",
      "1/1 [==============================] - 0s 158ms/step - loss: 0.0113 - accuracy: 1.0000\n",
      "Epoch 24/30\n",
      "1/1 [==============================] - 0s 88ms/step - loss: 0.0108 - accuracy: 1.0000\n",
      "Epoch 25/30\n",
      "1/1 [==============================] - 0s 83ms/step - loss: 0.0103 - accuracy: 1.0000\n",
      "Epoch 26/30\n",
      "1/1 [==============================] - 0s 79ms/step - loss: 0.0099 - accuracy: 1.0000\n",
      "Epoch 27/30\n",
      "1/1 [==============================] - 0s 136ms/step - loss: 0.0094 - accuracy: 1.0000\n",
      "Epoch 28/30\n",
      "1/1 [==============================] - 0s 86ms/step - loss: 0.0090 - accuracy: 1.0000\n",
      "Epoch 29/30\n",
      "1/1 [==============================] - 0s 102ms/step - loss: 0.0087 - accuracy: 1.0000\n",
      "Epoch 30/30\n",
      "1/1 [==============================] - 0s 137ms/step - loss: 0.0083 - accuracy: 1.0000\n"
     ]
    },
    {
     "data": {
      "text/plain": [
       "<tensorflow.python.keras.callbacks.History at 0x7fc6eefdf850>"
      ]
     },
     "execution_count": 21,
     "metadata": {},
     "output_type": "execute_result"
    }
   ],
   "source": [
    "my_model.fit(X_train, Y_train, epochs=30, batch_size=len(df['0'].tolist()))"
   ]
  },
  {
   "cell_type": "code",
   "execution_count": 23,
   "metadata": {},
   "outputs": [
    {
     "name": "stdout",
     "output_type": "stream",
     "text": [
      "1/1 [==============================] - 0s 83ms/step - loss: 0.6513 - accuracy: 0.5000\n"
     ]
    },
    {
     "data": {
      "text/plain": [
       "[0.6513399481773376, 0.5]"
      ]
     },
     "execution_count": 23,
     "metadata": {},
     "output_type": "execute_result"
    }
   ],
   "source": [
    "my_model.evaluate(X_test, Y_test)"
   ]
  }
 ],
 "metadata": {
  "kernelspec": {
   "display_name": "Python 3 (ipykernel)",
   "language": "python",
   "name": "python3"
  },
  "language_info": {
   "codemirror_mode": {
    "name": "ipython",
    "version": 3
   },
   "file_extension": ".py",
   "mimetype": "text/x-python",
   "name": "python",
   "nbconvert_exporter": "python",
   "pygments_lexer": "ipython3",
   "version": "3.9.7"
  }
 },
 "nbformat": 4,
 "nbformat_minor": 4
}
