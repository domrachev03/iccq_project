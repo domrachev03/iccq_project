{
 "cells": [
  {
   "cell_type": "markdown",
   "id": "RVU-ZcZOdQzY",
   "metadata": {
    "id": "RVU-ZcZOdQzY"
   },
   "source": [
    "# Code examples\n",
    "\n",
    "Building the dataset with examples of tuples (name of the variable, code snippet, type of variable [loop control / iterator / the others]."
   ]
  },
  {
   "cell_type": "markdown",
   "id": "a6FYfxtCdQzg",
   "metadata": {
    "id": "a6FYfxtCdQzg"
   },
   "source": [
    "## Loop Control Variables"
   ]
  },
  {
   "cell_type": "markdown",
   "id": "zdjqIGpxdQzi",
   "metadata": {
    "id": "zdjqIGpxdQzi"
   },
   "source": [
    "In this category falls any variable responsible for an element position in a data structure."
   ]
  },
  {
   "cell_type": "code",
   "execution_count": 1,
   "id": "Cr9kDfgLheOE",
   "metadata": {
    "id": "Cr9kDfgLheOE"
   },
   "outputs": [],
   "source": [
    "variables_name = []\n",
    "variables_code = []\n",
    "variables_category = []"
   ]
  },
  {
   "cell_type": "markdown",
   "id": "kqBQWYiidQzk",
   "metadata": {
    "id": "kqBQWYiidQzk"
   },
   "source": [
    "### Example 1"
   ]
  },
  {
   "cell_type": "code",
   "execution_count": 2,
   "id": "ATTTFN2MhmTF",
   "metadata": {
    "id": "ATTTFN2MhmTF"
   },
   "outputs": [],
   "source": [
    "variables_name.append(\"i\")\n",
    "variables_code.append(\"\"\"\n",
    "public static int isPairSum(int A[], int N, int X)\n",
    "    {\n",
    "        int i = 0;\n",
    "        int j = N - 1;\n",
    " \n",
    "        do {\n",
    "            if (A[i] + A[j] == X) \n",
    "                return 1;\n",
    "            else if (A[i] + A[j] < X)\n",
    "                i++;\n",
    "            else\n",
    "                j--;\n",
    "        } while (i < j);\n",
    "        return 0;\n",
    "    }\n",
    "\"\"\")\n",
    "variables_category.append(\"loop_control\")"
   ]
  },
  {
   "cell_type": "code",
   "execution_count": 3,
   "id": "rDE4qyq7aRWz",
   "metadata": {
    "id": "rDE4qyq7aRWz"
   },
   "outputs": [],
   "source": [
    "variables_name.append(\"j\")\n",
    "variables_code.append(\"\"\"\n",
    "public static int isPairSum(int A[], int N, int X)\n",
    "    {\n",
    "        int i = 0;\n",
    "        int j = N - 1;\n",
    " \n",
    "        do {\n",
    "            if (A[i] + A[j] == X) \n",
    "                return 1;\n",
    "            else if (A[i] + A[j] < X)\n",
    "                i++;\n",
    "            else\n",
    "                j--;\n",
    "        } while (i < j);\n",
    "        return 0;\n",
    "    }\n",
    "\"\"\")\n",
    "variables_category.append(\"loop_control\")"
   ]
  },
  {
   "cell_type": "markdown",
   "id": "9J5fxriBdQzu",
   "metadata": {
    "id": "9J5fxriBdQzu"
   },
   "source": [
    "### Example 2\n",
    "\n"
   ]
  },
  {
   "cell_type": "code",
   "execution_count": 4,
   "id": "tyjhO8jSZ-PI",
   "metadata": {
    "id": "tyjhO8jSZ-PI"
   },
   "outputs": [],
   "source": [
    "variables_name.append(\"input\")\n",
    "variables_code.append(\"\"\"\n",
    "final public static void Authification(String input) {\n",
    "    do {\n",
    "        System.out.print(\"Password? \");\n",
    "        input = scanner.nextLine().trim();\n",
    "    } while (!input.equals(VerySafeClass.PASSWORD));\n",
    "}\n",
    "\"\"\")\n",
    "variables_category.append(\"loop_control\")"
   ]
  },
  {
   "cell_type": "markdown",
   "id": "4Y8fGjn2dQzx",
   "metadata": {
    "id": "4Y8fGjn2dQzx"
   },
   "source": [
    "### Example 3\n",
    "\n"
   ]
  },
  {
   "cell_type": "code",
   "execution_count": 5,
   "id": "y2ic8jwGa7IU",
   "metadata": {
    "id": "y2ic8jwGa7IU"
   },
   "outputs": [],
   "source": [
    "# This example contains some trash symbols, so we decided to discard it\n",
    "\n",
    "# variables_name.append(\"currencyList.length\")\n",
    "# variables_code.append(\"\"\"\n",
    "# public static void main(String args[]) {\n",
    "\n",
    "#     double amount, Dollar, Pound;\n",
    "#     DecimalFormat f = new DecimalFormat(“#,###,###.###”);\n",
    "\n",
    "#     Scanner sc = new Scanner(System.in);\n",
    "#     String[] currencyList = new String[] {” Dollar”, ” Pound”};\n",
    "\n",
    "\n",
    "#     System.out.println(“-----------------------------------------------------------------------------------------\");\n",
    "#     System.out.println(“Hi! Welcome to Currency Converter!”);\n",
    "#     System.out.println(“-----------------------------------------------------------------------------------------\");\n",
    "#     System.out.println(“Which currency you want to convert your Peso? Please choose.”);\n",
    "\n",
    "#     for (int x = 0; x < currencyList.length; x++) {\n",
    "#         System.out.println(x + 1 + \".\" + currencyList[x]);\n",
    "#     }\n",
    "#     boolean repeat = true;\n",
    "#     int num = 0;\n",
    "\n",
    "#     String answer;\n",
    "#     do{\n",
    "#         System.out.println(“-----------------------------------------------------------------------------------------\");\n",
    "#         System.out.print(\"Currency no. \");\n",
    "#         int code = sc.nextInt();\n",
    "\n",
    "#         System.out.println(“-----------------------------------------------------------------------------------------\");\n",
    "#         System.out.println(\"Please enter the how much you want to convert.\");\n",
    "#         amount = sc.nextInt();\n",
    "#         repeat = true;\n",
    "\n",
    "#         if (code == 1) {\n",
    "#             Dollar = amount * 50.76;\n",
    "#             System.out.println(\" Its \" + f.format(Dollar) + \" dollars.\");\n",
    "#         }\n",
    "\n",
    "#         else if (code == 2) {\n",
    "#             Pound = amount * 62.48;\n",
    "#             System.out.println(\" Its \" + f.format(Pound) + \" pound.\");\n",
    "#         }\n",
    "#         else\n",
    "#             System.out.println(\"I N V A L I D C O D E\");\n",
    "#             String invalid = sc.nextLine();\n",
    "\n",
    "\n",
    "#         (“-----------------------------------------------------------------------------------------\");\n",
    "#         System.out.println(\"Do you want to convert again? Yes or No\");\n",
    "#         answer = sc.nextLine();\n",
    "#         repeat = true;\n",
    "#     } while (answer.equals(\"Yes\"));\n",
    "# }\n",
    "# \"\"\")\n",
    "# variables_category.append(\"loop_control\")"
   ]
  },
  {
   "cell_type": "code",
   "execution_count": 6,
   "id": "MJHw5UUIeq4U",
   "metadata": {
    "id": "MJHw5UUIeq4U"
   },
   "outputs": [],
   "source": [
    "# variables_name.append(\"repeat\")\n",
    "# variables_code.append(\"\"\"\n",
    "# public static void main(String args[]) {\n",
    "\n",
    "#     double amount, Dollar, Pound;\n",
    "#     DecimalFormat f = new DecimalFormat(“#,###,###.###”);\n",
    "\n",
    "#     Scanner sc = new Scanner(System.in);\n",
    "#     String[] currencyList = new String[] {” Dollar”, ” Pound”};\n",
    "\n",
    "\n",
    "#     System.out.println(“-----------------------------------------------------------------------------------------\");\n",
    "#     System.out.println(“Hi! Welcome to Currency Converter!”);\n",
    "#     System.out.println(“-----------------------------------------------------------------------------------------\");\n",
    "#     System.out.println(“Which currency you want to convert your Peso? Please choose.”);\n",
    "\n",
    "#     for (int x = 0; x < currencyList.length; x++) {\n",
    "#         System.out.println(x + 1 + \".\" + currencyList[x]);\n",
    "#     }\n",
    "#     boolean repeat = true;\n",
    "#     int num = 0;\n",
    "\n",
    "#     String answer;\n",
    "#     do{\n",
    "#         System.out.println(“-----------------------------------------------------------------------------------------\");\n",
    "#         System.out.print(\"Currency no. \");\n",
    "#         int code = sc.nextInt();\n",
    "\n",
    "#         System.out.println(“-----------------------------------------------------------------------------------------\");\n",
    "#         System.out.println(\"Please enter the how much you want to convert.\");\n",
    "#         amount = sc.nextInt();\n",
    "#         repeat = false;\n",
    "\n",
    "#         if (code == 1) {\n",
    "#             Dollar = amount * 50.76;\n",
    "#             System.out.println(\" Its \" + f.format(Dollar) + \" dollars.\");\n",
    "#         }\n",
    "\n",
    "#         else if (code == 2) {\n",
    "#             Pound = amount * 62.48;\n",
    "#             System.out.println(\" Its \" + f.format(Pound) + \" pound.\");\n",
    "#         }\n",
    "#         else\n",
    "#             System.out.println(\"I N V A L I D C O D E\");\n",
    "#             String invalid = sc.nextLine();\n",
    "\n",
    "\n",
    "#         (“-----------------------------------------------------------------------------------------\");\n",
    "#         System.out.println(\"Do you want to convert again? Yes or No\");\n",
    "#         answer = sc.nextLine();\n",
    "#         if (answer.equals(\"Yes\")) {\n",
    "#           repeat = true;\n",
    "#         }\n",
    "#     } while (repeat);\n",
    "# }\n",
    "# \"\"\")\n",
    "# variables_category.append(\"loop_control\")"
   ]
  },
  {
   "cell_type": "markdown",
   "id": "nqAScQHkdQz2",
   "metadata": {
    "id": "nqAScQHkdQz2"
   },
   "source": [
    "### Example 4"
   ]
  },
  {
   "cell_type": "code",
   "execution_count": 7,
   "id": "ZHUtNRtWdQz4",
   "metadata": {
    "id": "ZHUtNRtWdQz4"
   },
   "outputs": [],
   "source": [
    "variables_name.append(\"number\")\n",
    "variables_code.append(\"\"\"\n",
    "public static void main(String[] args) {\n",
    "      \n",
    "    int sum = 0;\n",
    "    int number = 0;\n",
    "\n",
    "    Scanner input = new Scanner(System.in);\n",
    "       \n",
    "    do {\n",
    "      sum += number;\n",
    "      System.out.println(\"Enter a number\");\n",
    "      number = input.nextInt();\n",
    "    } while(number >= 0); \n",
    "   \n",
    "    System.out.println(\"Sum = \" + sum);\n",
    "    input.close();\n",
    "  }\n",
    "\"\"\")\n",
    "variables_category.append(\"loop_control\")"
   ]
  },
  {
   "cell_type": "markdown",
   "id": "rbJmnlkadQz7",
   "metadata": {
    "id": "rbJmnlkadQz7"
   },
   "source": [
    "### Example 5"
   ]
  },
  {
   "cell_type": "code",
   "execution_count": 8,
   "id": "UsJdaF9qdQz8",
   "metadata": {
    "id": "UsJdaF9qdQz8"
   },
   "outputs": [],
   "source": [
    "variables_name.append(\"num\")\n",
    "variables_code.append(\"\"\"\n",
    "public static void RussianRoulette (String[] args) {\n",
    "    Scanner input = new Scanner(System.in);\n",
    "    Random rand = new Random();\n",
    "    System.out.println(\"Enter an integer between 0-9\");\n",
    "    \n",
    "    int num = input.nextInt();\n",
    "    int randomNum = rand.nextInt(10);\n",
    "    \n",
    "    do{\n",
    "        randomNum = rand.nextInt(10);\n",
    "        System.out.println(\"User: \" + num + \" : \" + \"Random number: \" + randomNum);\n",
    "    } while (num != randomNum);\n",
    "    \n",
    "    return num;\n",
    "}\n",
    "\"\"\")\n",
    "variables_category.append(\"loop_control\")"
   ]
  },
  {
   "cell_type": "markdown",
   "id": "GzzQGrfUdQz-",
   "metadata": {
    "id": "GzzQGrfUdQz-"
   },
   "source": [
    "### Example 6"
   ]
  },
  {
   "cell_type": "code",
   "execution_count": 9,
   "id": "LjDN1-zsdQz_",
   "metadata": {
    "id": "LjDN1-zsdQz_"
   },
   "outputs": [],
   "source": [
    "variables_name.append(\"i\")\n",
    "variables_code.append(\"\"\"\n",
    "    public static int isPairSum(int A[], int N, int X)\n",
    "    {\n",
    "        int i = 0;\n",
    "        int j = N - 1;\n",
    " \n",
    "        while (i < j) {\n",
    "            if (A[i] + A[j] == X) \n",
    "                return 1;\n",
    "            else if (A[i] + A[j] < X)\n",
    "                i++;\n",
    "            else\n",
    "                j--;\n",
    "        }\n",
    "        return 0;\n",
    "    }\n",
    "\"\"\")\n",
    "variables_category.append(\"loop_control\")"
   ]
  },
  {
   "cell_type": "markdown",
   "id": "zYxcGR8BdQ0B",
   "metadata": {
    "id": "zYxcGR8BdQ0B"
   },
   "source": [
    "### Example 7"
   ]
  },
  {
   "cell_type": "code",
   "execution_count": 10,
   "id": "F903l6tsdQ0C",
   "metadata": {
    "id": "F903l6tsdQ0C"
   },
   "outputs": [],
   "source": [
    "variables_name.append(\"i\")\n",
    "variables_code.append(\"\"\"\n",
    "void BFS(int n)\n",
    "    {\n",
    "\n",
    "        boolean nodes[] = new boolean[V];\n",
    "        int a = 0;\n",
    " \n",
    "        nodes[n]=true;                  \n",
    "        queue.add(n);\n",
    " \n",
    "        while (queue.size() != 0)\n",
    "        {\n",
    "            n = queue.poll();\n",
    "            System.out.print(n+\" \");\n",
    " \n",
    "            for (int i = 0; i < adj[n].size(); i++)  \n",
    "            {\n",
    "                a = adj[n].get(i);\n",
    "                if (!nodes[a])\n",
    "                {\n",
    "                    nodes[a] = true;\n",
    "                    queue.add(a);\n",
    "                }\n",
    "            }  \n",
    "        }\n",
    "    }\n",
    "\"\"\")\n",
    "variables_category.append(\"loop_control\")"
   ]
  },
  {
   "cell_type": "markdown",
   "id": "yrvqirMKdQ0E",
   "metadata": {
    "id": "yrvqirMKdQ0E"
   },
   "source": [
    "### Example 8"
   ]
  },
  {
   "cell_type": "code",
   "execution_count": 11,
   "id": "lMN7iQ2xdQ0F",
   "metadata": {
    "id": "lMN7iQ2xdQ0F"
   },
   "outputs": [],
   "source": [
    "variables_name.append(\"i\")\n",
    "variables_code.append(\"\"\"\n",
    "public static void main(String args[])  \n",
    "{  \n",
    "    int SIZE=10;  \n",
    "    int i, j, N;  \n",
    "    int[][] board = new int[SIZE][SIZE];  \n",
    "    int left, top;  \n",
    "    left = 0;  \n",
    "    top = SIZE - 1;  \n",
    "    N = 1;  \n",
    "    for(i=1; i<=SIZE/2; i++, left++, top--)  \n",
    "    {  \n",
    "        for(j=left; j<=top; j++, N++)  \n",
    "        {  \n",
    "            board[left][j] = N;  \n",
    "        }  \n",
    "        for(j=left+1; j<=top; j++, N++)  \n",
    "        {  \n",
    "            board[j][top] = N;  \n",
    "        }  \n",
    "        for(j=top-1; j>=left; j--, N++)  \n",
    "        {  \n",
    "            board[top][j] = N;  \n",
    "        }  \n",
    "        for(j=top-1; j>=left+1; j--, N++)  \n",
    "        {  \n",
    "            board[j][left] = N;  \n",
    "        }  \n",
    "    }  \n",
    "    for(i=0; i<SIZE; i++)  \n",
    "    {  \n",
    "        for(j=0; j<SIZE; j++)  \n",
    "        {  \n",
    "            System.out.printf(\"%-5d\", board[i][j]);  \n",
    "        }  \n",
    "    System.out.printf(\"\\n\");  \n",
    "    }  \n",
    "}  \n",
    "\"\"\")\n",
    "variables_category.append(\"loop_control\")"
   ]
  },
  {
   "cell_type": "code",
   "execution_count": 12,
   "id": "l2pQiJoigzE7",
   "metadata": {
    "id": "l2pQiJoigzE7"
   },
   "outputs": [],
   "source": [
    "variables_name.append(\"j\")\n",
    "variables_code.append(\"\"\"\n",
    "public static void main(String args[])  \n",
    "{  \n",
    "    int SIZE=10;  \n",
    "    int i, j, N;  \n",
    "    int[][] board = new int[SIZE][SIZE];  \n",
    "    int left, top;  \n",
    "    left = 0;  \n",
    "    top = SIZE - 1;  \n",
    "    N = 1;  \n",
    "    for(i=1; i<=SIZE/2; i++, left++, top--)  \n",
    "    {  \n",
    "        for(j=left; j<=top; j++, N++)  \n",
    "        {  \n",
    "            board[left][j] = N;  \n",
    "        }  \n",
    "        for(j=left+1; j<=top; j++, N++)  \n",
    "        {  \n",
    "            board[j][top] = N;  \n",
    "        }  \n",
    "        for(j=top-1; j>=left; j--, N++)  \n",
    "        {  \n",
    "            board[top][j] = N;  \n",
    "        }  \n",
    "        for(j=top-1; j>=left+1; j--, N++)  \n",
    "        {  \n",
    "            board[j][left] = N;  \n",
    "        }  \n",
    "    }  \n",
    "    for(i=0; i<SIZE; i++)  \n",
    "    {  \n",
    "        for(j=0; j<SIZE; j++)  \n",
    "        {  \n",
    "            System.out.printf(\"%-5d\", board[i][j]);  \n",
    "        }  \n",
    "    System.out.printf(\"\\n\");  \n",
    "    }  \n",
    "}  \n",
    "\"\"\")\n",
    "variables_category.append(\"loop_control\")"
   ]
  },
  {
   "cell_type": "markdown",
   "id": "yonGXFJ7dQ0H",
   "metadata": {
    "id": "yonGXFJ7dQ0H"
   },
   "source": [
    "### Example 9"
   ]
  },
  {
   "cell_type": "code",
   "execution_count": 13,
   "id": "K6IGoym7dQ0I",
   "metadata": {
    "id": "K6IGoym7dQ0I"
   },
   "outputs": [],
   "source": [
    "variables_name.append(\"bufSize\")\n",
    "variables_code.append(\"\"\"\n",
    "  private static byte[] toByteArrayInternal(InputStream in, Queue<byte[]> bufs, int totalLen)\n",
    "      throws IOException {\n",
    "    int initialBufferSize = min(BUFFER_SIZE, max(128, Integer.highestOneBit(totalLen) * 2));\n",
    "    \n",
    "    for (int bufSize = initialBufferSize;\n",
    "        totalLen < MAX_ARRAY_LEN;\n",
    "        bufSize = IntMath.saturatedMultiply(bufSize, bufSize < 4096 ? 4 : 2)) {\n",
    "      byte[] buf = new byte[min(bufSize, MAX_ARRAY_LEN - totalLen)];\n",
    "      bufs.add(buf);\n",
    "      int off = 0;\n",
    "      while (off < buf.length) {\n",
    "        // always OK to fill buf; its size plus the rest of bufs is never more than MAX_ARRAY_LEN\n",
    "        int r = in.read(buf, off, buf.length - off);\n",
    "        if (r == -1) {\n",
    "          return combineBuffers(bufs, totalLen);\n",
    "        }\n",
    "        off += r;\n",
    "        totalLen += r;\n",
    "      }\n",
    "    }\n",
    "\n",
    "    if (in.read() == -1) {\n",
    "      return combineBuffers(bufs, MAX_ARRAY_LEN);\n",
    "    } else {\n",
    "      throw new OutOfMemoryError(\"input is too large to fit in a byte array\");\n",
    "    }\n",
    "  }\n",
    "\"\"\")\n",
    "variables_category.append(\"loop_control\")"
   ]
  },
  {
   "cell_type": "code",
   "execution_count": 14,
   "id": "SO7JTnaohVo1",
   "metadata": {
    "id": "SO7JTnaohVo1"
   },
   "outputs": [],
   "source": [
    "variables_name.append(\"totalLen\")\n",
    "variables_code.append(\"\"\"\n",
    "  private static byte[] toByteArrayInternal(InputStream in, Queue<byte[]> bufs, int totalLen)\n",
    "      throws IOException {\n",
    "    int initialBufferSize = min(BUFFER_SIZE, max(128, Integer.highestOneBit(totalLen) * 2));\n",
    "    \n",
    "    for (int bufSize = initialBufferSize;\n",
    "        totalLen < MAX_ARRAY_LEN;\n",
    "        bufSize = IntMath.saturatedMultiply(bufSize, bufSize < 4096 ? 4 : 2)) {\n",
    "      byte[] buf = new byte[min(bufSize, MAX_ARRAY_LEN - totalLen)];\n",
    "      bufs.add(buf);\n",
    "      int off = 0;\n",
    "      while (off < buf.length) {\n",
    "        // always OK to fill buf; its size plus the rest of bufs is never more than MAX_ARRAY_LEN\n",
    "        int r = in.read(buf, off, buf.length - off);\n",
    "        if (r == -1) {\n",
    "          return combineBuffers(bufs, totalLen);\n",
    "        }\n",
    "        off += r;\n",
    "        totalLen += r;\n",
    "      }\n",
    "    }\n",
    "\n",
    "    if (in.read() == -1) {\n",
    "      return combineBuffers(bufs, MAX_ARRAY_LEN);\n",
    "    } else {\n",
    "      throw new OutOfMemoryError(\"input is too large to fit in a byte array\");\n",
    "    }\n",
    "  }\n",
    "\"\"\")\n",
    "variables_category.append(\"loop_control\")"
   ]
  },
  {
   "cell_type": "code",
   "execution_count": 15,
   "id": "duYB3UGnhZQV",
   "metadata": {
    "id": "duYB3UGnhZQV"
   },
   "outputs": [],
   "source": [
    "variables_name.append(\"off\")\n",
    "variables_code.append(\"\"\"\n",
    "  private static byte[] toByteArrayInternal(InputStream in, Queue<byte[]> bufs, int totalLen)\n",
    "      throws IOException {\n",
    "    int initialBufferSize = min(BUFFER_SIZE, max(128, Integer.highestOneBit(totalLen) * 2));\n",
    "    \n",
    "    for (int bufSize = initialBufferSize;\n",
    "        totalLen < MAX_ARRAY_LEN;\n",
    "        bufSize = IntMath.saturatedMultiply(bufSize, bufSize < 4096 ? 4 : 2)) {\n",
    "      byte[] buf = new byte[min(bufSize, MAX_ARRAY_LEN - totalLen)];\n",
    "      bufs.add(buf);\n",
    "      int off = 0;\n",
    "      while (off < buf.length) {\n",
    "        // always OK to fill buf; its size plus the rest of bufs is never more than MAX_ARRAY_LEN\n",
    "        int r = in.read(buf, off, buf.length - off);\n",
    "        if (r == -1) {\n",
    "          return combineBuffers(bufs, totalLen);\n",
    "        }\n",
    "        off += r;\n",
    "        totalLen += r;\n",
    "      }\n",
    "    }\n",
    "\n",
    "    if (in.read() == -1) {\n",
    "      return combineBuffers(bufs, MAX_ARRAY_LEN);\n",
    "    } else {\n",
    "      throw new OutOfMemoryError(\"input is too large to fit in a byte array\");\n",
    "    }\n",
    "  }\n",
    "\"\"\")\n",
    "variables_category.append(\"loop_control\")"
   ]
  },
  {
   "cell_type": "markdown",
   "id": "yfsvZ7LGdQ0K",
   "metadata": {
    "id": "yfsvZ7LGdQ0K"
   },
   "source": [
    "### Example 10"
   ]
  },
  {
   "cell_type": "code",
   "execution_count": 16,
   "id": "42IRmomvdQ0L",
   "metadata": {
    "id": "42IRmomvdQ0L"
   },
   "outputs": [],
   "source": [
    "variables_name.append(\"i\")\n",
    "variables_code.append(\"\"\"\n",
    "LLNode insertAtPos(int key,int pos,LLNode head)\n",
    "{\n",
    "    LLNode ttmp=new LLNode(key);\n",
    "\n",
    "    if(pos==1)\n",
    "    {\n",
    "        ttmp.next=head;\n",
    "        head=ttmp;\n",
    "    }\n",
    "    else\n",
    "    {\n",
    "        LLNode ttmp1=head;\n",
    "        for(int i=1;ttmp1!=null && i<pos;i++)\n",
    "            ttmp1=ttmp1.next;\n",
    "        ttmp.next=ttmp1.next;\n",
    "        ttmp1.next=ttmp;\n",
    "    }\n",
    "\n",
    "    return head;\n",
    "}\n",
    "\"\"\")\n",
    "variables_category.append(\"loop_control\")"
   ]
  },
  {
   "cell_type": "markdown",
   "id": "A7S2NyD5dQ0N",
   "metadata": {
    "id": "A7S2NyD5dQ0N"
   },
   "source": [
    "### Example 11"
   ]
  },
  {
   "cell_type": "code",
   "execution_count": 17,
   "id": "qirSrKS2dQ0O",
   "metadata": {
    "id": "qirSrKS2dQ0O"
   },
   "outputs": [],
   "source": [
    "variables_name.append(\"counter\")\n",
    "variables_code.append(\"\"\"\n",
    "public void test_ConstructorLjava_util_Collection() {\n",
    "    ArrayList al = new ArrayList(Arrays.asList(objArray));\n",
    "    assertTrue(\"arrayList created from collection has incorrect size\", al.size() == objArray.length);\n",
    "    for (int counter = 0; counter < objArray.length; counter++) \n",
    "        assertTrue(\"arrayList created from collection has incorrect elements\", \n",
    "                   al.get(counter) == objArray[counter]);\n",
    "    try {\n",
    "        new ArrayList(null);\n",
    "        fail(\"NullPointerException expected\");\n",
    "    } \n",
    "    catch (NullPointerException e) {}\n",
    "}\n",
    "\"\"\")\n",
    "variables_category.append(\"loop_control\")"
   ]
  },
  {
   "cell_type": "markdown",
   "id": "LCFCQKB-dQ0P",
   "metadata": {
    "id": "LCFCQKB-dQ0P"
   },
   "source": [
    "### Example 12"
   ]
  },
  {
   "cell_type": "code",
   "execution_count": 18,
   "id": "DedflpP_dQ0P",
   "metadata": {
    "id": "DedflpP_dQ0P"
   },
   "outputs": [],
   "source": [
    "variables_name.append(\"i\")\n",
    "variables_code.append(\"\"\"\n",
    "  protected boolean restoreSketches() throws Exception {\n",
    "    int count = PreferencesData.getInteger(\"last.sketch.count\");\n",
    "    int opened = 0;\n",
    "    for (int i = count - 1; i >= 0; i--) {\n",
    "      String path = PreferencesData.get(\"last.sketch\" + i + \".path\");\n",
    "      if (path == null) {\n",
    "        continue;\n",
    "      }\n",
    "      if (BaseNoGui.getPortableFolder() != null && !new File(path).isAbsolute()) {\n",
    "        File absolute = new File(BaseNoGui.getPortableFolder(), path);\n",
    "        try {\n",
    "          path = absolute.getCanonicalPath();\n",
    "        } catch (IOException e) {\n",
    "        }\n",
    "      }\n",
    "      int[] location = retrieveSketchLocation(\"\" + i);\n",
    "      if (handleOpen(new File(path), location, nextEditorLocation(), false, false) != null) {\n",
    "        opened++;\n",
    "      }\n",
    "    }\n",
    "    return (opened > 0);\n",
    "  }\n",
    "\"\"\")\n",
    "variables_category.append(\"loop_control\")"
   ]
  },
  {
   "cell_type": "markdown",
   "id": "Fz8fw_ohdQ0R",
   "metadata": {
    "id": "Fz8fw_ohdQ0R"
   },
   "source": [
    "### Example 13"
   ]
  },
  {
   "cell_type": "code",
   "execution_count": 19,
   "id": "ZbDYQXhJdQ0S",
   "metadata": {
    "id": "ZbDYQXhJdQ0S"
   },
   "outputs": [],
   "source": [
    "variables_name.append(\"i\")\n",
    "variables_code.append(\"\"\"\n",
    "public static void main(String[] args) {\n",
    "        ArrayList<Room> hotelRooms = new ArrayList<>();\n",
    "        for (int i = 0; i < 15; i++) {\n",
    "            hotelRooms.add(new HostelRoom(new StandardRoom(i + 1, 2, RoomType.ECONOMY)));\n",
    "        }\n",
    "        for (int i = 0; i < 15; i++) {\n",
    "            hotelRooms.add(new ExpandableRoom(new StandardRoom(i + 16, 3, RoomType.LUX)));\n",
    "        }\n",
    "        Hotel hotel = new Hotel(hotelRooms);\n",
    "        RoomManager roomManager = new RoomManager();\n",
    "        StaffManager staffManager = new StaffManager();\n",
    "        Human client1 = new Human(\"John\", \"Lennon\");\n",
    "        Human client2 = new Human(\"Paul\", \"McCartney\");\n",
    "        Human client3 = new Human(\"Ringo\", \"Starr\");\n",
    "\n",
    "        Human slave1 = new Human(\"George\", \"Harrison\");\n",
    "\n",
    "        Human slave2 = new Human(\"Doctor\", \"Scranton\");\n",
    "\n",
    "        staffManager.hireStaff(hotel, new PlumberCreator().createStaff(slave1, StaffType.IRREGULAR));\n",
    "        staffManager.hireStaff(hotel, new SecurityGuardCreator().createStaff(slave2, StaffType.IRREGULAR));\n",
    "        for (int i = 0; i < hotel.getStaff().size(); i++) {\n",
    "            System.out.println(hotel.getStaff().get(i).getPersonalInformation().getName());\n",
    "        }\n",
    "        staffManager.makeOrder(Plumber.class, hotel, 2, \"Help, our pump was broken :(\");\n",
    "    }\n",
    "\"\"\")\n",
    "variables_category.append(\"loop_control\")"
   ]
  },
  {
   "cell_type": "markdown",
   "id": "Un5EOktvdQ0T",
   "metadata": {
    "id": "Un5EOktvdQ0T"
   },
   "source": [
    "### Example 14"
   ]
  },
  {
   "cell_type": "code",
   "execution_count": 20,
   "id": "oRX__Kz2dQ0U",
   "metadata": {
    "id": "oRX__Kz2dQ0U"
   },
   "outputs": [],
   "source": [
    "variables_name.append(\"i\")\n",
    "variables_code.append(\"\"\"\n",
    "public void bookRoom(RoomAccess access, Human client, RoomType type, int peopleCount) {\n",
    "        Room currentRoom;\n",
    "        for (int i = 0; i < access.getRooms().size(); i++) {\n",
    "            currentRoom = access.getRooms().get(i);\n",
    "            if (currentRoom.isOccupied()) {\n",
    "                continue;\n",
    "            }\n",
    "            if (currentRoom.getSize() < peopleCount) {\n",
    "                continue;\n",
    "            }\n",
    "            if (currentRoom.getType() != type) {\n",
    "                continue;\n",
    "            }\n",
    "            currentRoom.checkIn(client, peopleCount);\n",
    "            break;\n",
    "        }\n",
    "    }\n",
    "\"\"\")\n",
    "variables_category.append(\"loop_control\")"
   ]
  },
  {
   "cell_type": "markdown",
   "id": "-HBA2Sc7dQ0W",
   "metadata": {
    "id": "-HBA2Sc7dQ0W"
   },
   "source": [
    "### Example 15"
   ]
  },
  {
   "cell_type": "code",
   "execution_count": 21,
   "id": "3XuZgam8emBy",
   "metadata": {
    "id": "3XuZgam8emBy"
   },
   "outputs": [],
   "source": [
    "variables_name.append(\"e\")\n",
    "variables_code.append(\"\"\"\n",
    "public void replay(ReplaySubscription<T> rs) {\n",
    "    if (rs.getAndIncrement() != 0) {\n",
    "        return;\n",
    "    }\n",
    "\n",
    "    int missed = 1;\n",
    "    final Subscriber<? super T> a = rs.downstream;\n",
    "\n",
    "    Node<T> index = (Node<T>)rs.index;\n",
    "    if (index == null) {\n",
    "        index = head;\n",
    "    }\n",
    "\n",
    "    long e = rs.emitted;\n",
    "\n",
    "    for (;;) {\n",
    "\n",
    "        long r = rs.requested.get();\n",
    "\n",
    "        while (e != r) {\n",
    "            if (rs.cancelled) {\n",
    "                rs.index = null;\n",
    "                return;\n",
    "            }\n",
    "\n",
    "            boolean d = done;\n",
    "            Node<T> next = index.get();\n",
    "            boolean empty = next == null;\n",
    "\n",
    "            if (d && empty) {\n",
    "                rs.index = null;\n",
    "                rs.cancelled = true;\n",
    "                Throwable ex = error;\n",
    "                if (ex == null) {\n",
    "                    a.onComplete();\n",
    "                } else {\n",
    "                    a.onError(ex);\n",
    "                }\n",
    "                return;\n",
    "            }\n",
    "\n",
    "            if (empty) {\n",
    "                break;\n",
    "            }\n",
    "\n",
    "            a.onNext(next.value);\n",
    "            e++;\n",
    "            index = next;\n",
    "        }\n",
    "\n",
    "        if (e == r) {\n",
    "            if (rs.cancelled) {\n",
    "                rs.index = null;\n",
    "                return;\n",
    "            }\n",
    "\n",
    "            boolean d = done;\n",
    "\n",
    "            if (d && index.get() == null) {\n",
    "                rs.index = null;\n",
    "                rs.cancelled = true;\n",
    "                Throwable ex = error;\n",
    "                if (ex == null) {\n",
    "                    a.onComplete();\n",
    "                } else {\n",
    "                    a.onError(ex);\n",
    "                }\n",
    "                return;\n",
    "            }\n",
    "        }\n",
    "\n",
    "        rs.index = index;\n",
    "        rs.emitted = e;\n",
    "\n",
    "        missed = rs.addAndGet(-missed);\n",
    "        if (missed == 0) {\n",
    "            break;\n",
    "        }\n",
    "    }\n",
    "}\n",
    "\"\"\")\n",
    "variables_category.append(\"loop_control\")"
   ]
  },
  {
   "cell_type": "code",
   "execution_count": 22,
   "id": "VIhFfTvGdQ0W",
   "metadata": {
    "id": "VIhFfTvGdQ0W"
   },
   "outputs": [],
   "source": [
    "variables_name.append(\"index\")\n",
    "variables_code.append(\"\"\"\n",
    "public void replay(ReplaySubscription<T> rs) {\n",
    "    if (rs.getAndIncrement() != 0) {\n",
    "        return;\n",
    "    }\n",
    "\n",
    "    int missed = 1;\n",
    "    final Subscriber<? super T> a = rs.downstream;\n",
    "\n",
    "    Node<T> index = (Node<T>)rs.index;\n",
    "    if (index == null) {\n",
    "        index = head;\n",
    "    }\n",
    "\n",
    "    long e = rs.emitted;\n",
    "\n",
    "    for (;;) {\n",
    "\n",
    "        long r = rs.requested.get();\n",
    "\n",
    "        while (e != r) {\n",
    "            if (rs.cancelled) {\n",
    "                rs.index = null;\n",
    "                return;\n",
    "            }\n",
    "\n",
    "            boolean d = done;\n",
    "            Node<T> next = index.get();\n",
    "            boolean empty = next == null;\n",
    "\n",
    "            if (d && empty) {\n",
    "                rs.index = null;\n",
    "                rs.cancelled = true;\n",
    "                Throwable ex = error;\n",
    "                if (ex == null) {\n",
    "                    a.onComplete();\n",
    "                } else {\n",
    "                    a.onError(ex);\n",
    "                }\n",
    "                return;\n",
    "            }\n",
    "\n",
    "            if (empty) {\n",
    "                break;\n",
    "            }\n",
    "\n",
    "            a.onNext(next.value);\n",
    "            e++;\n",
    "            index = next;\n",
    "        }\n",
    "\n",
    "        if (e == r) {\n",
    "            if (rs.cancelled) {\n",
    "                rs.index = null;\n",
    "                return;\n",
    "            }\n",
    "\n",
    "            boolean d = done;\n",
    "\n",
    "            if (d && index.get() == null) {\n",
    "                rs.index = null;\n",
    "                rs.cancelled = true;\n",
    "                Throwable ex = error;\n",
    "                if (ex == null) {\n",
    "                    a.onComplete();\n",
    "                } else {\n",
    "                    a.onError(ex);\n",
    "                }\n",
    "                return;\n",
    "            }\n",
    "        }\n",
    "\n",
    "        rs.index = index;\n",
    "        rs.emitted = e;\n",
    "\n",
    "        missed = rs.addAndGet(-missed);\n",
    "        if (missed == 0) {\n",
    "            break;\n",
    "        }\n",
    "    }\n",
    "}\n",
    "\"\"\")\n",
    "variables_category.append(\"loop_control\")"
   ]
  },
  {
   "cell_type": "markdown",
   "id": "fFPOV0S7dQ0Y",
   "metadata": {
    "id": "fFPOV0S7dQ0Y"
   },
   "source": [
    "### Example 16"
   ]
  },
  {
   "cell_type": "code",
   "execution_count": 23,
   "id": "F5Qnro-XdQ0Z",
   "metadata": {
    "id": "F5Qnro-XdQ0Z"
   },
   "outputs": [],
   "source": [
    "variables_name.append(\"e\")\n",
    "variables_code.append(\"\"\"\n",
    "void drainRegular(Subscriber<? super T> a) {\n",
    "    int missed = 1;\n",
    "    final SpscLinkedArrayQueue<T> q = queue;\n",
    "    final boolean failFast = !delayError;\n",
    "\n",
    "    for (;;) {\n",
    "        long r = requested.get();\n",
    "        long e = 0L;\n",
    "\n",
    "        while (r != e) {\n",
    "            boolean d = done;\n",
    "\n",
    "            T t = q.poll();\n",
    "            boolean empty = t == null;\n",
    "\n",
    "            if (checkTerminated(failFast, d, empty, a, q)) {\n",
    "                return;\n",
    "            }\n",
    "            if (empty) {\n",
    "                break;\n",
    "            }\n",
    "            a.onNext(t);\n",
    "\n",
    "            e++;\n",
    "        }\n",
    "        if (r == e && checkTerminated(failFast, done, q.isEmpty(), a, q)) {\n",
    "            return;\n",
    "        }\n",
    "        if (e != 0 && r != Long.MAX_VALUE) {\n",
    "            requested.addAndGet(-e);\n",
    "        }\n",
    "        missed = wip.addAndGet(-missed);\n",
    "        if (missed == 0) {\n",
    "            break;\n",
    "        }\n",
    "    }\n",
    "}\n",
    "\"\"\")\n",
    "variables_category.append(\"loop_control\")"
   ]
  },
  {
   "cell_type": "markdown",
   "id": "SFc4uThEdQ0a",
   "metadata": {
    "id": "SFc4uThEdQ0a"
   },
   "source": [
    "### Example 17"
   ]
  },
  {
   "cell_type": "code",
   "execution_count": 24,
   "id": "0OxzBB3Mep9x",
   "metadata": {
    "id": "0OxzBB3Mep9x"
   },
   "outputs": [],
   "source": [
    "variables_name.append(\"e\")\n",
    "variables_code.append(\"\"\"\n",
    "public void replay(ReplaySubscription<T> rs) {\n",
    "    if (rs.getAndIncrement() != 0) {\n",
    "        return;\n",
    "    }\n",
    "\n",
    "    int missed = 1;\n",
    "    final Subscriber<? super T> a = rs.downstream;\n",
    "\n",
    "    Node<T> index = (Node<T>)rs.index;\n",
    "    if (index == null) {\n",
    "        index = head;\n",
    "    }\n",
    "\n",
    "    long e = rs.emitted;\n",
    "\n",
    "    for (;;) {\n",
    "\n",
    "        long r = rs.requested.get();\n",
    "\n",
    "        while (e != r) {\n",
    "            if (rs.cancelled) {\n",
    "                rs.index = null;\n",
    "                return;\n",
    "            }\n",
    "\n",
    "            boolean d = done;\n",
    "            Node<T> next = index.get();\n",
    "            boolean empty = next == null;\n",
    "\n",
    "            if (d && empty) {\n",
    "                rs.index = null;\n",
    "                rs.cancelled = true;\n",
    "                Throwable ex = error;\n",
    "                if (ex == null) {\n",
    "                    a.onComplete();\n",
    "                } else {\n",
    "                    a.onError(ex);\n",
    "                }\n",
    "                return;\n",
    "            }\n",
    "\n",
    "            if (empty) {\n",
    "                break;\n",
    "            }\n",
    "\n",
    "            a.onNext(next.value);\n",
    "            e++;\n",
    "            index = next;\n",
    "        }\n",
    "\n",
    "        if (e == r) {\n",
    "            if (rs.cancelled) {\n",
    "                rs.index = null;\n",
    "                return;\n",
    "            }\n",
    "\n",
    "            boolean d = done;\n",
    "\n",
    "            if (d && index.get() == null) {\n",
    "                rs.index = null;\n",
    "                rs.cancelled = true;\n",
    "                Throwable ex = error;\n",
    "                if (ex == null) {\n",
    "                    a.onComplete();\n",
    "                } else {\n",
    "                    a.onError(ex);\n",
    "                }\n",
    "                return;\n",
    "            }\n",
    "        }\n",
    "\n",
    "        rs.index = index;\n",
    "        rs.emitted = e;\n",
    "\n",
    "        missed = rs.addAndGet(-missed);\n",
    "        if (missed == 0) {\n",
    "            break;\n",
    "        }\n",
    "    }\n",
    "}\n",
    "\"\"\")\n",
    "variables_category.append(\"loop_control\")"
   ]
  },
  {
   "cell_type": "code",
   "execution_count": 25,
   "id": "I8Zq-MAcdQ0c",
   "metadata": {
    "id": "I8Zq-MAcdQ0c"
   },
   "outputs": [],
   "source": [
    "variables_name.append(\"index\")\n",
    "variables_code.append(\"\"\"\n",
    "public void replay(ReplayDisposable<T> rs) {\n",
    "    if (rs.getAndIncrement() != 0) {\n",
    "        return;\n",
    "    }\n",
    "\n",
    "    int missed = 1;\n",
    "    final List<Object> b = buffer;\n",
    "    final Observer<? super T> a = rs.downstream;\n",
    "\n",
    "    Integer indexObject = (Integer)rs.index;\n",
    "    int index;\n",
    "    if (indexObject != null) {\n",
    "        index = indexObject;\n",
    "    } else {\n",
    "        index = 0;\n",
    "        rs.index = 0;\n",
    "    }\n",
    "\n",
    "    for (;;) {\n",
    "\n",
    "        if (rs.cancelled) {\n",
    "            rs.index = null;\n",
    "            return;\n",
    "        }\n",
    "\n",
    "        int s = size;\n",
    "\n",
    "        while (s != index) {\n",
    "\n",
    "            if (rs.cancelled) {\n",
    "                rs.index = null;\n",
    "                return;\n",
    "            }\n",
    "\n",
    "            Object o = b.get(index);\n",
    "\n",
    "            if (done) {\n",
    "                if (index + 1 == s) {\n",
    "                    s = size;\n",
    "                    if (index + 1 == s) {\n",
    "                        if (NotificationLite.isComplete(o)) {\n",
    "                            a.onComplete();\n",
    "                        } else {\n",
    "                            a.onError(NotificationLite.getError(o));\n",
    "                        }\n",
    "                        rs.index = null;\n",
    "                        rs.cancelled = true;\n",
    "                        return;\n",
    "                    }\n",
    "                }\n",
    "            }\n",
    "\n",
    "            a.onNext((T)o);\n",
    "            index++;\n",
    "        }\n",
    "\n",
    "        if (index != size) {\n",
    "            continue;\n",
    "        }\n",
    "\n",
    "        rs.index = index;\n",
    "\n",
    "        missed = rs.addAndGet(-missed);\n",
    "        if (missed == 0) {\n",
    "            break;\n",
    "        }\n",
    "    }\n",
    "}\n",
    "\"\"\")\n",
    "variables_category.append(\"loop_control\")"
   ]
  },
  {
   "cell_type": "markdown",
   "id": "XJZqEJpRdQ0d",
   "metadata": {
    "id": "XJZqEJpRdQ0d"
   },
   "source": [
    "### Example 18"
   ]
  },
  {
   "cell_type": "code",
   "execution_count": 26,
   "id": "cof7qDOhdQ0e",
   "metadata": {
    "id": "cof7qDOhdQ0e"
   },
   "outputs": [],
   "source": [
    "variables_name.append(\"i\")\n",
    "variables_code.append(\"\"\"\n",
    "public T[] getValues(T[] array) {\n",
    "    Node<Object> h = head;\n",
    "    int s = size();\n",
    "\n",
    "    if (s == 0) {\n",
    "        if (array.length != 0) {\n",
    "            array[0] = null;\n",
    "        }\n",
    "    } else {\n",
    "        if (array.length < s) {\n",
    "            array = (T[])Array.newInstance(array.getClass().getComponentType(), s);\n",
    "        }\n",
    "\n",
    "        int i = 0;\n",
    "        while (i != s) {\n",
    "            Node<Object> next = h.get();\n",
    "            array[i] = (T)next.value;\n",
    "            i++;\n",
    "            h = next;\n",
    "        }\n",
    "        if (array.length > s) {\n",
    "            array[s] = null;\n",
    "        }\n",
    "    }\n",
    "\n",
    "    return array;\n",
    "}\n",
    "\"\"\")\n",
    "variables_category.append(\"loop_control\")"
   ]
  },
  {
   "cell_type": "markdown",
   "id": "Poy15AWudQ0f",
   "metadata": {
    "id": "Poy15AWudQ0f"
   },
   "source": [
    "### Example 19"
   ]
  },
  {
   "cell_type": "code",
   "execution_count": 27,
   "id": "N1CVS5tldQ0g",
   "metadata": {
    "id": "N1CVS5tldQ0g"
   },
   "outputs": [],
   "source": [
    "variables_name.append(\"s\")\n",
    "variables_code.append(\"\"\"\n",
    "public int size() {\n",
    "    int s = 0;\n",
    "    Node<Object> h = head;\n",
    "    while (s != Integer.MAX_VALUE) {\n",
    "        Node<Object> next = h.get();\n",
    "        if (next == null) {\n",
    "            Object o = h.value;\n",
    "            if (NotificationLite.isComplete(o) || NotificationLite.isError(o)) {\n",
    "                s--;\n",
    "            }\n",
    "            break;\n",
    "        }\n",
    "        s++;\n",
    "        h = next;\n",
    "    }\n",
    "\n",
    "    return s;\n",
    "}\n",
    "\"\"\")\n",
    "variables_category.append(\"loop_control\")"
   ]
  },
  {
   "cell_type": "markdown",
   "id": "hgr00YNydQ0h",
   "metadata": {
    "id": "hgr00YNydQ0h"
   },
   "source": [
    "### Example 20"
   ]
  },
  {
   "cell_type": "code",
   "execution_count": 28,
   "id": "K6OfUkaAdQ0i",
   "metadata": {
    "id": "K6OfUkaAdQ0i"
   },
   "outputs": [],
   "source": [
    "variables_name.append(\"pos\")\n",
    "variables_code.append(\"\"\"\n",
    "protected void add(char[] cbuf, int off, int len) throws IOException {\n",
    "    int pos = off;\n",
    "    if (sawReturn && len > 0) {\n",
    "      if (finishLine(cbuf[pos] == '\\n')) {\n",
    "        pos++;\n",
    "      }\n",
    "    }\n",
    "\n",
    "    int start = pos;\n",
    "    for (int end = off + len; pos < end; pos++) {\n",
    "      switch (cbuf[pos]) {\n",
    "        case '\\r':\n",
    "          line.append(cbuf, start, pos - start);\n",
    "          sawReturn = true;\n",
    "          if (pos + 1 < end) {\n",
    "            if (finishLine(cbuf[pos + 1] == '\\n')) {\n",
    "              pos++;\n",
    "            }\n",
    "          }\n",
    "          start = pos + 1;\n",
    "          break;\n",
    "\n",
    "        case '\\n':\n",
    "          line.append(cbuf, start, pos - start);\n",
    "          finishLine(true);\n",
    "          start = pos + 1;\n",
    "          break;\n",
    "\n",
    "        default:\n",
    "          \n",
    "      }\n",
    "    }\n",
    "    line.append(cbuf, start, off + len - start);\n",
    "  }\n",
    "\"\"\")\n",
    "variables_category.append(\"loop_control\")"
   ]
  },
  {
   "cell_type": "code",
   "execution_count": 29,
   "id": "COwCMxqRfg0s",
   "metadata": {
    "id": "COwCMxqRfg0s"
   },
   "outputs": [],
   "source": [
    "variables_name.append(\"end\")\n",
    "variables_code.append(\"\"\"\n",
    "protected void add(char[] cbuf, int off, int len) throws IOException {\n",
    "    int pos = off;\n",
    "    if (sawReturn && len > 0) {\n",
    "      if (finishLine(cbuf[pos] == '\\n')) {\n",
    "        pos++;\n",
    "      }\n",
    "    }\n",
    "\n",
    "    int start = pos;\n",
    "    for (int end = off + len; pos < end; pos++) {\n",
    "      switch (cbuf[pos]) {\n",
    "        case '\\r':\n",
    "          line.append(cbuf, start, pos - start);\n",
    "          sawReturn = true;\n",
    "          if (pos + 1 < end) {\n",
    "            if (finishLine(cbuf[pos + 1] == '\\n')) {\n",
    "              pos++;\n",
    "            }\n",
    "          }\n",
    "          start = pos + 1;\n",
    "          break;\n",
    "\n",
    "        case '\\n':\n",
    "          line.append(cbuf, start, pos - start);\n",
    "          finishLine(true);\n",
    "          start = pos + 1;\n",
    "          break;\n",
    "\n",
    "        default:\n",
    "          \n",
    "      }\n",
    "    }\n",
    "    line.append(cbuf, start, off + len - start);\n",
    "  }\n",
    "\"\"\")\n",
    "variables_category.append(\"loop_control\")"
   ]
  },
  {
   "cell_type": "markdown",
   "id": "ZS9Q_2_KdQ0j",
   "metadata": {
    "id": "ZS9Q_2_KdQ0j"
   },
   "source": [
    "### Example 21"
   ]
  },
  {
   "cell_type": "code",
   "execution_count": 30,
   "id": "vcIyVIc1dQ0k",
   "metadata": {
    "id": "vcIyVIc1dQ0k"
   },
   "outputs": [],
   "source": [
    "variables_name.append(\"i\")\n",
    "variables_code.append(\"\"\"\n",
    "private void filterVisibilityOfSubsequentBoardMenus(List<JMenu> boardsCustomMenus, TargetBoard board,\n",
    "                                                      int fromIndex) {\n",
    "    for (int i = fromIndex; i < boardsCustomMenus.size(); i++) {\n",
    "      JMenu menu = boardsCustomMenus.get(i);\n",
    "      for (int m = 0; m < menu.getItemCount(); m++) {\n",
    "        JMenuItem menuItem = menu.getItem(m);\n",
    "        for (TargetBoard t_board : (List<TargetBoard>)menuItem.getAction().getValue(\"board\")) {\n",
    "          menuItem.setVisible(t_board.equals(board));\n",
    "        }\n",
    "      }\n",
    "      menu.setVisible(ifThereAreVisibleItemsOn(menu));\n",
    "\n",
    "      if (menu.isVisible()) {\n",
    "        JMenuItem visibleSelectedOrFirstMenuItem = selectVisibleSelectedOrFirstMenuItem(menu);\n",
    "        if (!visibleSelectedOrFirstMenuItem.isSelected()) {\n",
    "          visibleSelectedOrFirstMenuItem.setSelected(true);\n",
    "          visibleSelectedOrFirstMenuItem.getAction().actionPerformed(null);\n",
    "        }\n",
    "      }\n",
    "    }\n",
    "  }\n",
    "\"\"\")\n",
    "variables_category.append(\"loop_control\")"
   ]
  },
  {
   "cell_type": "code",
   "execution_count": 31,
   "id": "eRTRqLnWfy57",
   "metadata": {
    "id": "eRTRqLnWfy57"
   },
   "outputs": [],
   "source": [
    "variables_name.append(\"m\")\n",
    "variables_code.append(\"\"\"\n",
    "private void filterVisibilityOfSubsequentBoardMenus(List<JMenu> boardsCustomMenus, TargetBoard board,\n",
    "                                                      int fromIndex) {\n",
    "    for (int i = fromIndex; i < boardsCustomMenus.size(); i++) {\n",
    "      JMenu menu = boardsCustomMenus.get(i);\n",
    "      for (int m = 0; m < menu.getItemCount(); m++) {\n",
    "        JMenuItem menuItem = menu.getItem(m);\n",
    "        for (TargetBoard t_board : (List<TargetBoard>)menuItem.getAction().getValue(\"board\")) {\n",
    "          menuItem.setVisible(t_board.equals(board));\n",
    "        }\n",
    "      }\n",
    "      menu.setVisible(ifThereAreVisibleItemsOn(menu));\n",
    "\n",
    "      if (menu.isVisible()) {\n",
    "        JMenuItem visibleSelectedOrFirstMenuItem = selectVisibleSelectedOrFirstMenuItem(menu);\n",
    "        if (!visibleSelectedOrFirstMenuItem.isSelected()) {\n",
    "          visibleSelectedOrFirstMenuItem.setSelected(true);\n",
    "          visibleSelectedOrFirstMenuItem.getAction().actionPerformed(null);\n",
    "        }\n",
    "      }\n",
    "    }\n",
    "  }\n",
    "\"\"\")\n",
    "variables_category.append(\"loop_control\")"
   ]
  },
  {
   "cell_type": "markdown",
   "id": "32e2b7f1",
   "metadata": {
    "id": "wFogpzQrdQ0m"
   },
   "source": [
    "### Example 22"
   ]
  },
  {
   "cell_type": "code",
   "execution_count": 32,
   "id": "da80d826",
   "metadata": {
    "id": "UWxzvyw6dQ0m"
   },
   "outputs": [],
   "source": [
    "variables_name.append(\"suffix\")\n",
    "variables_code.append(\"\"\"\n",
    "public boolean matchesBoard(TargetBoard board) {\n",
    "    PreferencesMap identificationProps = getIdentificationPrefs();\n",
    "    PreferencesMap boardProps = board.getPreferences();\n",
    "\n",
    "    String wildMatcher = identificationProps.get(\".\");\n",
    "    if (wildMatcher != null) {\n",
    "      if (wildMatcher.equals(board.getId())) {\n",
    "        return true;\n",
    "      }\n",
    "      if (wildMatcher.equals(board.getFQBN())) {\n",
    "        return true;\n",
    "      }\n",
    "    }\n",
    "\n",
    "    for (int suffix = 0;; suffix++) {\n",
    "      boolean found = true;\n",
    "      for (String prop : identificationProps.keySet()) {\n",
    "        String value = identificationProps.get(prop);\n",
    "        prop += \".\" + suffix;\n",
    "        if (!boardProps.containsKey(prop)) {\n",
    "          return false;\n",
    "        }\n",
    "        if (!value.equalsIgnoreCase(boardProps.get(prop))) {\n",
    "          found = false;\n",
    "          break;\n",
    "        }\n",
    "      }\n",
    "      if (found) {\n",
    "        return true;\n",
    "      }\n",
    "    }\n",
    "}\n",
    "\"\"\")\n",
    "variables_category.append(\"loop_control\")"
   ]
  },
  {
   "cell_type": "markdown",
   "id": "4440a544",
   "metadata": {
    "id": "wFogpzQrdQ0m"
   },
   "source": [
    "### Example 23"
   ]
  },
  {
   "cell_type": "code",
   "execution_count": 33,
   "id": "3d686624",
   "metadata": {
    "id": "UWxzvyw6dQ0m"
   },
   "outputs": [],
   "source": [
    "variables_name.append(\"i\")\n",
    "variables_code.append(\"\"\"\n",
    "public synchronized void forceRefresh() {\n",
    "    Platform platform = BaseNoGui.getPlatform();\n",
    "    if (platform == null) {\n",
    "      return;\n",
    "    }\n",
    "\n",
    "    List<String> ports = platform.listSerials();\n",
    "    if (ports.equals(oldPorts)) {\n",
    "      return;\n",
    "    }\n",
    "\n",
    "    oldPorts.clear();\n",
    "    oldPorts.addAll(ports);\n",
    "\n",
    "    for (BoardPort board : boardPorts) {\n",
    "      if (!ports.contains(board.toCompleteString())) {\n",
    "        board.setOnlineStatus(false);\n",
    "      }\n",
    "    }\n",
    "\n",
    "    for (String newPort : ports) {\n",
    "\n",
    "      BoardPort oldBoardPort = boardPorts.stream() //\n",
    "          .filter(bp -> bp.toCompleteString().equalsIgnoreCase(newPort)) //\n",
    "          .findAny().orElse(null);\n",
    "      if (oldBoardPort != null) {\n",
    "        oldBoardPort.setOnlineStatus(true);\n",
    "        continue;\n",
    "      }\n",
    "\n",
    "      String[] parts = newPort.split(\"_\");\n",
    "      if (parts.length < 3) {\n",
    "        continue;\n",
    "      }\n",
    "      if (parts.length > 3) {\n",
    "        for (int i = 1; i < (parts.length-2); i++) {\n",
    "          parts[0] += \"_\" + parts[i];\n",
    "        }\n",
    "        parts[1] = parts[parts.length-2];\n",
    "        parts[2] = parts[parts.length-1];\n",
    "      }\n",
    "    }\n",
    "      setSerialBoardPorts(boardPorts);\n",
    "}\n",
    "\"\"\")\n",
    "variables_category.append(\"loop_control\")"
   ]
  },
  {
   "cell_type": "markdown",
   "id": "f46d875e",
   "metadata": {
    "id": "wFogpzQrdQ0m"
   },
   "source": [
    "### Example 24"
   ]
  },
  {
   "cell_type": "code",
   "execution_count": 34,
   "id": "8e2b0f1e",
   "metadata": {
    "id": "UWxzvyw6dQ0m"
   },
   "outputs": [],
   "source": [
    "variables_name.append(\"i\")\n",
    "variables_code.append(\"\"\"\n",
    "private void testEqualsUsing(final Invokable<?, ?> factory)\n",
    "      throws ParameterNotInstantiableException, ParameterHasNoDistinctValueException,\n",
    "          IllegalAccessException, InvocationTargetException, FactoryMethodReturnsNullException {\n",
    "    List<Parameter> params = factory.getParameters();\n",
    "    List<FreshValueGenerator> argGenerators = Lists.newArrayListWithCapacity(params.size());\n",
    "    List<Object> args = Lists.newArrayListWithCapacity(params.size());\n",
    "    for (Parameter param : params) {\n",
    "      FreshValueGenerator generator = newFreshValueGenerator();\n",
    "      argGenerators.add(generator);\n",
    "      args.add(generateDummyArg(param, generator));\n",
    "    }\n",
    "    Object instance = createInstance(factory, args);\n",
    "    List<Object> equalArgs = generateEqualFactoryArguments(factory, params, args);\n",
    "    // Each group is a List of items, each item has a list of factory args.\n",
    "    final List<List<List<Object>>> argGroups = Lists.newArrayList();\n",
    "    argGroups.add(ImmutableList.of(args, equalArgs));\n",
    "    EqualsTester tester =\n",
    "        new EqualsTester(\n",
    "            new ItemReporter() {\n",
    "              @Override\n",
    "              String reportItem(Item<?> item) {\n",
    "                List<Object> factoryArgs = argGroups.get(item.groupNumber).get(item.itemNumber);\n",
    "                return factory.getName()\n",
    "                    + \"(\"\n",
    "                    + Joiner.on(\", \").useForNull(\"null\").join(factoryArgs)\n",
    "                    + \")\";\n",
    "              }\n",
    "            });\n",
    "    tester.addEqualityGroup(instance, createInstance(factory, equalArgs));\n",
    "    for (int i = 0; i < params.size(); i++) {\n",
    "      List<Object> newArgs = Lists.newArrayList(args);\n",
    "      Object newArg = argGenerators.get(i).generateFresh(params.get(i).getType());\n",
    "\n",
    "      if (newArg == null || Objects.equal(args.get(i), newArg)) {\n",
    "        if (params.get(i).getType().getRawType().isEnum()) {\n",
    "          continue; // Nothing better we can do if it's single-value enum\n",
    "        }\n",
    "        throw new ParameterHasNoDistinctValueException(params.get(i));\n",
    "      }\n",
    "      newArgs.set(i, newArg);\n",
    "      tester.addEqualityGroup(createInstance(factory, newArgs));\n",
    "      argGroups.add(ImmutableList.of(newArgs));\n",
    "    }\n",
    "    tester.testEquals();\n",
    "    }\n",
    "\"\"\")\n",
    "variables_category.append(\"loop_control\")"
   ]
  },
  {
   "cell_type": "markdown",
   "id": "I_AVn-jcdQ0l",
   "metadata": {
    "id": "I_AVn-jcdQ0l"
   },
   "source": [
    "## Iterators"
   ]
  },
  {
   "cell_type": "markdown",
   "id": "wFogpzQrdQ0m",
   "metadata": {
    "id": "wFogpzQrdQ0m"
   },
   "source": [
    "### Example 1"
   ]
  },
  {
   "cell_type": "code",
   "execution_count": 35,
   "id": "UWxzvyw6dQ0m",
   "metadata": {
    "id": "UWxzvyw6dQ0m"
   },
   "outputs": [],
   "source": [
    "variables_name.append(\"kids\")\n",
    "variables_code.append(\"\"\"\n",
    "public static UIComponent findComponent(UIComponent parent, String id) {\n",
    "    if (id.equals(parent.getId())) {\n",
    "        return parent;\n",
    "    }\n",
    "    Iterator<UIComponent> kids = parent.getFacetsAndChildren();\n",
    "    while (kids.hasNext()) {\n",
    "        UIComponent kid = kids.next();\n",
    "        UIComponent found = findComponent(kid, id);\n",
    "        if (found != null) {\n",
    "            return found;\n",
    "        }\n",
    "    }\n",
    "    return null;\n",
    "}\n",
    "\"\"\")\n",
    "variables_category.append(\"iterator\")"
   ]
  },
  {
   "cell_type": "markdown",
   "id": "kkFHG4sQdQ0n",
   "metadata": {
    "id": "kkFHG4sQdQ0n"
   },
   "source": [
    "### Example 2"
   ]
  },
  {
   "cell_type": "code",
   "execution_count": 36,
   "id": "J9XB9lwydQ0o",
   "metadata": {
    "id": "J9XB9lwydQ0o"
   },
   "outputs": [],
   "source": [
    "variables_name.append(\"keyIterator\")\n",
    "variables_code.append(\"\"\"\n",
    "public Object[][] convert(Map<String, Object> mapIn) {\n",
    "    Object[][] out = new Object[mapIn.size()][2];\n",
    "    Iterator<String> keyIterator = mapIn.keySet().iterator();\n",
    "    Iterator<Object> valueIterator = mapIn.values().iterator();\n",
    "    int row = 0;\n",
    "    while (keyIterator.hasNext()) {\n",
    "        //\n",
    "        String key = keyIterator.next();\n",
    "        Object value = valueIterator.next();\n",
    "        out[row][0] = key;\n",
    "        out[row][1] = value;\n",
    "        row++;\n",
    "    }\n",
    "    return out;\n",
    "}\n",
    "\"\"\")\n",
    "variables_category.append(\"iterator\")"
   ]
  },
  {
   "cell_type": "code",
   "execution_count": 37,
   "id": "p67cmyjugcTS",
   "metadata": {
    "id": "p67cmyjugcTS"
   },
   "outputs": [],
   "source": [
    "variables_name.append(\"valueIterator\")\n",
    "variables_code.append(\"\"\"\n",
    "public Object[][] convert(Map<String, Object> mapIn) {\n",
    "    Object[][] out = new Object[mapIn.size()][2];\n",
    "    Iterator<String> keyIterator = mapIn.keySet().iterator();\n",
    "    Iterator<Object> valueIterator = mapIn.values().iterator();\n",
    "    int row = 0;\n",
    "    while (keyIterator.hasNext()) {\n",
    "        //\n",
    "        String key = keyIterator.next();\n",
    "        Object value = valueIterator.next();\n",
    "        out[row][0] = key;\n",
    "        out[row][1] = value;\n",
    "        row++;\n",
    "    }\n",
    "    return out;\n",
    "}\n",
    "\"\"\")\n",
    "variables_category.append(\"iterator\")"
   ]
  },
  {
   "cell_type": "markdown",
   "id": "7dwct7F4dQ0p",
   "metadata": {
    "id": "7dwct7F4dQ0p"
   },
   "source": [
    "### Example 3"
   ]
  },
  {
   "cell_type": "code",
   "execution_count": 38,
   "id": "REZRMsJddQ0p",
   "metadata": {
    "id": "REZRMsJddQ0p"
   },
   "outputs": [],
   "source": [
    "variables_name.append(\"repositoryIterator\")\n",
    "variables_code.append(\"\"\"\n",
    "public LocalRepository getLocalRepositoryOrFail() {\n",
    "    Iterator<LocalRepository> repositoryIterator = pm().getExtent(LocalRepository.class).iterator();\n",
    "    if (!repositoryIterator.hasNext()) {\n",
    "        throw new IllegalStateException(\"LocalRepository entity not found in database.\");\n",
    "    }\n",
    "    LocalRepository localRepository = repositoryIterator.next();\n",
    "    if (repositoryIterator.hasNext()) {\n",
    "        throw new IllegalStateException(\"Multiple LocalRepository entities in database.\");\n",
    "    }\n",
    "    return localRepository;\n",
    "}\n",
    "\"\"\")\n",
    "variables_category.append(\"iterator\")"
   ]
  },
  {
   "cell_type": "markdown",
   "id": "InG1IKB2dQ0q",
   "metadata": {
    "id": "InG1IKB2dQ0q"
   },
   "source": [
    "### Example 4"
   ]
  },
  {
   "cell_type": "code",
   "execution_count": 39,
   "id": "a0lbbjm4dQ0q",
   "metadata": {
    "id": "a0lbbjm4dQ0q"
   },
   "outputs": [],
   "source": [
    "variables_name.append(\"iter\")\n",
    "variables_code.append(\"\"\"\n",
    "public String toString() {\n",
    "    StringBuilder sb = new StringBuilder();\n",
    "    sb.append(name).append('(');\n",
    "    Iterator<Object> iter = args.iterator();\n",
    "    if (iter.hasNext()) {\n",
    "        sb.append(JsonUtil.toJsonScriptCode(iter.next()));\n",
    "    }\n",
    "    for (; iter.hasNext(); ) {\n",
    "        sb.append(',');\n",
    "        sb.append(JsonUtil.toJsonScriptCode(iter.next()));\n",
    "    }\n",
    "    return sb.toString();\n",
    "}\n",
    "\"\"\")\n",
    "variables_category.append(\"iterator\")"
   ]
  },
  {
   "cell_type": "markdown",
   "id": "cci4sHhAdQ0r",
   "metadata": {
    "id": "cci4sHhAdQ0r"
   },
   "source": [
    "### Example 5 "
   ]
  },
  {
   "cell_type": "code",
   "execution_count": 40,
   "id": "L3urSnuwdQ0r",
   "metadata": {
    "id": "L3urSnuwdQ0r"
   },
   "outputs": [],
   "source": [
    "variables_name.append(\"it\")\n",
    "variables_code.append(\"\"\"\n",
    "public static void main(String[] args) {\n",
    "    ArrayList<Integer> numbers = new ArrayList<Integer>();\n",
    "    numbers.add(12);\n",
    "    numbers.add(8);\n",
    "    numbers.add(2);\n",
    "    numbers.add(23);\n",
    "    Iterator<Integer> it = numbers.iterator();\n",
    "    while(it.hasNext()) {\n",
    "      Integer i = it.next();\n",
    "      if(i < 10) {\n",
    "        it.remove();\n",
    "      }\n",
    "    }\n",
    "    System.out.println(numbers);\n",
    "  }\n",
    "\"\"\")\n",
    "variables_category.append(\"iterator\")"
   ]
  },
  {
   "cell_type": "code",
   "execution_count": 41,
   "id": "ju6enuNHg-TD",
   "metadata": {
    "id": "ju6enuNHg-TD"
   },
   "outputs": [],
   "source": [
    "variables_name.append(\"i\")\n",
    "variables_code.append(\"\"\"\n",
    "public static void main(String[] args) {\n",
    "    ArrayList<Integer> numbers = new ArrayList<Integer>();\n",
    "    numbers.add(12);\n",
    "    numbers.add(8);\n",
    "    numbers.add(2);\n",
    "    numbers.add(23);\n",
    "    Iterator<Integer> it = numbers.iterator();\n",
    "    while(it.hasNext()) {\n",
    "      Integer i = it.next();\n",
    "      if(i < 10) {\n",
    "        it.remove();\n",
    "      }\n",
    "    }\n",
    "    System.out.println(numbers);\n",
    "  }\n",
    "\"\"\")\n",
    "variables_category.append(\"iterator\")"
   ]
  },
  {
   "cell_type": "markdown",
   "id": "RpY3zlZUdQ0s",
   "metadata": {
    "id": "RpY3zlZUdQ0s"
   },
   "source": [
    "### Example 6"
   ]
  },
  {
   "cell_type": "code",
   "execution_count": 42,
   "id": "mFQKEOl6dQ0s",
   "metadata": {
    "id": "mFQKEOl6dQ0s"
   },
   "outputs": [],
   "source": [
    "variables_name.append(\"it\")\n",
    "variables_code.append(\"\"\"\n",
    "public void itShouldIterateSequenceUrls() throws Exception {\n",
    "    Iterator<Sequence> it = new SequenceIterator(Granularity.hour, 999, 1001);\n",
    "    assertEquals(\"http://planet.openstreetmap.org/replication/hour/000/001/000.osc.gz\", it.next().getUrl());\n",
    "    assertEquals(\"http://planet.openstreetmap.org/replication/hour/000/001/001.osc.gz\", it.next().getUrl());\n",
    "    assertFalse(it.hasNext());\n",
    "}\n",
    "\"\"\")\n",
    "variables_category.append(\"iterator\")"
   ]
  },
  {
   "cell_type": "markdown",
   "id": "SZLsCwRdiIl7",
   "metadata": {
    "id": "SZLsCwRdiIl7"
   },
   "source": [
    "### Example 7"
   ]
  },
  {
   "cell_type": "code",
   "execution_count": 43,
   "id": "JCGYhHyqhb9Y",
   "metadata": {
    "id": "JCGYhHyqhb9Y"
   },
   "outputs": [],
   "source": [
    "variables_name.append(\"it\")\n",
    "variables_code.append(\"\"\"\n",
    "public ErrorAggregateValue aggregate(Iterable<ErrorAggregateValue> aggValues) {\n",
    "    ErrorAggregateValue errorSum = new ErrorAggregateValue();\n",
    "    Iterator<ErrorAggregateValue> it = aggValues.iterator();\n",
    "    double errorValue = 0.0;\n",
    "    while (it.hasNext()) {\n",
    "        errorValue += Double.parseDouble(it.next().getValue());\n",
    "    }\n",
    "    errorSum.setValue(Double.toString(errorValue));\n",
    "    return errorSum;\n",
    "}\n",
    "\"\"\")\n",
    "variables_category.append(\"iterator\")"
   ]
  },
  {
   "cell_type": "markdown",
   "id": "bEIfUnX_dQ0u",
   "metadata": {
    "id": "bEIfUnX_dQ0u"
   },
   "source": [
    "### Example 8"
   ]
  },
  {
   "cell_type": "code",
   "execution_count": 44,
   "id": "TwY8N3oLgBW4",
   "metadata": {
    "id": "TwY8N3oLgBW4"
   },
   "outputs": [],
   "source": [
    "variables_name.append(\"iterator\")\n",
    "variables_code.append(\"\"\"\n",
    "public static String getAccessToken(TreeMap<String, String> map, String app_secret) {\n",
    "    String toMd5 = \"\";\n",
    "    Set<String> keys = map.keySet();\n",
    "    Iterator<String> iterator = keys.iterator();\n",
    "    while (iterator.hasNext()) {\n",
    "        String key = iterator.next();\n",
    "        toMd5 += key + \"=\" + map.get(key) + \"&\";\n",
    "    }\n",
    "    toMd5 = toMd5.substring(0, toMd5.length() - 1);\n",
    "    toMd5 += app_secret;\n",
    "    return MD5.digest(toMd5);\n",
    "}\n",
    "\"\"\")\n",
    "variables_category.append(\"iterator\")"
   ]
  },
  {
   "cell_type": "markdown",
   "id": "zeFc6vTFdQ0v",
   "metadata": {
    "id": "zeFc6vTFdQ0v"
   },
   "source": [
    "### Example 9"
   ]
  },
  {
   "cell_type": "code",
   "execution_count": 45,
   "id": "xcNB-Y1zgKtH",
   "metadata": {
    "id": "xcNB-Y1zgKtH"
   },
   "outputs": [],
   "source": [
    "variables_name.append(\"i\")\n",
    "variables_code.append(\"\"\"\n",
    "public Object visit(RelationNode node) {\n",
    "    double num = 0;\n",
    "    Object data = node.getData();\n",
    "    if (data instanceof Number) {\n",
    "        num += ((Number) data).doubleValue();\n",
    "    }\n",
    "    for (Iterator i = node.getChildren().iterator(); i.hasNext(); ) {\n",
    "        Object tmp = ((RelationNode) i.next()).accept(this);\n",
    "        if (tmp instanceof Number) {\n",
    "            num += ((Number) tmp).doubleValue();\n",
    "        }\n",
    "    }\n",
    "    return new Double(num);\n",
    "}\n",
    "\"\"\")\n",
    "variables_category.append(\"iterator\")"
   ]
  },
  {
   "cell_type": "markdown",
   "id": "sldFKBhFdQ0w",
   "metadata": {
    "id": "sldFKBhFdQ0w"
   },
   "source": [
    "### Example 10"
   ]
  },
  {
   "cell_type": "code",
   "execution_count": 46,
   "id": "o6-5HfpggNTw",
   "metadata": {
    "id": "o6-5HfpggNTw"
   },
   "outputs": [],
   "source": [
    "variables_name.append(\"iterator\")\n",
    "variables_code.append(\"\"\"\n",
    "public String getMessage() {\n",
    "    StringBuilder builder = new StringBuilder(\"[\");\n",
    "    for (Iterator<ConstraintViolation<Object>> iterator = violations.iterator(); iterator.hasNext(); ) {\n",
    "        builder.append(iterator.next().getMessage());\n",
    "        if (iterator.hasNext()) {\n",
    "            builder.append(\", \");\n",
    "        }\n",
    "    }\n",
    "    builder.append(\"]\");\n",
    "    return builder.toString();\n",
    "}\n",
    "\"\"\")\n",
    "variables_category.append(\"iterator\")"
   ]
  },
  {
   "cell_type": "markdown",
   "id": "yAdoIEXXdQ0x",
   "metadata": {
    "id": "yAdoIEXXdQ0x"
   },
   "source": [
    "### Example 11"
   ]
  },
  {
   "cell_type": "code",
   "execution_count": 47,
   "id": "AqZ7ztHQgPr_",
   "metadata": {
    "id": "AqZ7ztHQgPr_"
   },
   "outputs": [],
   "source": [
    "variables_name.append(\"lib\")\n",
    "variables_code.append(\"\"\"\n",
    "public void reload() {\n",
    "    try {\n",
    "      parseKeywordsTxt(new File(BaseNoGui.getContentFile(\"lib\"), \"keywords.txt\"));\n",
    "      TargetPlatform tp = BaseNoGui.getTargetPlatform();\n",
    "      if (tp != null) {\n",
    "        File platformKeywords = new File(tp.getFolder(), \"keywords.txt\");\n",
    "        if (platformKeywords.exists()) parseKeywordsTxt(platformKeywords);\n",
    "      }\n",
    "      for (UserLibrary lib : BaseNoGui.librariesIndexer.getInstalledLibraries()) {\n",
    "        File keywords = new File(lib.getInstalledFolder(), \"keywords.txt\");b\\\n",
    "        if (keywords.exists()) {\n",
    "          parseKeywordsTxt(keywords);\n",
    "        }\n",
    "      }\n",
    "    } catch (Exception e) {\n",
    "      Base.showError(\"Problem loading keywords\", \"Could not load keywords.txt,\\nplease re-install Arduino.\", e);\n",
    "      System.exit(1);\n",
    "    }\n",
    "  }\n",
    "\"\"\")\n",
    "variables_category.append(\"iterator\")"
   ]
  },
  {
   "cell_type": "markdown",
   "id": "51zkINq9dQ0y",
   "metadata": {
    "id": "51zkINq9dQ0y"
   },
   "source": [
    "### Example 12"
   ]
  },
  {
   "cell_type": "code",
   "execution_count": 48,
   "id": "Bkjt2J9ngTI5",
   "metadata": {
    "id": "Bkjt2J9ngTI5"
   },
   "outputs": [],
   "source": [
    "variables_name.append(\"editor\")\n",
    "variables_code.append(\"\"\"\n",
    "  protected void storeSketches() {\n",
    "\n",
    "    if (editors.size() == 1) {\n",
    "      storeSketchLocation(editors.get(0), \".default\");\n",
    "    }\n",
    "\n",
    "    String untitledPath = untitledFolder.getAbsolutePath();\n",
    "    List<Editor> reversedEditors = new LinkedList<>(editors);\n",
    "    Collections.reverse(reversedEditors);\n",
    "    int index = 0;\n",
    "    for (Editor editor : reversedEditors) {\n",
    "      Sketch sketch = editor.getSketch();\n",
    "      String path = sketch.getMainFilePath();\n",
    "    \n",
    "        if (path.startsWith(untitledPath) && !sketch.isModified()) {\n",
    "        continue;\n",
    "      }\n",
    "      storeSketchLocation(editor, \"\" + index);\n",
    "      index++;\n",
    "    }\n",
    "    PreferencesData.setInteger(\"last.sketch.count\", index);\n",
    "  }\n",
    "\"\"\")\n",
    "variables_category.append(\"iterator\")"
   ]
  },
  {
   "cell_type": "markdown",
   "id": "eGyfiOh9dQ0y",
   "metadata": {
    "id": "eGyfiOh9dQ0y"
   },
   "source": [
    "### Example 13"
   ]
  },
  {
   "cell_type": "code",
   "execution_count": 49,
   "id": "Qf5k02QBgV5M",
   "metadata": {
    "id": "Qf5k02QBgV5M"
   },
   "outputs": [],
   "source": [
    "variables_name.append(\"path\")\n",
    "variables_code.append(\"\"\"\n",
    "protected void rebuildRecentSketchesMenuItems() {\n",
    "    Set<File> recentSketches = new LinkedHashSet<File>() {\n",
    "        @Override\n",
    "        public boolean add(File file) {\n",
    "            if (size() >= RECENT_SKETCHES_MAX_SIZE) {\n",
    "                return false;\n",
    "            }\n",
    "            return super.add(file);\n",
    "        }\n",
    "    };\n",
    "\n",
    "    for (String path : PreferencesData.getCollection(\"recent.sketches\")) {\n",
    "      File file = new File(path);\n",
    "      if (file.exists()) {\n",
    "        recentSketches.add(file);\n",
    "      }\n",
    "    }\n",
    "\n",
    "    recentSketchesMenuItems.clear();\n",
    "    for (final File recentSketch : recentSketches) {\n",
    "      JMenuItem recentSketchMenuItem = new JMenuItem(recentSketch.getParentFile().getName());\n",
    "      recentSketchMenuItem.addActionListener(new ActionListener() {\n",
    "        @Override\n",
    "        public void actionPerformed(ActionEvent actionEvent) {\n",
    "          try {\n",
    "            handleOpen(recentSketch);\n",
    "          } catch (Exception e) {\n",
    "            e.printStackTrace();\n",
    "          }\n",
    "        }\n",
    "      });\n",
    "      recentSketchesMenuItems.add(recentSketchMenuItem);\n",
    "    }\n",
    "}\n",
    "\"\"\")\n",
    "variables_category.append(\"iterator\")"
   ]
  },
  {
   "cell_type": "code",
   "execution_count": 50,
   "id": "hHyd24iogZj3",
   "metadata": {
    "id": "hHyd24iogZj3"
   },
   "outputs": [],
   "source": [
    "variables_name.append(\"recentSketch\")\n",
    "variables_code.append(\"\"\"\n",
    "protected void rebuildRecentSketchesMenuItems() {\n",
    "    Set<File> recentSketches = new LinkedHashSet<File>() {\n",
    "        @Override\n",
    "        public boolean add(File file) {\n",
    "            if (size() >= RECENT_SKETCHES_MAX_SIZE) {\n",
    "                return false;\n",
    "            }\n",
    "            return super.add(file);\n",
    "        }\n",
    "    };\n",
    "\n",
    "    for (String path : PreferencesData.getCollection(\"recent.sketches\")) {\n",
    "      File file = new File(path);\n",
    "      if (file.exists()) {\n",
    "        recentSketches.add(file);\n",
    "      }\n",
    "    }\n",
    "\n",
    "    recentSketchesMenuItems.clear();\n",
    "    for (final File recentSketch : recentSketches) {\n",
    "      JMenuItem recentSketchMenuItem = new JMenuItem(recentSketch.getParentFile().getName());\n",
    "      recentSketchMenuItem.addActionListener(new ActionListener() {\n",
    "        @Override\n",
    "        public void actionPerformed(ActionEvent actionEvent) {\n",
    "          try {\n",
    "            handleOpen(recentSketch);\n",
    "          } catch (Exception e) {\n",
    "            e.printStackTrace();\n",
    "          }\n",
    "        }\n",
    "      });\n",
    "      recentSketchesMenuItems.add(recentSketchMenuItem);\n",
    "    }\n",
    "}\n",
    "\"\"\")\n",
    "variables_category.append(\"iterator\")"
   ]
  },
  {
   "cell_type": "markdown",
   "id": "Logqg1UedQ0z",
   "metadata": {
    "id": "Logqg1UedQ0z"
   },
   "source": [
    "### Example 14"
   ]
  },
  {
   "cell_type": "code",
   "execution_count": 51,
   "id": "DYKJl6VDgc_J",
   "metadata": {
    "id": "DYKJl6VDgc_J"
   },
   "outputs": [],
   "source": [
    "variables_name.append(\"editor\")\n",
    "variables_code.append(\"\"\"\n",
    "protected boolean handleQuitEach() {\n",
    "   for (Editor editor : editors) {\n",
    "     if (!editor.checkModified()) {\n",
    "       return false;\n",
    "     }\n",
    "   }\n",
    "   return true;\n",
    "}\n",
    "\"\"\")\n",
    "variables_category.append(\"iterator\")"
   ]
  },
  {
   "cell_type": "markdown",
   "id": "hYqVhxkldQ00",
   "metadata": {
    "id": "hYqVhxkldQ00"
   },
   "source": [
    "### Example 15"
   ]
  },
  {
   "cell_type": "code",
   "execution_count": 52,
   "id": "KHrg7pcHgfDi",
   "metadata": {
    "id": "KHrg7pcHgfDi"
   },
   "outputs": [],
   "source": [
    "variables_name.append(\"t_board\")\n",
    "variables_code.append(\"\"\"\n",
    "private void filterVisibilityOfSubsequentBoardMenus(List<JMenu> boardsCustomMenus, TargetBoard board,\n",
    "                                                      int fromIndex) {\n",
    "    for (int i = fromIndex; i < boardsCustomMenus.size(); i++) {\n",
    "      JMenu menu = boardsCustomMenus.get(i);\n",
    "      for (int m = 0; m < menu.getItemCount(); m++) {\n",
    "        JMenuItem menuItem = menu.getItem(m);\n",
    "        for (TargetBoard t_board : (List<TargetBoard>)menuItem.getAction().getValue(\"board\")) {\n",
    "          menuItem.setVisible(t_board.equals(board));\n",
    "        }\n",
    "      }\n",
    "      menu.setVisible(ifThereAreVisibleItemsOn(menu));\n",
    "\n",
    "      if (menu.isVisible()) {\n",
    "        JMenuItem visibleSelectedOrFirstMenuItem = selectVisibleSelectedOrFirstMenuItem(menu);\n",
    "        if (!visibleSelectedOrFirstMenuItem.isSelected()) {\n",
    "          visibleSelectedOrFirstMenuItem.setSelected(true);\n",
    "          visibleSelectedOrFirstMenuItem.getAction().actionPerformed(null);\n",
    "        }\n",
    "      }\n",
    "    }\n",
    "  }\n",
    "\"\"\")\n",
    "variables_category.append(\"iterator\")"
   ]
  },
  {
   "cell_type": "markdown",
   "id": "l16maE2fdQ01",
   "metadata": {
    "id": "l16maE2fdQ01"
   },
   "source": [
    "### Example 16"
   ]
  },
  {
   "cell_type": "code",
   "execution_count": 53,
   "id": "5OEkPvpSgh1v",
   "metadata": {
    "id": "5OEkPvpSgh1v"
   },
   "outputs": [],
   "source": [
    "variables_name.append(\"networkService\")\n",
    "variables_code.append(\"\"\"\n",
    "private ListenableFuture<ReconnaissanceReport> fingerprintNetworkServices(\n",
    "      PortScanningReport portScanningReport) {\n",
    "    checkNotNull(portScanningReport);\n",
    "\n",
    "    TargetInfo targetInfo = portScanningReport.getTargetInfo();\n",
    "    List<PluginMatchingResult<ServiceFingerprinter>> matchedFingerprinters = Lists.newArrayList();\n",
    "    List<NetworkService> networkServicesToKeep = Lists.newArrayList();\n",
    "    for (NetworkService networkService : portScanningReport.getNetworkServicesList()) {\n",
    "      Optional<PluginMatchingResult<ServiceFingerprinter>> matchedFingerprinter =\n",
    "          pluginManager.getServiceFingerprinter(networkService);\n",
    "      if (matchedFingerprinter.isPresent()) {\n",
    "        matchedFingerprinters.add(matchedFingerprinter.get());\n",
    "      } else {\n",
    "        networkServicesToKeep.add(networkService);\n",
    "      }\n",
    "    }\n",
    "\n",
    "    executionTracer.startServiceFingerprinting(ImmutableList.copyOf(matchedFingerprinters));\n",
    "    logger.atInfo().log(\n",
    "        \"Port scanning phase done, moving to service fingerprinting phase with '%d'\"\n",
    "            + \" fingerprinter(s) selected.\",\n",
    "        matchedFingerprinters.size());\n",
    "\n",
    "   ImmutableList<ListenableFuture<PluginExecutionResult<FingerprintingReport>>>\n",
    "        fingerprintingResultFutures =\n",
    "            matchedFingerprinters.stream()\n",
    "                .map(fingerprinter -> buildFingerprinterExecutorConfig(targetInfo, fingerprinter))\n",
    "                .map(executorConfig -> pluginExecutorProvider.get().executeAsync(executorConfig))\n",
    "                .collect(toImmutableList());\n",
    "    return FluentFuture.from(Futures.successfulAsList(fingerprintingResultFutures))\n",
    "        .transform(\n",
    "            executionResults ->\n",
    "                ReconnaissanceReport.newBuilder()\n",
    "                    .setTargetInfo(targetInfo)\n",
    "                    .addAllNetworkServices(networkServicesToKeep)\n",
    "                    .addAllNetworkServices(getFingerprintedServices(executionResults))\n",
    "                    .build(),\n",
    "            directExecutor());\n",
    "  }\n",
    "\"\"\")\n",
    "variables_category.append(\"iterator\")"
   ]
  },
  {
   "cell_type": "markdown",
   "id": "Qy8eXeLCdQ02",
   "metadata": {
    "id": "Qy8eXeLCdQ02"
   },
   "source": [
    "### Example 17"
   ]
  },
  {
   "cell_type": "code",
   "execution_count": 54,
   "id": "BWMdWGRnglT7",
   "metadata": {
    "id": "BWMdWGRnglT7"
   },
   "outputs": [],
   "source": [
    "variables_name.append(\"node\")\n",
    "variables_code.append(\"\"\"\n",
    " private ImmutableSet<N> validate(Iterable<? extends N> startNodes) {\n",
    "    ImmutableSet<N> copy = ImmutableSet.copyOf(startNodes);\n",
    "    for (N node : copy) {\n",
    "      successorFunction.successors(node); // Will throw if node doesn't exist\n",
    "    }\n",
    "    return copy;\n",
    "  }\n",
    "\"\"\")\n",
    "variables_category.append(\"iterator\")"
   ]
  },
  {
   "cell_type": "markdown",
   "id": "sDl569VldQ02",
   "metadata": {
    "id": "sDl569VldQ02"
   },
   "source": [
    "### Example 18"
   ]
  },
  {
   "cell_type": "code",
   "execution_count": 55,
   "id": "pj-pKTr5goHw",
   "metadata": {
    "id": "pj-pKTr5goHw"
   },
   "outputs": [],
   "source": [
    "variables_name.append(\"edge\")\n",
    "variables_code.append(\"\"\"\n",
    "  public boolean removeNode(N node) {\n",
    "    checkNotNull(node, \"node\");\n",
    "\n",
    "    NetworkConnections<N, E> connections = nodeConnections.get(node);\n",
    "    if (connections == null) {\n",
    "      return false;\n",
    "    }\n",
    "\n",
    "    for (E edge : ImmutableList.copyOf(connections.incidentEdges())) {\n",
    "      removeEdge(edge);\n",
    "    }\n",
    "    nodeConnections.remove(node);\n",
    "    return true;\n",
    "  }\n",
    "\"\"\")\n",
    "variables_category.append(\"iterator\")"
   ]
  },
  {
   "cell_type": "markdown",
   "id": "JubwuUhhdQ03",
   "metadata": {
    "id": "JubwuUhhdQ03"
   },
   "source": [
    "### Example 19"
   ]
  },
  {
   "cell_type": "code",
   "execution_count": 56,
   "id": "LNsvcivXgqdy",
   "metadata": {
    "id": "LNsvcivXgqdy"
   },
   "outputs": [],
   "source": [
    "variables_name.append(\"source\")\n",
    "variables_code.append(\"\"\"\n",
    "    public long length() throws IOException {\n",
    "      long result = 0L;\n",
    "      for (CharSource source : sources) {\n",
    "        result += source.length();\n",
    "      }\n",
    "      return result;\n",
    "    }\n",
    "\"\"\")\n",
    "variables_category.append(\"iterator\")"
   ]
  },
  {
   "cell_type": "markdown",
   "id": "TEQsuhSFdQ04",
   "metadata": {
    "id": "TEQsuhSFdQ04"
   },
   "source": [
    "### Example 20"
   ]
  },
  {
   "cell_type": "code",
   "execution_count": 57,
   "id": "GEP7SDaZgtAE",
   "metadata": {
    "id": "GEP7SDaZgtAE"
   },
   "outputs": [],
   "source": [
    "variables_name.append(\"e\")\n",
    "variables_code.append(\"\"\"\n",
    "  private static void throwDeleteFailed(Path path, Collection<IOException> exceptions)\n",
    "      throws FileSystemException {\n",
    "    NoSuchFileException pathNotFound = pathNotFound(path, exceptions);\n",
    "    if (pathNotFound != null) {\n",
    "      throw pathNotFound;\n",
    "    }\n",
    "    \n",
    "    FileSystemException deleteFailed =\n",
    "        new FileSystemException(\n",
    "            path.toString(),\n",
    "            null,\n",
    "            \"failed to delete one or more files; see suppressed exceptions for details\");\n",
    "    for (IOException e : exceptions) {\n",
    "      deleteFailed.addSuppressed(e);\n",
    "    }\n",
    "    throw deleteFailed;\n",
    "  }\n",
    "\"\"\")\n",
    "variables_category.append(\"iterator\")"
   ]
  },
  {
   "cell_type": "code",
   "execution_count": 58,
   "id": "88a5a790",
   "metadata": {
    "id": "eRTRqLnWfy57"
   },
   "outputs": [],
   "source": [
    "variables_name.append(\"t_board\")\n",
    "variables_code.append(\"\"\"\n",
    "private void filterVisibilityOfSubsequentBoardMenus(List<JMenu> boardsCustomMenus, TargetBoard board,\n",
    "                                                      int fromIndex) {\n",
    "    for (int i = fromIndex; i < boardsCustomMenus.size(); i++) {\n",
    "      JMenu menu = boardsCustomMenus.get(i);\n",
    "      for (int m = 0; m < menu.getItemCount(); m++) {\n",
    "        JMenuItem menuItem = menu.getItem(m);\n",
    "        for (TargetBoard t_board : (List<TargetBoard>)menuItem.getAction().getValue(\"board\")) {\n",
    "          menuItem.setVisible(t_board.equals(board));\n",
    "        }\n",
    "      }\n",
    "      menu.setVisible(ifThereAreVisibleItemsOn(menu));\n",
    "\n",
    "      if (menu.isVisible()) {\n",
    "        JMenuItem visibleSelectedOrFirstMenuItem = selectVisibleSelectedOrFirstMenuItem(menu);\n",
    "        if (!visibleSelectedOrFirstMenuItem.isSelected()) {\n",
    "          visibleSelectedOrFirstMenuItem.setSelected(true);\n",
    "          visibleSelectedOrFirstMenuItem.getAction().actionPerformed(null);\n",
    "        }\n",
    "      }\n",
    "    }\n",
    "  }\n",
    "\"\"\")\n",
    "variables_category.append(\"iterator\")"
   ]
  },
  {
   "cell_type": "markdown",
   "id": "a450cb75",
   "metadata": {
    "id": "wFogpzQrdQ0m"
   },
   "source": [
    "### Example 22"
   ]
  },
  {
   "cell_type": "code",
   "execution_count": 59,
   "id": "b11a79b2",
   "metadata": {
    "id": "UWxzvyw6dQ0m"
   },
   "outputs": [],
   "source": [
    "variables_name.append(\"prop\")\n",
    "variables_code.append(\"\"\"\n",
    "public boolean matchesBoard(TargetBoard board) {\n",
    "    PreferencesMap identificationProps = getIdentificationPrefs();\n",
    "    PreferencesMap boardProps = board.getPreferences();\n",
    "\n",
    "    String wildMatcher = identificationProps.get(\".\");\n",
    "    if (wildMatcher != null) {\n",
    "      if (wildMatcher.equals(board.getId())) {\n",
    "        return true;\n",
    "      }\n",
    "      if (wildMatcher.equals(board.getFQBN())) {\n",
    "        return true;\n",
    "      }\n",
    "    }\n",
    "    \n",
    "    int suffix = 0\n",
    "    for (;; suffix++) {\n",
    "      boolean found = true;\n",
    "      for (String prop : identificationProps.keySet()) {\n",
    "        String value = identificationProps.get(prop);\n",
    "        prop += \".\" + suffix;\n",
    "        if (!boardProps.containsKey(prop)) {\n",
    "          return false;\n",
    "        }\n",
    "        if (!value.equalsIgnoreCase(boardProps.get(prop))) {\n",
    "          found = false;\n",
    "          break;\n",
    "        }\n",
    "      }\n",
    "      if (found) {\n",
    "        return true;\n",
    "      }\n",
    "    }\n",
    "}\n",
    "\"\"\")\n",
    "variables_category.append(\"iterator\")"
   ]
  },
  {
   "cell_type": "markdown",
   "id": "e139c620",
   "metadata": {
    "id": "wFogpzQrdQ0m"
   },
   "source": [
    "### Example 23"
   ]
  },
  {
   "cell_type": "code",
   "execution_count": 60,
   "id": "c29e64fb",
   "metadata": {
    "id": "UWxzvyw6dQ0m"
   },
   "outputs": [],
   "source": [
    "variables_name.append(\"board\")\n",
    "variables_code.append(\"\"\"\n",
    "public synchronized void forceRefresh() {\n",
    "    Platform platform = BaseNoGui.getPlatform();\n",
    "    if (platform == null) {\n",
    "      return;\n",
    "    }\n",
    "\n",
    "    List<String> ports = platform.listSerials();\n",
    "    if (ports.equals(oldPorts)) {\n",
    "      return;\n",
    "    }\n",
    "\n",
    "    oldPorts.clear();\n",
    "    oldPorts.addAll(ports);\n",
    "\n",
    "    for (BoardPort board : boardPorts) {\n",
    "      if (!ports.contains(board.toCompleteString())) {\n",
    "        board.setOnlineStatus(false);\n",
    "      }\n",
    "    }\n",
    "\n",
    "    for (String newPort : ports) {\n",
    "\n",
    "      BoardPort oldBoardPort = boardPorts.stream() //\n",
    "          .filter(bp -> bp.toCompleteString().equalsIgnoreCase(newPort)) //\n",
    "          .findAny().orElse(null);\n",
    "      if (oldBoardPort != null) {\n",
    "        oldBoardPort.setOnlineStatus(true);\n",
    "        continue;\n",
    "      }\n",
    "\n",
    "      String[] parts = newPort.split(\"_\");\n",
    "      if (parts.length < 3) {\n",
    "        continue;\n",
    "      }\n",
    "      if (parts.length > 3) {\n",
    "        for (int i = 1; i < (parts.length-2); i++) {\n",
    "          parts[0] += \"_\" + parts[i];\n",
    "        }\n",
    "        parts[1] = parts[parts.length-2];\n",
    "        parts[2] = parts[parts.length-1];\n",
    "      }\n",
    "    }\n",
    "      setSerialBoardPorts(boardPorts);\n",
    "}\n",
    "\"\"\")\n",
    "variables_category.append(\"iterator\")"
   ]
  },
  {
   "cell_type": "markdown",
   "id": "ffb39dbd",
   "metadata": {
    "id": "wFogpzQrdQ0m"
   },
   "source": [
    "### Example 23"
   ]
  },
  {
   "cell_type": "code",
   "execution_count": 61,
   "id": "1ea10fbd",
   "metadata": {
    "id": "UWxzvyw6dQ0m"
   },
   "outputs": [],
   "source": [
    "variables_name.append(\"newPort\")\n",
    "variables_code.append(\"\"\"\n",
    "public synchronized void forceRefresh() {\n",
    "    Platform platform = BaseNoGui.getPlatform();\n",
    "    if (platform == null) {\n",
    "      return;\n",
    "    }\n",
    "\n",
    "    List<String> ports = platform.listSerials();\n",
    "    if (ports.equals(oldPorts)) {\n",
    "      return;\n",
    "    }\n",
    "\n",
    "    oldPorts.clear();\n",
    "    oldPorts.addAll(ports);\n",
    "\n",
    "    for (BoardPort board : boardPorts) {\n",
    "      if (!ports.contains(board.toCompleteString())) {\n",
    "        board.setOnlineStatus(false);\n",
    "      }\n",
    "    }\n",
    "\n",
    "    for (String newPort : ports) {\n",
    "\n",
    "      BoardPort oldBoardPort = boardPorts.stream() //\n",
    "          .filter(bp -> bp.toCompleteString().equalsIgnoreCase(newPort)) //\n",
    "          .findAny().orElse(null);\n",
    "      if (oldBoardPort != null) {\n",
    "        oldBoardPort.setOnlineStatus(true);\n",
    "        continue;\n",
    "      }\n",
    "\n",
    "      String[] parts = newPort.split(\"_\");\n",
    "      if (parts.length < 3) {\n",
    "        continue;\n",
    "      }\n",
    "      if (parts.length > 3) {\n",
    "        for (int i = 1; i < (parts.length-2); i++) {\n",
    "          parts[0] += \"_\" + parts[i];\n",
    "        }\n",
    "        parts[1] = parts[parts.length-2];\n",
    "        parts[2] = parts[parts.length-1];\n",
    "      }\n",
    "    }\n",
    "      setSerialBoardPorts(boardPorts);\n",
    "}\n",
    "\"\"\")\n",
    "variables_category.append(\"iterator\")"
   ]
  },
  {
   "cell_type": "markdown",
   "id": "ee22bdf7",
   "metadata": {
    "id": "wFogpzQrdQ0m"
   },
   "source": [
    "### Example 24"
   ]
  },
  {
   "cell_type": "code",
   "execution_count": 62,
   "id": "bba2aa4a",
   "metadata": {
    "id": "UWxzvyw6dQ0m"
   },
   "outputs": [],
   "source": [
    "variables_name.append(\"param\")\n",
    "variables_code.append(\"\"\"\n",
    "private void testEqualsUsing(final Invokable<?, ?> factory)\n",
    "      throws ParameterNotInstantiableException, ParameterHasNoDistinctValueException,\n",
    "          IllegalAccessException, InvocationTargetException, FactoryMethodReturnsNullException {\n",
    "    List<Parameter> params = factory.getParameters();\n",
    "    List<FreshValueGenerator> argGenerators = Lists.newArrayListWithCapacity(params.size());\n",
    "    List<Object> args = Lists.newArrayListWithCapacity(params.size());\n",
    "    for (Parameter param : params) {\n",
    "      FreshValueGenerator generator = newFreshValueGenerator();\n",
    "      argGenerators.add(generator);\n",
    "      args.add(generateDummyArg(param, generator));\n",
    "    }\n",
    "    Object instance = createInstance(factory, args);\n",
    "    List<Object> equalArgs = generateEqualFactoryArguments(factory, params, args);\n",
    "    // Each group is a List of items, each item has a list of factory args.\n",
    "    final List<List<List<Object>>> argGroups = Lists.newArrayList();\n",
    "    argGroups.add(ImmutableList.of(args, equalArgs));\n",
    "    EqualsTester tester =\n",
    "        new EqualsTester(\n",
    "            new ItemReporter() {\n",
    "              @Override\n",
    "              String reportItem(Item<?> item) {\n",
    "                List<Object> factoryArgs = argGroups.get(item.groupNumber).get(item.itemNumber);\n",
    "                return factory.getName()\n",
    "                    + \"(\"\n",
    "                    + Joiner.on(\", \").useForNull(\"null\").join(factoryArgs)\n",
    "                    + \")\";\n",
    "              }\n",
    "            });\n",
    "    tester.addEqualityGroup(instance, createInstance(factory, equalArgs));\n",
    "    for (int i = 0; i < params.size(); i++) {\n",
    "      List<Object> newArgs = Lists.newArrayList(args);\n",
    "      Object newArg = argGenerators.get(i).generateFresh(params.get(i).getType());\n",
    "\n",
    "      if (newArg == null || Objects.equal(args.get(i), newArg)) {\n",
    "        if (params.get(i).getType().getRawType().isEnum()) {\n",
    "          continue; // Nothing better we can do if it's single-value enum\n",
    "        }\n",
    "        throw new ParameterHasNoDistinctValueException(params.get(i));\n",
    "      }\n",
    "      newArgs.set(i, newArg);\n",
    "      tester.addEqualityGroup(createInstance(factory, newArgs));\n",
    "      argGroups.add(ImmutableList.of(newArgs));\n",
    "    }\n",
    "    tester.testEquals();\n",
    "    }\n",
    "\"\"\")\n",
    "variables_category.append(\"loop_control\")"
   ]
  },
  {
   "cell_type": "markdown",
   "id": "f8825e7f",
   "metadata": {},
   "source": [
    "# Other variables"
   ]
  },
  {
   "cell_type": "markdown",
   "id": "34db665d",
   "metadata": {},
   "source": [
    "## Example 1"
   ]
  },
  {
   "cell_type": "code",
   "execution_count": 63,
   "id": "a98c36fe",
   "metadata": {},
   "outputs": [],
   "source": [
    "# variables_name.append(\"sum\")\n",
    "# variables_code.append(\"\"\"\n",
    "# public static void main(String[] args) {\n",
    "      \n",
    "#     int sum = 0;\n",
    "#     int number = 0;\n",
    "\n",
    "#     Scanner input = new Scanner(System.in);\n",
    "       \n",
    "#     do {\n",
    "#       sum += number;\n",
    "#       System.out.println(\"Enter a number\");\n",
    "#       number = input.nextInt();\n",
    "#     } while(number >= 0); \n",
    "   \n",
    "#     System.out.println(\"Sum = \" + sum);\n",
    "#     input.close();\n",
    "#   }\n",
    "# \"\"\")\n",
    "# variables_category.append(\"others\")"
   ]
  },
  {
   "cell_type": "code",
   "execution_count": 64,
   "id": "wVBVrIJslEen",
   "metadata": {
    "colab": {
     "base_uri": "https://localhost:8080/"
    },
    "id": "wVBVrIJslEen",
    "outputId": "06180585-75a9-484d-9860-dfa653a3f3d6"
   },
   "outputs": [
    {
     "name": "stdout",
     "output_type": "stream",
     "text": [
      "59 59 59\n"
     ]
    }
   ],
   "source": [
    "print(len(variables_name), len(variables_code), len(variables_category))"
   ]
  },
  {
   "cell_type": "markdown",
   "id": "qrZ_jLAuhl_N",
   "metadata": {
    "id": "qrZ_jLAuhl_N"
   },
   "source": [
    "# Loading CSV database\n",
    "\n",
    "Generating dataset with different representations of the columns."
   ]
  },
  {
   "cell_type": "code",
   "execution_count": 65,
   "id": "99734bcb",
   "metadata": {
    "id": "XnQkdPdwn6r_"
   },
   "outputs": [],
   "source": [
    "import pandas as pd\n",
    "import numpy as np\n",
    "\n",
    "size = len(variables_name)"
   ]
  },
  {
   "cell_type": "code",
   "execution_count": 66,
   "id": "e77dfb91",
   "metadata": {},
   "outputs": [
    {
     "data": {
      "text/plain": [
       "{'Name': 'i',\n",
       " 'Code': '\\npublic static int isPairSum(int A[], int N, int X)\\n    {\\n        int i = 0;\\n        int j = N - 1;\\n \\n        do {\\n            if (A[i] + A[j] == X) \\n                return 1;\\n            else if (A[i] + A[j] < X)\\n                i++;\\n            else\\n                j--;\\n        } while (i < j);\\n        return 0;\\n    }\\n',\n",
       " 'Category': 'loop_control'}"
      ]
     },
     "execution_count": 66,
     "metadata": {},
     "output_type": "execute_result"
    }
   ],
   "source": [
    "matrix = [dict() for k in range(size)]\n",
    "\n",
    "for i in range(size) :\n",
    "    matrix[i]['Name'] = variables_name[i]\n",
    "    matrix[i]['Code'] = variables_code[i]\n",
    "    matrix[i]['Category'] = variables_category[i]\n",
    "\n",
    "matrix[0]"
   ]
  },
  {
   "cell_type": "code",
   "execution_count": 67,
   "id": "6c69d0a8",
   "metadata": {},
   "outputs": [
    {
     "name": "stdout",
     "output_type": "stream",
     "text": [
      "     Name                                               Code      Category\n",
      "0       i  \\npublic static int isPairSum(int A[], int N, ...  loop_control\n",
      "1       j  \\npublic static int isPairSum(int A[], int N, ...  loop_control\n",
      "2   input  \\nfinal public static void Authification(Strin...  loop_control\n",
      "3  number  \\npublic static void main(String[] args) {\\n  ...  loop_control\n",
      "4     num  \\npublic static void RussianRoulette (String[]...  loop_control\n",
      "\n",
      "\n",
      "public static int isPairSum(int A[], int N, int X)\n",
      "    {\n",
      "        int i = 0;\n",
      "        int j = N - 1;\n",
      " \n",
      "        do {\n",
      "            if (A[i] + A[j] == X) \n",
      "                return 1;\n",
      "            else if (A[i] + A[j] < X)\n",
      "                i++;\n",
      "            else\n",
      "                j--;\n",
      "        } while (i < j);\n",
      "        return 0;\n",
      "    }\n",
      "\n"
     ]
    }
   ],
   "source": [
    "df = pd.DataFrame(matrix)\n",
    "\n",
    "print(df.head())\n",
    "print()\n",
    "print(df['Code'][0])"
   ]
  },
  {
   "cell_type": "code",
   "execution_count": 68,
   "id": "154c7462",
   "metadata": {},
   "outputs": [],
   "source": [
    "df.to_csv(r'./database.csv', index = False)"
   ]
  },
  {
   "cell_type": "markdown",
   "id": "5a107dc9",
   "metadata": {},
   "source": [
    "## (Depricated) Code without whitespaces"
   ]
  },
  {
   "cell_type": "code",
   "execution_count": 69,
   "id": "51a1d551",
   "metadata": {
    "id": "XnQkdPdwn6r_"
   },
   "outputs": [
    {
     "data": {
      "text/plain": [
       "'publicstaticintisPairSum(intA[],intN,intX){inti=0;intj=N-1;do{if(A[i]+A[j]==X)return1;elseif(A[i]+A[j]<X)i++;elsej--;}while(i<j);return0;}'"
      ]
     },
     "execution_count": 69,
     "metadata": {},
     "output_type": "execute_result"
    }
   ],
   "source": [
    "code_without_whitespaces = list()\n",
    "\n",
    "for idx in range(size):\n",
    "    code_without_whitespaces.append(\"\".join(variables_code[idx].split()))\n",
    "    \n",
    "code_without_whitespaces[0]"
   ]
  },
  {
   "cell_type": "code",
   "execution_count": 70,
   "id": "e472e25f",
   "metadata": {},
   "outputs": [
    {
     "data": {
      "text/plain": [
       "{'Name': 'i',\n",
       " 'Code': 'publicstaticintisPairSum(intA[],intN,intX){inti=0;intj=N-1;do{if(A[i]+A[j]==X)return1;elseif(A[i]+A[j]<X)i++;elsej--;}while(i<j);return0;}',\n",
       " 'Category': 'loop_control'}"
      ]
     },
     "execution_count": 70,
     "metadata": {},
     "output_type": "execute_result"
    }
   ],
   "source": [
    "no_whitespaces_matrix = [dict() for i in range(size)]\n",
    "\n",
    "for i in range(size):\n",
    "    no_whitespaces_matrix[i]['Name'] = variables_name[i]\n",
    "    no_whitespaces_matrix[i]['Code'] = code_without_whitespaces[i]\n",
    "    no_whitespaces_matrix[i]['Category'] = variables_category[i]\n",
    "\n",
    "no_whitespaces_matrix[0]"
   ]
  },
  {
   "cell_type": "code",
   "execution_count": 71,
   "id": "6ef5e1a5",
   "metadata": {
    "id": "XnQkdPdwn6r_"
   },
   "outputs": [
    {
     "name": "stdout",
     "output_type": "stream",
     "text": [
      "     Name                                               Code      Category\n",
      "0       i  publicstaticintisPairSum(intA[],intN,intX){int...  loop_control\n",
      "1       j  publicstaticintisPairSum(intA[],intN,intX){int...  loop_control\n",
      "2   input  finalpublicstaticvoidAuthification(Stringinput...  loop_control\n",
      "3  number  publicstaticvoidmain(String[]args){intsum=0;in...  loop_control\n",
      "4     num  publicstaticvoidRussianRoulette(String[]args){...  loop_control\n",
      "\n",
      "publicstaticintisPairSum(intA[],intN,intX){inti=0;intj=N-1;do{if(A[i]+A[j]==X)return1;elseif(A[i]+A[j]<X)i++;elsej--;}while(i<j);return0;}\n"
     ]
    }
   ],
   "source": [
    "no_whitespaces_df = pd.DataFrame(no_whitespaces_matrix)\n",
    "\n",
    "print(no_whitespaces_df.head())\n",
    "print()\n",
    "print(no_whitespaces_df['Code'][0])"
   ]
  },
  {
   "cell_type": "code",
   "execution_count": 72,
   "id": "XnQkdPdwn6r_",
   "metadata": {
    "id": "XnQkdPdwn6r_"
   },
   "outputs": [],
   "source": [
    "no_whitespaces_df.to_csv(r'./no_whitespaces_database.csv', index = False)"
   ]
  }
 ],
 "metadata": {
  "colab": {
   "collapsed_sections": [],
   "name": "Coding categories and samples",
   "provenance": []
  },
  "kernelspec": {
   "display_name": "Python 3 (ipykernel)",
   "language": "python",
   "name": "python3"
  },
  "language_info": {
   "codemirror_mode": {
    "name": "ipython",
    "version": 3
   },
   "file_extension": ".py",
   "mimetype": "text/x-python",
   "name": "python",
   "nbconvert_exporter": "python",
   "pygments_lexer": "ipython3",
   "version": "3.9.7"
  }
 },
 "nbformat": 4,
 "nbformat_minor": 5
}
