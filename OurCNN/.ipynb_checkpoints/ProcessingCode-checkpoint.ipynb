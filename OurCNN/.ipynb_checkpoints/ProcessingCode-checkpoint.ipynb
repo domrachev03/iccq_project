{
 "cells": [
  {
   "cell_type": "markdown",
   "metadata": {},
   "source": [
    "## Preprocessing\n",
    "\n",
    "From binary files to uniform and same sized .input files."
   ]
  },
  {
   "cell_type": "code",
   "execution_count": 1,
   "metadata": {},
   "outputs": [],
   "source": [
    "import pandas as pd\n",
    "import numpy as np\n",
    "import sys"
   ]
  },
  {
   "cell_type": "code",
   "execution_count": 2,
   "metadata": {},
   "outputs": [],
   "source": [
    "df = pd.read_csv('database.csv')"
   ]
  },
  {
   "cell_type": "code",
   "execution_count": 3,
   "metadata": {},
   "outputs": [
    {
     "data": {
      "text/html": [
       "<div>\n",
       "<style scoped>\n",
       "    .dataframe tbody tr th:only-of-type {\n",
       "        vertical-align: middle;\n",
       "    }\n",
       "\n",
       "    .dataframe tbody tr th {\n",
       "        vertical-align: top;\n",
       "    }\n",
       "\n",
       "    .dataframe thead th {\n",
       "        text-align: right;\n",
       "    }\n",
       "</style>\n",
       "<table border=\"1\" class=\"dataframe\">\n",
       "  <thead>\n",
       "    <tr style=\"text-align: right;\">\n",
       "      <th></th>\n",
       "      <th>Name</th>\n",
       "      <th>Code</th>\n",
       "      <th>Category</th>\n",
       "    </tr>\n",
       "  </thead>\n",
       "  <tbody>\n",
       "    <tr>\n",
       "      <th>0</th>\n",
       "      <td>i</td>\n",
       "      <td>\\npublic static int isPairSum(int A[], int N, ...</td>\n",
       "      <td>loop_control</td>\n",
       "    </tr>\n",
       "    <tr>\n",
       "      <th>1</th>\n",
       "      <td>j</td>\n",
       "      <td>\\npublic static int isPairSum(int A[], int N, ...</td>\n",
       "      <td>loop_control</td>\n",
       "    </tr>\n",
       "    <tr>\n",
       "      <th>2</th>\n",
       "      <td>input</td>\n",
       "      <td>\\nfinal public static void Authification(Strin...</td>\n",
       "      <td>loop_control</td>\n",
       "    </tr>\n",
       "    <tr>\n",
       "      <th>3</th>\n",
       "      <td>number</td>\n",
       "      <td>\\npublic static void main(String[] args) {\\n  ...</td>\n",
       "      <td>loop_control</td>\n",
       "    </tr>\n",
       "    <tr>\n",
       "      <th>4</th>\n",
       "      <td>num</td>\n",
       "      <td>\\npublic static void RussianRoulette (String[]...</td>\n",
       "      <td>loop_control</td>\n",
       "    </tr>\n",
       "  </tbody>\n",
       "</table>\n",
       "</div>"
      ],
      "text/plain": [
       "     Name                                               Code      Category\n",
       "0       i  \\npublic static int isPairSum(int A[], int N, ...  loop_control\n",
       "1       j  \\npublic static int isPairSum(int A[], int N, ...  loop_control\n",
       "2   input  \\nfinal public static void Authification(Strin...  loop_control\n",
       "3  number  \\npublic static void main(String[] args) {\\n  ...  loop_control\n",
       "4     num  \\npublic static void RussianRoulette (String[]...  loop_control"
      ]
     },
     "execution_count": 3,
     "metadata": {},
     "output_type": "execute_result"
    }
   ],
   "source": [
    "df.head()"
   ]
  },
  {
   "cell_type": "code",
   "execution_count": 4,
   "metadata": {},
   "outputs": [],
   "source": [
    "max_character_encoding = 130 # it should be 126, but maybe there are characters that I didn't see in the training se\n",
    "\n",
    "def convert_str_to_array(text):\n",
    "    content_numbers = np.zeros(len(text))\n",
    "    for i in range(len(text)):\n",
    "            # print(ord(str_text[i]) / max_character_encoding)\n",
    "            content_numbers[i] = ord(text[i]) / max_character_encoding\n",
    "    return content_numbers\n",
    "\n",
    "def concatenate(x):\n",
    "    x['Code'] = x['Name'] + '\\n' + x['Code']\n",
    "    return x\n",
    "\n",
    "def remove_spaces(x):\n",
    "    return \"\".join(x.split())\n",
    "\n",
    "def squaring(x, max_len):\n",
    "    import math\n",
    "    \n",
    "    height = int( math.sqrt( int(  max_len / 3 ) ) )\n",
    "    width = height\n",
    "    total_size = height * width * 3\n",
    "\n",
    "    return np.pad(x, (0, total_size - len(x)), 'constant')\n",
    "\n",
    "def substitute_var_name(x):\n",
    "    VAR_NAME = \"$VAR$\"\n",
    "    \n",
    "    name = x['Name']\n",
    "    code = x['Code']\n",
    "    \n",
    "    idx = code.find(name)\n",
    "    \n",
    "    while idx != -1 :\n",
    "        prevIdx = idx - 1\n",
    "        postIdx = idx + len(name)\n",
    "        if (prevIdx == -1 or not code[prevIdx].isalnum()) and (postIdx >= len(code) or not code[postIdx].isalnum()):\n",
    "            code = code[:idx] + VAR_NAME + code[postIdx:]        \n",
    "        idx = code.find(name, idx + 1)\n",
    "        \n",
    "    x['Code'] = code\n",
    "    return x"
   ]
  },
  {
   "cell_type": "code",
   "execution_count": 5,
   "metadata": {},
   "outputs": [
    {
     "name": "stdout",
     "output_type": "stream",
     "text": [
      "i\n",
      "\n",
      "public static int isPairSum(int A[], int N, int X)\n",
      "    {\n",
      "        int i = 0;\n",
      "        int j = N - 1;\n",
      " \n",
      "        do {\n",
      "            if (A[i] + A[j] == X) \n",
      "                return 1;\n",
      "            else if (A[i] + A[j] < X)\n",
      "                i++;\n",
      "            else\n",
      "                j--;\n",
      "        } while (i < j);\n",
      "        return 0;\n",
      "    }\n",
      "\n"
     ]
    }
   ],
   "source": [
    "df = df.apply(concatenate, axis = 1)\n",
    "print(df['Code'][0])"
   ]
  },
  {
   "cell_type": "code",
   "execution_count": 6,
   "metadata": {
    "scrolled": true
   },
   "outputs": [
    {
     "name": "stdout",
     "output_type": "stream",
     "text": [
      "$VAR$\n",
      "\n",
      "public static int isPairSum(int A[], int N, int X)\n",
      "    {\n",
      "        int $VAR$ = 0;\n",
      "        int j = N - 1;\n",
      " \n",
      "        do {\n",
      "            if (A[$VAR$] + A[j] == X) \n",
      "                return 1;\n",
      "            else if (A[$VAR$] + A[j] < X)\n",
      "                $VAR$++;\n",
      "            else\n",
      "                j--;\n",
      "        } while ($VAR$ < j);\n",
      "        return 0;\n",
      "    }\n",
      "\n"
     ]
    }
   ],
   "source": [
    "df = df.apply(substitute_var_name, axis = 1)\n",
    "print(df['Code'][0])"
   ]
  },
  {
   "cell_type": "code",
   "execution_count": 7,
   "metadata": {},
   "outputs": [
    {
     "data": {
      "text/html": [
       "<div>\n",
       "<style scoped>\n",
       "    .dataframe tbody tr th:only-of-type {\n",
       "        vertical-align: middle;\n",
       "    }\n",
       "\n",
       "    .dataframe tbody tr th {\n",
       "        vertical-align: top;\n",
       "    }\n",
       "\n",
       "    .dataframe thead th {\n",
       "        text-align: right;\n",
       "    }\n",
       "</style>\n",
       "<table border=\"1\" class=\"dataframe\">\n",
       "  <thead>\n",
       "    <tr style=\"text-align: right;\">\n",
       "      <th></th>\n",
       "      <th>Name</th>\n",
       "      <th>Code</th>\n",
       "      <th>Category</th>\n",
       "    </tr>\n",
       "  </thead>\n",
       "  <tbody>\n",
       "    <tr>\n",
       "      <th>0</th>\n",
       "      <td>i</td>\n",
       "      <td>$VAR$publicstaticintisPairSum(intA[],intN,intX...</td>\n",
       "      <td>loop_control</td>\n",
       "    </tr>\n",
       "    <tr>\n",
       "      <th>1</th>\n",
       "      <td>j</td>\n",
       "      <td>$VAR$publicstaticintisPairSum(intA[],intN,intX...</td>\n",
       "      <td>loop_control</td>\n",
       "    </tr>\n",
       "    <tr>\n",
       "      <th>2</th>\n",
       "      <td>input</td>\n",
       "      <td>$VAR$finalpublicstaticvoidAuthification(String...</td>\n",
       "      <td>loop_control</td>\n",
       "    </tr>\n",
       "    <tr>\n",
       "      <th>3</th>\n",
       "      <td>number</td>\n",
       "      <td>$VAR$publicstaticvoidmain(String[]args){intsum...</td>\n",
       "      <td>loop_control</td>\n",
       "    </tr>\n",
       "    <tr>\n",
       "      <th>4</th>\n",
       "      <td>num</td>\n",
       "      <td>$VAR$publicstaticvoidRussianRoulette(String[]a...</td>\n",
       "      <td>loop_control</td>\n",
       "    </tr>\n",
       "  </tbody>\n",
       "</table>\n",
       "</div>"
      ],
      "text/plain": [
       "     Name                                               Code      Category\n",
       "0       i  $VAR$publicstaticintisPairSum(intA[],intN,intX...  loop_control\n",
       "1       j  $VAR$publicstaticintisPairSum(intA[],intN,intX...  loop_control\n",
       "2   input  $VAR$finalpublicstaticvoidAuthification(String...  loop_control\n",
       "3  number  $VAR$publicstaticvoidmain(String[]args){intsum...  loop_control\n",
       "4     num  $VAR$publicstaticvoidRussianRoulette(String[]a...  loop_control"
      ]
     },
     "execution_count": 7,
     "metadata": {},
     "output_type": "execute_result"
    }
   ],
   "source": [
    "df['Code'] = df['Code'].apply(remove_spaces)\n",
    "df.head()"
   ]
  },
  {
   "cell_type": "code",
   "execution_count": 8,
   "metadata": {},
   "outputs": [
    {
     "data": {
      "text/html": [
       "<div>\n",
       "<style scoped>\n",
       "    .dataframe tbody tr th:only-of-type {\n",
       "        vertical-align: middle;\n",
       "    }\n",
       "\n",
       "    .dataframe tbody tr th {\n",
       "        vertical-align: top;\n",
       "    }\n",
       "\n",
       "    .dataframe thead th {\n",
       "        text-align: right;\n",
       "    }\n",
       "</style>\n",
       "<table border=\"1\" class=\"dataframe\">\n",
       "  <thead>\n",
       "    <tr style=\"text-align: right;\">\n",
       "      <th></th>\n",
       "      <th>Name</th>\n",
       "      <th>Code</th>\n",
       "      <th>Category</th>\n",
       "    </tr>\n",
       "  </thead>\n",
       "  <tbody>\n",
       "    <tr>\n",
       "      <th>0</th>\n",
       "      <td>i</td>\n",
       "      <td>[0.27692307692307694, 0.6615384615384615, 0.5,...</td>\n",
       "      <td>loop_control</td>\n",
       "    </tr>\n",
       "    <tr>\n",
       "      <th>1</th>\n",
       "      <td>j</td>\n",
       "      <td>[0.27692307692307694, 0.6615384615384615, 0.5,...</td>\n",
       "      <td>loop_control</td>\n",
       "    </tr>\n",
       "    <tr>\n",
       "      <th>2</th>\n",
       "      <td>input</td>\n",
       "      <td>[0.27692307692307694, 0.6615384615384615, 0.5,...</td>\n",
       "      <td>loop_control</td>\n",
       "    </tr>\n",
       "    <tr>\n",
       "      <th>3</th>\n",
       "      <td>number</td>\n",
       "      <td>[0.27692307692307694, 0.6615384615384615, 0.5,...</td>\n",
       "      <td>loop_control</td>\n",
       "    </tr>\n",
       "    <tr>\n",
       "      <th>4</th>\n",
       "      <td>num</td>\n",
       "      <td>[0.27692307692307694, 0.6615384615384615, 0.5,...</td>\n",
       "      <td>loop_control</td>\n",
       "    </tr>\n",
       "  </tbody>\n",
       "</table>\n",
       "</div>"
      ],
      "text/plain": [
       "     Name                                               Code      Category\n",
       "0       i  [0.27692307692307694, 0.6615384615384615, 0.5,...  loop_control\n",
       "1       j  [0.27692307692307694, 0.6615384615384615, 0.5,...  loop_control\n",
       "2   input  [0.27692307692307694, 0.6615384615384615, 0.5,...  loop_control\n",
       "3  number  [0.27692307692307694, 0.6615384615384615, 0.5,...  loop_control\n",
       "4     num  [0.27692307692307694, 0.6615384615384615, 0.5,...  loop_control"
      ]
     },
     "execution_count": 8,
     "metadata": {},
     "output_type": "execute_result"
    }
   ],
   "source": [
    "df['Code'] = df['Code'].apply(convert_str_to_array)\n",
    "df.head()"
   ]
  },
  {
   "cell_type": "code",
   "execution_count": 9,
   "metadata": {},
   "outputs": [
    {
     "data": {
      "text/html": [
       "<div>\n",
       "<style scoped>\n",
       "    .dataframe tbody tr th:only-of-type {\n",
       "        vertical-align: middle;\n",
       "    }\n",
       "\n",
       "    .dataframe tbody tr th {\n",
       "        vertical-align: top;\n",
       "    }\n",
       "\n",
       "    .dataframe thead th {\n",
       "        text-align: right;\n",
       "    }\n",
       "</style>\n",
       "<table border=\"1\" class=\"dataframe\">\n",
       "  <thead>\n",
       "    <tr style=\"text-align: right;\">\n",
       "      <th></th>\n",
       "      <th>Name</th>\n",
       "      <th>Code</th>\n",
       "      <th>Category</th>\n",
       "      <th>Length</th>\n",
       "    </tr>\n",
       "  </thead>\n",
       "  <tbody>\n",
       "    <tr>\n",
       "      <th>0</th>\n",
       "      <td>i</td>\n",
       "      <td>[0.27692307692307694, 0.6615384615384615, 0.5,...</td>\n",
       "      <td>loop_control</td>\n",
       "      <td>163</td>\n",
       "    </tr>\n",
       "    <tr>\n",
       "      <th>1</th>\n",
       "      <td>j</td>\n",
       "      <td>[0.27692307692307694, 0.6615384615384615, 0.5,...</td>\n",
       "      <td>loop_control</td>\n",
       "      <td>163</td>\n",
       "    </tr>\n",
       "    <tr>\n",
       "      <th>2</th>\n",
       "      <td>input</td>\n",
       "      <td>[0.27692307692307694, 0.6615384615384615, 0.5,...</td>\n",
       "      <td>loop_control</td>\n",
       "      <td>165</td>\n",
       "    </tr>\n",
       "    <tr>\n",
       "      <th>3</th>\n",
       "      <td>number</td>\n",
       "      <td>[0.27692307692307694, 0.6615384615384615, 0.5,...</td>\n",
       "      <td>loop_control</td>\n",
       "      <td>228</td>\n",
       "    </tr>\n",
       "    <tr>\n",
       "      <th>4</th>\n",
       "      <td>num</td>\n",
       "      <td>[0.27692307692307694, 0.6615384615384615, 0.5,...</td>\n",
       "      <td>loop_control</td>\n",
       "      <td>343</td>\n",
       "    </tr>\n",
       "  </tbody>\n",
       "</table>\n",
       "</div>"
      ],
      "text/plain": [
       "     Name                                               Code      Category  \\\n",
       "0       i  [0.27692307692307694, 0.6615384615384615, 0.5,...  loop_control   \n",
       "1       j  [0.27692307692307694, 0.6615384615384615, 0.5,...  loop_control   \n",
       "2   input  [0.27692307692307694, 0.6615384615384615, 0.5,...  loop_control   \n",
       "3  number  [0.27692307692307694, 0.6615384615384615, 0.5,...  loop_control   \n",
       "4     num  [0.27692307692307694, 0.6615384615384615, 0.5,...  loop_control   \n",
       "\n",
       "   Length  \n",
       "0     163  \n",
       "1     163  \n",
       "2     165  \n",
       "3     228  \n",
       "4     343  "
      ]
     },
     "execution_count": 9,
     "metadata": {},
     "output_type": "execute_result"
    }
   ],
   "source": [
    "df['Length'] = df['Code'].apply(len)\n",
    "df.head()"
   ]
  },
  {
   "cell_type": "code",
   "execution_count": 10,
   "metadata": {},
   "outputs": [
    {
     "data": {
      "text/plain": [
       "1635"
      ]
     },
     "execution_count": 10,
     "metadata": {},
     "output_type": "execute_result"
    }
   ],
   "source": [
    "maxlen = df['Length'].max() + 100\n",
    "maxlen"
   ]
  },
  {
   "cell_type": "code",
   "execution_count": 11,
   "metadata": {},
   "outputs": [],
   "source": [
    "df['SquaredCode'] = df['Code'].apply(squaring, args = (maxlen, ))"
   ]
  },
  {
   "cell_type": "code",
   "execution_count": 12,
   "metadata": {},
   "outputs": [],
   "source": [
    "df['Y'] = df['Category'].apply(lambda x: int(x == 'iterator'))"
   ]
  },
  {
   "cell_type": "code",
   "execution_count": 13,
   "metadata": {},
   "outputs": [
    {
     "data": {
      "text/plain": [
       "(array([[0],\n",
       "        [0],\n",
       "        [0],\n",
       "        [0],\n",
       "        [0]]),\n",
       " (51, 1))"
      ]
     },
     "execution_count": 13,
     "metadata": {},
     "output_type": "execute_result"
    }
   ],
   "source": [
    "X = np.array(df['SquaredCode'].tolist())\n",
    "Y = df['Y'].to_numpy()[:, np.newaxis]\n",
    "Y[:5], Y.shape"
   ]
  },
  {
   "cell_type": "markdown",
   "metadata": {},
   "source": [
    "## Using Tensorflow to classify the files"
   ]
  },
  {
   "cell_type": "code",
   "execution_count": 14,
   "metadata": {},
   "outputs": [],
   "source": [
    "import math\n",
    "import numpy as np\n",
    "import matplotlib.pyplot as plt\n",
    "from matplotlib.pyplot import imread\n",
    "import scipy\n",
    "from PIL import Image\n",
    "import pandas as pd\n",
    "import tensorflow as tf\n",
    "import tensorflow.keras.layers as tfl\n",
    "from tensorflow.python.framework import ops\n",
    "\n",
    "%matplotlib inline\n",
    "np.random.seed(1)"
   ]
  },
  {
   "cell_type": "code",
   "execution_count": 15,
   "metadata": {},
   "outputs": [
    {
     "name": "stdout",
     "output_type": "stream",
     "text": [
      "(51, 1587)\n",
      "(51, 1)\n"
     ]
    }
   ],
   "source": [
    "print(X.shape)\n",
    "print(Y.shape)"
   ]
  },
  {
   "cell_type": "code",
   "execution_count": 16,
   "metadata": {},
   "outputs": [
    {
     "data": {
      "image/png": "[encoded data removed]",
      "text/plain": [
       "<Figure size 432x288 with 1 Axes>"
      ]
     },
     "metadata": {
      "needs_background": "light"
     },
     "output_type": "display_data"
    },
    {
     "data": {
      "image/png": "[encoded data removed]",
      "text/plain": [
       "<Figure size 432x288 with 1 Axes>"
      ]
     },
     "metadata": {
      "needs_background": "light"
     },
     "output_type": "display_data"
    },
    {
     "data": {
      "image/png": "[encoded data removed]",
      "text/plain": [
       "<Figure size 432x288 with 1 Axes>"
      ]
     },
     "metadata": {
      "needs_background": "light"
     },
     "output_type": "display_data"
    },
    {
     "data": {
      "image/png": "[encoded data removed]",
      "text/plain": [
       "<Figure size 432x288 with 1 Axes>"
      ]
     },
     "metadata": {
      "needs_background": "light"
     },
     "output_type": "display_data"
    },
    {
     "data": {
      "image/png": "[encoded data removed]",
      "text/plain": [
       "<Figure size 432x288 with 1 Axes>"
      ]
     },
     "metadata": {
      "needs_background": "light"
     },
     "output_type": "display_data"
    },
    {
     "data": {
      "image/png": "[encoded data removed]",
      "text/plain": [
       "<Figure size 432x288 with 1 Axes>"
      ]
     },
     "metadata": {
      "needs_background": "light"
     },
     "output_type": "display_data"
    },
    {
     "data": {
      "image/png": "[encoded data removed]",
      "text/plain": [
       "<Figure size 432x288 with 1 Axes>"
      ]
     },
     "metadata": {
      "needs_background": "light"
     },
     "output_type": "display_data"
    },
    {
     "data": {
      "image/png": "[encoded data removed]",
      "text/plain": [
       "<Figure size 432x288 with 1 Axes>"
      ]
     },
     "metadata": {
      "needs_background": "light"
     },
     "output_type": "display_data"
    },
    {
     "data": {
      "image/png": "[encoded data removed]",
      "text/plain": [
       "<Figure size 432x288 with 1 Axes>"
      ]
     },
     "metadata": {
      "needs_background": "light"
     },
     "output_type": "display_data"
    },
    {
     "data": {
      "image/png": "[encoded data removed]",
      "text/plain": [
       "<Figure size 432x288 with 1 Axes>"
      ]
     },
     "metadata": {
      "needs_background": "light"
     },
     "output_type": "display_data"
    }
   ],
   "source": [
    "def show_compiled_as_image(index):\n",
    "    height = int( math.sqrt( int(  len(df['Code'][index]) / 3 ) ) )\n",
    "    width = height\n",
    "    total_pixels = height * width * 3\n",
    "\n",
    "    #print(\"X[index] = \", len(X[index]))\n",
    "    #print(\"total_pixels = \", total_pixels)\n",
    "\n",
    "    test = X[index,:total_pixels]\n",
    "\n",
    "    test = np.reshape(test, (height, width, 3))\n",
    "\n",
    "    plt.imshow(test) #display sample training image\n",
    "    plt.show()\n",
    "\n",
    "for i in range(10):\n",
    "    show_compiled_as_image(i)"
   ]
  },
  {
   "cell_type": "markdown",
   "metadata": {},
   "source": [
    "Shuffling and breaking in train and test set."
   ]
  },
  {
   "cell_type": "code",
   "execution_count": 17,
   "metadata": {},
   "outputs": [
    {
     "ename": "ValueError",
     "evalue": "cannot reshape array of size 39675 into shape (25,26,26,3)",
     "output_type": "error",
     "traceback": [
      "\u001b[0;31m---------------------------------------------------------------------------\u001b[0m",
      "\u001b[0;31mValueError\u001b[0m                                Traceback (most recent call last)",
      "\u001b[0;32m/tmp/ipykernel_13026/3368132885.py\u001b[0m in \u001b[0;36m<module>\u001b[0;34m\u001b[0m\n\u001b[1;32m      9\u001b[0m \u001b[0;34m\u001b[0m\u001b[0m\n\u001b[1;32m     10\u001b[0m \u001b[0mX_train\u001b[0m \u001b[0;34m=\u001b[0m \u001b[0mX_shuffled\u001b[0m\u001b[0;34m[\u001b[0m\u001b[0;34m:\u001b[0m\u001b[0msize_train\u001b[0m\u001b[0;34m]\u001b[0m\u001b[0;34m\u001b[0m\u001b[0;34m\u001b[0m\u001b[0m\n\u001b[0;32m---> 11\u001b[0;31m \u001b[0mX_train\u001b[0m \u001b[0;34m=\u001b[0m \u001b[0mnp\u001b[0m\u001b[0;34m.\u001b[0m\u001b[0mreshape\u001b[0m\u001b[0;34m(\u001b[0m\u001b[0mX_train\u001b[0m\u001b[0;34m,\u001b[0m \u001b[0;34m(\u001b[0m\u001b[0msize_train\u001b[0m\u001b[0;34m,\u001b[0m \u001b[0;36m26\u001b[0m\u001b[0;34m,\u001b[0m \u001b[0;36m26\u001b[0m\u001b[0;34m,\u001b[0m \u001b[0;36m3\u001b[0m\u001b[0;34m)\u001b[0m\u001b[0;34m)\u001b[0m\u001b[0;34m\u001b[0m\u001b[0;34m\u001b[0m\u001b[0m\n\u001b[0m\u001b[1;32m     12\u001b[0m \u001b[0;34m\u001b[0m\u001b[0m\n\u001b[1;32m     13\u001b[0m \u001b[0mX_test\u001b[0m  \u001b[0;34m=\u001b[0m \u001b[0mX_shuffled\u001b[0m\u001b[0;34m[\u001b[0m\u001b[0msize_train\u001b[0m\u001b[0;34m:\u001b[0m\u001b[0;34m]\u001b[0m\u001b[0;34m\u001b[0m\u001b[0;34m\u001b[0m\u001b[0m\n",
      "\u001b[0;32m<__array_function__ internals>\u001b[0m in \u001b[0;36mreshape\u001b[0;34m(*args, **kwargs)\u001b[0m\n",
      "\u001b[0;32m~/miniconda3/envs/NeuralNetworks/lib/python3.9/site-packages/numpy/core/fromnumeric.py\u001b[0m in \u001b[0;36mreshape\u001b[0;34m(a, newshape, order)\u001b[0m\n\u001b[1;32m    296\u001b[0m            [5, 6]])\n\u001b[1;32m    297\u001b[0m     \"\"\"\n\u001b[0;32m--> 298\u001b[0;31m     \u001b[0;32mreturn\u001b[0m \u001b[0m_wrapfunc\u001b[0m\u001b[0;34m(\u001b[0m\u001b[0ma\u001b[0m\u001b[0;34m,\u001b[0m \u001b[0;34m'reshape'\u001b[0m\u001b[0;34m,\u001b[0m \u001b[0mnewshape\u001b[0m\u001b[0;34m,\u001b[0m \u001b[0morder\u001b[0m\u001b[0;34m=\u001b[0m\u001b[0morder\u001b[0m\u001b[0;34m)\u001b[0m\u001b[0;34m\u001b[0m\u001b[0;34m\u001b[0m\u001b[0m\n\u001b[0m\u001b[1;32m    299\u001b[0m \u001b[0;34m\u001b[0m\u001b[0m\n\u001b[1;32m    300\u001b[0m \u001b[0;34m\u001b[0m\u001b[0m\n",
      "\u001b[0;32m~/miniconda3/envs/NeuralNetworks/lib/python3.9/site-packages/numpy/core/fromnumeric.py\u001b[0m in \u001b[0;36m_wrapfunc\u001b[0;34m(obj, method, *args, **kwds)\u001b[0m\n\u001b[1;32m     55\u001b[0m \u001b[0;34m\u001b[0m\u001b[0m\n\u001b[1;32m     56\u001b[0m     \u001b[0;32mtry\u001b[0m\u001b[0;34m:\u001b[0m\u001b[0;34m\u001b[0m\u001b[0;34m\u001b[0m\u001b[0m\n\u001b[0;32m---> 57\u001b[0;31m         \u001b[0;32mreturn\u001b[0m \u001b[0mbound\u001b[0m\u001b[0;34m(\u001b[0m\u001b[0;34m*\u001b[0m\u001b[0margs\u001b[0m\u001b[0;34m,\u001b[0m \u001b[0;34m**\u001b[0m\u001b[0mkwds\u001b[0m\u001b[0;34m)\u001b[0m\u001b[0;34m\u001b[0m\u001b[0;34m\u001b[0m\u001b[0m\n\u001b[0m\u001b[1;32m     58\u001b[0m     \u001b[0;32mexcept\u001b[0m \u001b[0mTypeError\u001b[0m\u001b[0;34m:\u001b[0m\u001b[0;34m\u001b[0m\u001b[0;34m\u001b[0m\u001b[0m\n\u001b[1;32m     59\u001b[0m         \u001b[0;31m# A TypeError occurs if the object does have such a method in its\u001b[0m\u001b[0;34m\u001b[0m\u001b[0;34m\u001b[0m\u001b[0m\n",
      "\u001b[0;31mValueError\u001b[0m: cannot reshape array of size 39675 into shape (25,26,26,3)"
     ]
    }
   ],
   "source": [
    "randomize = np.arange(len(df['Name'].tolist()))\n",
    "np.random.shuffle(randomize)\n",
    "\n",
    "X_shuffled = X[randomize]\n",
    "Y_shuffled = Y[randomize]\n",
    "# names_randomized = np.array(file_names)[randomize]\n",
    "\n",
    "size_train = 25\n",
    "\n",
    "X_train = X_shuffled[:size_train]\n",
    "X_train = np.reshape(X_train, (size_train, 26, 26, 3))\n",
    "\n",
    "X_test  = X_shuffled[size_train:]\n",
    "X_test = np.reshape(X_test, (len(df['Name'].tolist())-size_train, 26, 26, 3))\n",
    "\n",
    "Y_train = Y_shuffled[:size_train]\n",
    "Y_test  = Y_shuffled[size_train:]\n",
    "\n",
    "#print(Y_shuffled)\n",
    "#print(names_randomized)"
   ]
  },
  {
   "cell_type": "markdown",
   "metadata": {},
   "source": [
    "Creating my model."
   ]
  },
  {
   "cell_type": "code",
   "execution_count": null,
   "metadata": {},
   "outputs": [],
   "source": [
    "def my_model():\n",
    "    \"\"\"\n",
    "    Implements the forward propagation for the binary classification model:\n",
    "    ZEROPAD2D -> CONV2D -> BATCHNORM -> RELU -> MAXPOOL -> FLATTEN -> DENSE\n",
    "    \n",
    "    Arguments:\n",
    "    None\n",
    "\n",
    "    Returns:\n",
    "    model -- TF Keras model (object containing the information for the entire training process) \n",
    "    \"\"\"\n",
    "    model = tf.keras.Sequential([\n",
    "            \n",
    "        ## ZeroPadding2D with padding 3, input shape of height x width x 3\n",
    "        tfl.ZeroPadding2D(padding=3,input_shape=(26, 26, 3)) ,\n",
    "        \n",
    "        ## Conv2D with 32 7x7 filters and stride of 1\n",
    "        tfl.Conv2D(filters=32, kernel_size=7, strides=1) ,\n",
    "        \n",
    "        ## BatchNormalization for axis 3\n",
    "        tfl.BatchNormalization(axis=3) ,\n",
    "        \n",
    "        ## ReLU\n",
    "        tfl.ReLU(),\n",
    "        \n",
    "        ## Max Pooling 2D with default parameters\n",
    "        tfl.MaxPooling2D(),\n",
    "        \n",
    "        ## Flatten layer\n",
    "        tfl.Flatten(),\n",
    "        \n",
    "        ## Dense layer with 1 unit for output & 'sigmoid' activation\n",
    "        tfl.Dense(units=1, activation='sigmoid')\n",
    "\n",
    "        ])\n",
    "    \n",
    "    return model"
   ]
  },
  {
   "cell_type": "markdown",
   "metadata": {},
   "source": [
    "Defining the optimizar, loss function and metric."
   ]
  },
  {
   "cell_type": "code",
   "execution_count": null,
   "metadata": {},
   "outputs": [],
   "source": [
    "my_model = my_model()\n",
    "my_model.compile(optimizer='adam',\n",
    "                 loss='binary_crossentropy',\n",
    "                 metrics=['accuracy'])\n",
    "my_model.summary()"
   ]
  },
  {
   "cell_type": "code",
   "execution_count": null,
   "metadata": {},
   "outputs": [],
   "source": [
    "my_model.fit(X_train, Y_train, epochs=30, batch_size=len(df['Name'].tolist()))"
   ]
  },
  {
   "cell_type": "code",
   "execution_count": null,
   "metadata": {},
   "outputs": [],
   "source": [
    "my_model.evaluate(X_test, Y_test)"
   ]
  }
 ],
 "metadata": {
  "kernelspec": {
   "display_name": "Python 3 (ipykernel)",
   "language": "python",
   "name": "python3"
  },
  "language_info": {
   "codemirror_mode": {
    "name": "ipython",
    "version": 3
   },
   "file_extension": ".py",
   "mimetype": "text/x-python",
   "name": "python",
   "nbconvert_exporter": "python",
   "pygments_lexer": "ipython3",
   "version": "3.9.7"
  }
 },
 "nbformat": 4,
 "nbformat_minor": 4
}
