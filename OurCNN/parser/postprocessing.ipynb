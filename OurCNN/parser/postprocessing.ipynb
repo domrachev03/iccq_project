{
 "cells": [
  {
   "cell_type": "markdown",
   "id": "8cd8f6b3",
   "metadata": {},
   "source": [
    "# Scopes extraction"
   ]
  },
  {
   "cell_type": "markdown",
   "id": "da7284c7",
   "metadata": {},
   "source": [
    "Due to unideal work of initial parser, it fails to extract the exact scope of the variable. It always contains a bigger scope, which could make learning process of the model harder.\n",
    "\n",
    "This notebook takes initial dataset and extracts exact variable scopes from each dataset entry. Moreover, it may find several scopes for different variables with similar name in one code snippet. You would see the examples later."
   ]
  },
  {
   "cell_type": "markdown",
   "id": "b9d902de",
   "metadata": {},
   "source": [
    "## Initialization stage"
   ]
  },
  {
   "cell_type": "code",
   "execution_count": 1,
   "id": "fc2c893a",
   "metadata": {},
   "outputs": [],
   "source": [
    "import pandas as pd\n",
    "import numpy as np\n",
    "from matplotlib import pyplot as plt\n",
    "import IPython\n",
    "\n",
    "dataset_name = 'parser_dataset.csv'\n",
    "postprocessed_dataset_name = 'postprocessed_dataset.csv'"
   ]
  },
  {
   "cell_type": "code",
   "execution_count": 2,
   "id": "22bae174",
   "metadata": {},
   "outputs": [
    {
     "name": "stdout",
     "output_type": "stream",
     "text": [
      "<class 'pandas.core.frame.DataFrame'>\n",
      "RangeIndex: 2903 entries, 0 to 2902\n",
      "Data columns (total 3 columns):\n",
      " #   Column    Non-Null Count  Dtype \n",
      "---  ------    --------------  ----- \n",
      " 0   Name      2903 non-null   object\n",
      " 1   Code      2903 non-null   object\n",
      " 2   Category  2903 non-null   object\n",
      "dtypes: object(3)\n",
      "memory usage: 68.2+ KB\n"
     ]
    }
   ],
   "source": [
    "columns_list = ['Name', 'Code', 'Category']\n",
    "\n",
    "try:\n",
    "    df = pd.read_csv(dataset_name)\n",
    "except Exception: \n",
    "    df = pd.DataFrame(columns = columns_list)\n",
    "    \n",
    "assert (df.columns == columns_list).all()\n",
    "\n",
    "df.info()"
   ]
  },
  {
   "cell_type": "markdown",
   "id": "ac0ba92f",
   "metadata": {},
   "source": [
    "## Scopes extraction function"
   ]
  },
  {
   "cell_type": "code",
   "execution_count": 3,
   "id": "d5054f50",
   "metadata": {},
   "outputs": [],
   "source": [
    "def extract_scopes(row):\n",
    "    '''\n",
    "        Extracts exact scope(s) of variable in provided dataframe entry\n",
    "        \n",
    "        Returns dict with the dataframe columns and new dataframe entry(ies)\n",
    "    '''\n",
    "    name = row[0]\n",
    "    code = row[1]\n",
    "\n",
    "    idx = 0\n",
    "    bracket_idx = 0\n",
    "    open_bracket_pos = [None]\n",
    "    \n",
    "    scopes = list()\n",
    "    scope_processed = None\n",
    "    for_processed = None\n",
    "    \n",
    "    def check(key):\n",
    "        prevIdx = idx - 1\n",
    "        postIdx = idx + len(key)\n",
    "\n",
    "        if code[idx : postIdx] != key:\n",
    "            return False\n",
    "\n",
    "        return (prevIdx == -1 or not code[prevIdx].isalnum()) and \\\n",
    "               (postIdx >= len(code) or not code[postIdx].isalnum())\n",
    "\n",
    "    \n",
    "    while 0 <= idx < len(code):\n",
    "        if idx < len(code) - 1 and code[idx:idx+2] == r'/*':\n",
    "            idx = code.find(r'*/', idx)\n",
    "        if idx < len(code) - 1 and code[idx:idx+2] == r'//':\n",
    "            idx = code.find('\\n', idx)\n",
    "        if code[idx] == r'\"':\n",
    "            idx = code.find(r'\"', idx + 1);\n",
    "        \n",
    "        if idx == -1:\n",
    "            continue\n",
    "            \n",
    "        if code[idx] == '{':\n",
    "            bracket_idx += 1\n",
    "            \n",
    "            if bracket_idx < len(open_bracket_pos):\n",
    "                open_bracket_pos[bracket_idx] = idx\n",
    "            else:\n",
    "                open_bracket_pos.append(idx)\n",
    "            \n",
    "            if for_processed is not None:\n",
    "                open_bracket_pos[bracket_idx] = for_processed\n",
    "                for_processed = None\n",
    "                \n",
    "        elif code[idx] == '}':\n",
    "            if scope_processed == bracket_idx:\n",
    "                assert open_bracket_pos[scope_processed] is not None\n",
    "                scopes.append(code[open_bracket_pos[scope_processed] : idx+1])\n",
    "                scope_processed = None\n",
    "            \n",
    "            open_bracket_pos[bracket_idx] = None\n",
    "            bracket_idx -= 1\n",
    "            \n",
    "        elif scope_processed is None and check('for'):\n",
    "            for_processed = idx\n",
    "            \n",
    "            idx = code.find('(', idx) + 1\n",
    "            bra_idx = 1\n",
    "            is_name = False\n",
    "            \n",
    "            while bra_idx != 0:\n",
    "                if code[idx:idx+2] == r'/*':\n",
    "                    idx = code.find(r'*/', idx)\n",
    "                if code[idx:idx+2] == r'//':\n",
    "                    idx = code.find('\\n', idx)\n",
    "                if code[idx] == r'\"':\n",
    "                    idx = code.find(r'\"', idx + 1);\n",
    "                \n",
    "                if code[idx] == '(':\n",
    "                    bra_idx += 1\n",
    "                    \n",
    "                elif code[idx] == ')':\n",
    "                    bra_idx -= 1\n",
    "\n",
    "                elif not is_name and check(name):\n",
    "                    is_name = True\n",
    "                \n",
    "                idx += 1\n",
    "            \n",
    "            if is_name:\n",
    "                while code[idx] != '{' and code[idx] != ';':\n",
    "                    idx += 1\n",
    "\n",
    "                if code[idx] == ';':\n",
    "                    scopes.append(code[for_processed : idx+1])\n",
    "                    for_processed = None\n",
    "                else:\n",
    "                    scope_processed = bracket_idx+1\n",
    "                    continue\n",
    "            \n",
    "        \n",
    "        elif scope_processed is None and check(name):\n",
    "            scope_processed = bracket_idx\n",
    "        \n",
    "        idx += 1\n",
    "        \n",
    "#     print(\"------------Scopes---------------\")\n",
    "#     for scope in scopes:\n",
    "#         print(scope)\n",
    "#         print('-'*20)\n",
    "    \n",
    "    elems = len(scopes)\n",
    "    return {'Name': [name]*elems,\n",
    "            'Code': scopes,\n",
    "            'Category': [row[2]]*elems}\n",
    "    "
   ]
  },
  {
   "cell_type": "markdown",
   "id": "7bd4c2f9",
   "metadata": {},
   "source": [
    "### Examples of function work"
   ]
  },
  {
   "cell_type": "code",
   "execution_count": 4,
   "id": "fdb1af0f",
   "metadata": {},
   "outputs": [],
   "source": [
    "def print_example(idx):\n",
    "    print('Initial code snippet')\n",
    "    print()\n",
    "    print(df_to_np[idx][1])\n",
    "    print('-'*50)\n",
    "    print('Function return')\n",
    "    print()\n",
    "    func_return = extract_scopes(df_to_np[idx])\n",
    "    for snippets in func_return['Code']:\n",
    "        print(snippets)\n",
    "        print('-'*30)"
   ]
  },
  {
   "cell_type": "code",
   "execution_count": 5,
   "id": "aab339c5",
   "metadata": {},
   "outputs": [],
   "source": [
    "df_to_np = df[columns_list].to_numpy() "
   ]
  },
  {
   "cell_type": "markdown",
   "id": "66458e90",
   "metadata": {},
   "source": [
    "For usual piece of code"
   ]
  },
  {
   "cell_type": "code",
   "execution_count": 6,
   "id": "5b0535c9",
   "metadata": {},
   "outputs": [
    {
     "name": "stdout",
     "output_type": "stream",
     "text": [
      "Initial code snippet\n",
      "\n",
      "{\n",
      "        staff = staff.stream().map(w -> {\n",
      "            for (Staff updatedW : updatedStaff) {\n",
      "                if (updatedW.getPersonalInformation().getId() == w.getPersonalInformation().getId()) {\n",
      "                    return updatedW;\n",
      "                }\n",
      "            }\n",
      "            return w;\n",
      "        }).collect(Collectors.toCollection(ArrayList::new));\n",
      "    }\n",
      "--------------------------------------------------\n",
      "Function return\n",
      "\n",
      "for (Staff updatedW : updatedStaff) {\n",
      "                if (updatedW.getPersonalInformation().getId() == w.getPersonalInformation().getId()) {\n",
      "                    return updatedW;\n",
      "                }\n",
      "            }\n",
      "------------------------------\n"
     ]
    }
   ],
   "source": [
    "print_example(1)"
   ]
  },
  {
   "cell_type": "markdown",
   "id": "fcf0add4",
   "metadata": {},
   "source": [
    "Several variable scopes in one code snippet"
   ]
  },
  {
   "cell_type": "code",
   "execution_count": 7,
   "id": "b70bd4ba",
   "metadata": {},
   "outputs": [
    {
     "name": "stdout",
     "output_type": "stream",
     "text": [
      "Initial code snippet\n",
      "\n",
      "{\n",
      "        ArrayList<Room> hotelRooms = new ArrayList<>();\n",
      "        for (int i = 0; i < 15; i++) {\n",
      "            hotelRooms.add(new HostelRoom(new StandardRoom(i + 1, 2, RoomType.ECONOMY)));\n",
      "        }\n",
      "        for (int i = 0; i < 15; i++) {\n",
      "            hotelRooms.add(new ExpandableRoom(new StandardRoom(i + 16, 3, RoomType.LUX)));\n",
      "        }\n",
      "        Hotel hotel = new Hotel(hotelRooms);\n",
      "        RoomManager roomManager = new RoomManager();\n",
      "        StaffManager staffManager = new StaffManager();\n",
      "        Human client1 = new Human(\"Kopeikina\", \"Anna\");\n",
      "        Human client2 = new Human(\"Tyulebaeva\", \"Karina\");\n",
      "        Human client3 = new Human(\"Domrachev\", \"Ivan\");\n",
      "\n",
      "        Human slave1 = new Human(\"Alentev\", \"Igor\");\n",
      "\n",
      "        Human slave2 = new Human(\"Asatullaev\", \"Maruf\");\n",
      "\n",
      "        staffManager.hireStaff(hotel, new PlumberCreator().createStaff(slave1, StaffType.IRREGULAR));\n",
      "        staffManager.hireStaff(hotel, new SecurityGuardCreator().createStaff(slave2, StaffType.IRREGULAR));\n",
      "        for (int i = 0; i < hotel.getStaff().size(); i++) {\n",
      "            System.out.println(hotel.getStaff().get(i).getPersonalInformation().getName());\n",
      "        }\n",
      "        staffManager.makeOrder(Plumber.class, hotel, 2, \"Help, our pump was broken :(\");\n",
      "    }\n",
      "--------------------------------------------------\n",
      "Function return\n",
      "\n",
      "for (int i = 0; i < 15; i++) {\n",
      "            hotelRooms.add(new HostelRoom(new StandardRoom(i + 1, 2, RoomType.ECONOMY)));\n",
      "        }\n",
      "------------------------------\n",
      "for (int i = 0; i < 15; i++) {\n",
      "            hotelRooms.add(new ExpandableRoom(new StandardRoom(i + 16, 3, RoomType.LUX)));\n",
      "        }\n",
      "------------------------------\n",
      "for (int i = 0; i < hotel.getStaff().size(); i++) {\n",
      "            System.out.println(hotel.getStaff().get(i).getPersonalInformation().getName());\n",
      "        }\n",
      "------------------------------\n"
     ]
    }
   ],
   "source": [
    "print_example(0)"
   ]
  },
  {
   "cell_type": "markdown",
   "id": "f63be9e6",
   "metadata": {},
   "source": [
    "For while loop"
   ]
  },
  {
   "cell_type": "code",
   "execution_count": 8,
   "id": "6674f15e",
   "metadata": {},
   "outputs": [
    {
     "name": "stdout",
     "output_type": "stream",
     "text": [
      "Initial code snippet\n",
      "\n",
      "{\n",
      "\n",
      "        flowable = Flowable.range(1, 1000 * 1000).takeUntil(Flowable.fromCallable(new Callable<Object>() {\n",
      "            @Override\n",
      "            public Object call() {\n",
      "                int c = count;\n",
      "                while (items < c) { }\n",
      "                return 1;\n",
      "            }\n",
      "        }).subscribeOn(Schedulers.single()));\n",
      "\n",
      "        observable = Observable.range(1, 1000 * 1000).takeUntil(Observable.fromCallable(new Callable<Object>() {\n",
      "            @Override\n",
      "            public Object call() {\n",
      "                int c = count;\n",
      "                while (items < c) { }\n",
      "                return 1;\n",
      "            }\n",
      "        }).subscribeOn(Schedulers.single()));\n",
      "    }\n",
      "--------------------------------------------------\n",
      "Function return\n",
      "\n",
      "{\n",
      "                int c = count;\n",
      "                while (items < c) { }\n",
      "                return 1;\n",
      "            }\n",
      "------------------------------\n",
      "{\n",
      "                int c = count;\n",
      "                while (items < c) { }\n",
      "                return 1;\n",
      "            }\n",
      "------------------------------\n"
     ]
    }
   ],
   "source": [
    "print_example(16)"
   ]
  },
  {
   "cell_type": "markdown",
   "id": "36fe5467",
   "metadata": {},
   "source": [
    "## Function execution"
   ]
  },
  {
   "cell_type": "code",
   "execution_count": 9,
   "id": "dba02398",
   "metadata": {},
   "outputs": [],
   "source": [
    "df_to_np = df[columns_list].to_numpy() \n",
    "function_results = [extract_scopes(x) for x in df_to_np]"
   ]
  },
  {
   "cell_type": "code",
   "execution_count": 10,
   "id": "f6b04047",
   "metadata": {},
   "outputs": [
    {
     "name": "stdout",
     "output_type": "stream",
     "text": [
      "<class 'pandas.core.frame.DataFrame'>\n",
      "RangeIndex: 3371 entries, 0 to 3370\n",
      "Data columns (total 3 columns):\n",
      " #   Column    Non-Null Count  Dtype \n",
      "---  ------    --------------  ----- \n",
      " 0   Name      3371 non-null   object\n",
      " 1   Code      3371 non-null   object\n",
      " 2   Category  3371 non-null   object\n",
      "dtypes: object(3)\n",
      "memory usage: 79.1+ KB\n"
     ]
    }
   ],
   "source": [
    "parsed_df_dict = {name: [] for name in columns_list}\n",
    "for d in function_results:\n",
    "    for name in columns_list:\n",
    "        parsed_df_dict[name] += d[name] \n",
    "        \n",
    "parsed_df = pd.DataFrame(parsed_df_dict)\n",
    "parsed_df.info()"
   ]
  },
  {
   "cell_type": "markdown",
   "id": "90beb9d5",
   "metadata": {},
   "source": [
    "## Saving to file"
   ]
  },
  {
   "cell_type": "code",
   "execution_count": 11,
   "id": "4c2a74ba",
   "metadata": {},
   "outputs": [],
   "source": [
    "parsed_df.to_csv(postprocessed_dataset_name, index = False)"
   ]
  }
 ],
 "metadata": {
  "kernelspec": {
   "display_name": "Python 3 (ipykernel)",
   "language": "python",
   "name": "python3"
  },
  "language_info": {
   "codemirror_mode": {
    "name": "ipython",
    "version": 3
   },
   "file_extension": ".py",
   "mimetype": "text/x-python",
   "name": "python",
   "nbconvert_exporter": "python",
   "pygments_lexer": "ipython3",
   "version": "3.9.7"
  }
 },
 "nbformat": 4,
 "nbformat_minor": 5
}
