{
 "cells": [
  {
   "cell_type": "markdown",
   "id": "8cd8f6b3",
   "metadata": {},
   "source": [
    "# Data postprocessing"
   ]
  },
  {
   "cell_type": "code",
   "execution_count": null,
   "id": "fc2c893a",
   "metadata": {},
   "outputs": [],
   "source": [
    "import pandas as pd\n",
    "import numpy as np\n",
    "from matplotlib import pyplot as plt\n",
    "import IPython\n",
    "\n",
    "dataset_name = 'parser_dataset.csv'\n",
    "postprocessed_dataset_name = 'postprocessed_dataset.csv'\n",
    "processed_dataset_name = 'processed_dataset.csv'\n",
    "\n",
    "pictures_folder = 'Pictures'"
   ]
  },
  {
   "cell_type": "code",
   "execution_count": null,
   "id": "22bae174",
   "metadata": {},
   "outputs": [],
   "source": [
    "columns_list = ['Name', 'Code', 'Category']\n",
    "\n",
    "try:\n",
    "    df = pd.read_csv(dataset_name)\n",
    "except Exception: \n",
    "    df = pd.DataFrame(columns = columns_list)\n",
    "    \n",
    "assert (df.columns == columns_list).all()\n",
    "\n",
    "df.info()"
   ]
  },
  {
   "cell_type": "code",
   "execution_count": null,
   "id": "d5054f50",
   "metadata": {},
   "outputs": [],
   "source": [
    "def extract_scopes(row):\n",
    "#     print(row)\n",
    "    name = row[0]\n",
    "    code = row[1]\n",
    "\n",
    "    idx = 0\n",
    "    bracket_idx = 0\n",
    "    open_bracket_pos = [None]\n",
    "    \n",
    "    scopes = list()\n",
    "    scope_processed = None\n",
    "    for_processed = None\n",
    "    \n",
    "    def check(key):\n",
    "        prevIdx = idx - 1\n",
    "        postIdx = idx + len(key)\n",
    "\n",
    "        if code[idx : postIdx] != key:\n",
    "            return False\n",
    "\n",
    "        return (prevIdx == -1 or not code[prevIdx].isalnum()) and \\\n",
    "               (postIdx >= len(code) or not code[postIdx].isalnum())\n",
    "\n",
    "    \n",
    "    while 0 <= idx < len(code):\n",
    "        if idx < len(code) - 1 and code[idx:idx+2] == r'/*':\n",
    "            idx = code.find(r'*/', idx)\n",
    "        if idx < len(code) - 1 and code[idx:idx+2] == r'//':\n",
    "            idx = code.find('\\n', idx)\n",
    "        if code[idx] == r'\"':\n",
    "            idx = code.find(r'\"', idx + 1);\n",
    "        \n",
    "        if idx == -1:\n",
    "            continue\n",
    "            \n",
    "        if code[idx] == '{':\n",
    "            bracket_idx += 1\n",
    "            \n",
    "            if bracket_idx < len(open_bracket_pos):\n",
    "                open_bracket_pos[bracket_idx] = idx\n",
    "            else:\n",
    "                open_bracket_pos.append(idx)\n",
    "            \n",
    "            if for_processed is not None:\n",
    "                open_bracket_pos[bracket_idx] = for_processed\n",
    "                for_processed = None\n",
    "                \n",
    "        elif code[idx] == '}':\n",
    "            if scope_processed == bracket_idx:\n",
    "#                 print(bracket_idx, scope_processed)\n",
    "#                 print(open_bracket_pos)\n",
    "                assert open_bracket_pos[scope_processed] is not None\n",
    "                scopes.append(code[open_bracket_pos[scope_processed] : idx+1])\n",
    "                scope_processed = None\n",
    "            \n",
    "            open_bracket_pos[bracket_idx] = None\n",
    "            bracket_idx -= 1\n",
    "            \n",
    "        elif scope_processed is None and check('for'):\n",
    "            for_processed = idx\n",
    "            \n",
    "            idx = code.find('(', idx) + 1\n",
    "            bra_idx = 1\n",
    "            is_name = False\n",
    "            \n",
    "            while bra_idx != 0:\n",
    "                if code[idx:idx+2] == r'/*':\n",
    "                    idx = code.find(r'*/', idx)\n",
    "                if code[idx:idx+2] == r'//':\n",
    "                    idx = code.find('\\n', idx)\n",
    "                if code[idx] == r'\"':\n",
    "                    idx = code.find(r'\"', idx + 1);\n",
    "                \n",
    "                if code[idx] == '(':\n",
    "                    bra_idx += 1\n",
    "                    \n",
    "                elif code[idx] == ')':\n",
    "                    bra_idx -= 1\n",
    "\n",
    "                elif not is_name and check(name):\n",
    "                    is_name = True\n",
    "                \n",
    "                idx += 1\n",
    "            \n",
    "            if is_name:\n",
    "                while code[idx] != '{' and code[idx] != ';':\n",
    "                    idx += 1\n",
    "\n",
    "                if code[idx] == ';':\n",
    "                    scopes.append(code[for_processed : idx+1])\n",
    "                    for_processed = None\n",
    "                else:\n",
    "                    scope_processed = bracket_idx+1\n",
    "                    continue\n",
    "            \n",
    "        \n",
    "        elif scope_processed is None and check(name):\n",
    "            scope_processed = bracket_idx\n",
    "        \n",
    "        idx += 1\n",
    "        \n",
    "#     print(\"------------Scopes---------------\")\n",
    "#     for scope in scopes:\n",
    "#         print(scope)\n",
    "#         print('-'*20)\n",
    "    \n",
    "    elems = len(scopes)\n",
    "    return {'Name': [name]*elems,\n",
    "            'Code': scopes,\n",
    "            'Category': [row[2]]*elems}\n",
    "    "
   ]
  },
  {
   "cell_type": "code",
   "execution_count": null,
   "id": "3f953b41",
   "metadata": {},
   "outputs": [],
   "source": [
    "some_shit = [extract_scopes(x) for x in df[columns_list].to_numpy()]\n",
    "# some_shit = extract_scopes(df.iloc[17].to_numpy())"
   ]
  },
  {
   "cell_type": "code",
   "execution_count": null,
   "id": "f6b04047",
   "metadata": {},
   "outputs": [],
   "source": [
    "parsed_dict = {name: [] for name in columns_list}\n",
    "for d in some_shit:\n",
    "    for name in columns_list:\n",
    "        parsed_dict[name] += d[name] "
   ]
  },
  {
   "cell_type": "code",
   "execution_count": null,
   "id": "a088f64b",
   "metadata": {},
   "outputs": [],
   "source": [
    "parsed_df = pd.DataFrame(parsed_dict)\n",
    "parsed_df.head(30)"
   ]
  },
  {
   "cell_type": "code",
   "execution_count": null,
   "id": "18393cb3",
   "metadata": {},
   "outputs": [],
   "source": [
    "parsed_df.info()"
   ]
  },
  {
   "cell_type": "markdown",
   "id": "e15f00b1",
   "metadata": {},
   "source": [
    "If you want to validate all the examples and drop extra ones / change a name, run the code below:"
   ]
  },
  {
   "cell_type": "code",
   "execution_count": null,
   "id": "c07724e4",
   "metadata": {},
   "outputs": [],
   "source": [
    "i = 0"
   ]
  },
  {
   "cell_type": "code",
   "execution_count": null,
   "id": "9f3c86d7",
   "metadata": {},
   "outputs": [],
   "source": [
    "while i < len(parsed_dict['Name']):\n",
    "    print(f'Check of sample {i}')\n",
    "    print('-'*20)\n",
    "    print(f'Variable name: {parsed_dict[\"Name\"][i]}')\n",
    "    print(parsed_dict['Code'][i])\n",
    "    print('-'*20)\n",
    "    \n",
    "    inp = input()\n",
    "    if inp == '$d':\n",
    "        for cols in columns_list:\n",
    "            del parsed_dict[cols][i]\n",
    "        \n",
    "    elif inp != '':\n",
    "        parsed_dict['Name'][i] = inp\n",
    "        \n",
    "    IPython.display.clear_output()\n",
    "    i += 1"
   ]
  },
  {
   "cell_type": "code",
   "execution_count": null,
   "id": "c9e08d4a",
   "metadata": {},
   "outputs": [],
   "source": [
    "parsed_df = pd.DataFrame(parsed_dict)\n",
    "parsed_df.info()"
   ]
  },
  {
   "cell_type": "markdown",
   "id": "90beb9d5",
   "metadata": {},
   "source": [
    "Saving chagnes to the file"
   ]
  },
  {
   "cell_type": "code",
   "execution_count": null,
   "id": "4c2a74ba",
   "metadata": {},
   "outputs": [],
   "source": [
    "parsed_df.to_csv(postprocessed_dataset_name, index = False)"
   ]
  }
 ],
 "metadata": {
  "kernelspec": {
   "display_name": "Python 3 (ipykernel)",
   "language": "python",
   "name": "python3"
  },
  "language_info": {
   "codemirror_mode": {
    "name": "ipython",
    "version": 3
   },
   "file_extension": ".py",
   "mimetype": "text/x-python",
   "name": "python",
   "nbconvert_exporter": "python",
   "pygments_lexer": "ipython3",
   "version": "3.9.7"
  }
 },
 "nbformat": 4,
 "nbformat_minor": 5
}
