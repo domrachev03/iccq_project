{
 "cells": [
  {
   "cell_type": "markdown",
   "id": "50a93c11",
   "metadata": {},
   "source": [
    "# Code miner"
   ]
  },
  {
   "cell_type": "markdown",
   "id": "3ce2d59a",
   "metadata": {},
   "source": [
    "This script simplifies the process of data mining. More specifically, it parses all provided java files and searches for special keywords. Then, it proposes user to type a list of variables and choose one type for each of that."
   ]
  },
  {
   "cell_type": "markdown",
   "id": "1b748ea2",
   "metadata": {},
   "source": [
    "## Setup"
   ]
  },
  {
   "cell_type": "code",
   "execution_count": 1,
   "id": "c67332fe",
   "metadata": {},
   "outputs": [],
   "source": [
    "import pandas as pd\n",
    "import os\n",
    "import IPython\n",
    "import time\n",
    "\n",
    "# String separator for GUI\n",
    "sep = '-'*40\n",
    "# Time in seconds, which scripts waits till erasing current cell output during the work \n",
    "sleep_time = 2"
   ]
  },
  {
   "cell_type": "markdown",
   "id": "10d743a4",
   "metadata": {},
   "source": [
    "`reps_dir` list stores all repositories, which parser will traverse"
   ]
  },
  {
   "cell_type": "code",
   "execution_count": 2,
   "id": "120e535f",
   "metadata": {},
   "outputs": [],
   "source": [
    "reps_dir = [r'./reps/Arduino']"
   ]
  },
  {
   "cell_type": "markdown",
   "id": "48c38f4b",
   "metadata": {},
   "source": [
    "### Keywords and categories"
   ]
  },
  {
   "cell_type": "markdown",
   "id": "549ecef8",
   "metadata": {},
   "source": [
    "Keywords are words which parser tries to find in the code snippet. Each keyword is actually a tuple in the form `(key, isWord)`:\n",
    " * `key` is the word itself\n",
    " * `isWord` is a boolean, which equals `True` if script should search for given key only as separate word, and `False` otherwise\n",
    " "
   ]
  },
  {
   "cell_type": "code",
   "execution_count": 3,
   "id": "fd28fb4a",
   "metadata": {},
   "outputs": [],
   "source": [
    "search_keywords = [('for', True), \n",
    "                   ('while', True), \n",
    "                   ('iterator', False)]"
   ]
  },
  {
   "cell_type": "markdown",
   "id": "2fc97edb",
   "metadata": {},
   "source": [
    " For example, consider the following part of code:\n",
    " ```java\n",
    " void main() {\n",
    "     Boolean isFormatted = False;\n",
    "     ListIterator it = new ArrayList<Integer>().begin();\n",
    "     while(true) {\n",
    "         if (foo(isFormatted, it)) {\n",
    "             break;\n",
    "         }\n",
    "     }\n",
    " }\n",
    "```\n",
    "And the provided `search_keywors` list. Here parse would not trigger on key `for`, since it is a part of another word. However, it would trigger on key `while`, since it is separate word and on key `iterator` since parameter `isWord` for it is `False`.\n",
    " \n",
    "Last notice: all search with keywords is *case insensitive*"
   ]
  },
  {
   "cell_type": "markdown",
   "id": "67ba3db5",
   "metadata": {},
   "source": [
    "Also, here are the list of available categories, which variables could be mapped to\n",
    "\n",
    "> **Important**: make sure that categories does not start with the same letter. If you want to disable this rule, check `show_to_user` function implementation"
   ]
  },
  {
   "cell_type": "code",
   "execution_count": 4,
   "id": "08ec3288",
   "metadata": {},
   "outputs": [],
   "source": [
    "#Category names could not start with the same letter!\n",
    "categories_available = ['loop_control', 'iterator', 'maybe_loop_control', 'break_loop_control']"
   ]
  },
  {
   "cell_type": "markdown",
   "id": "1a99ee77",
   "metadata": {},
   "source": [
    "### Dataset"
   ]
  },
  {
   "cell_type": "markdown",
   "id": "ea13cdbe",
   "metadata": {},
   "source": [
    "The data will be loaded from and saved to the file with a name `dataset_name`"
   ]
  },
  {
   "cell_type": "code",
   "execution_count": 5,
   "id": "cfe01331",
   "metadata": {},
   "outputs": [],
   "source": [
    "dataset_name = 'parser_dataset.csv'"
   ]
  },
  {
   "cell_type": "markdown",
   "id": "a5becc4a",
   "metadata": {},
   "source": [
    "This is simple routine to load `pd.DataFrame` file, or create one if it doesn't exist. "
   ]
  },
  {
   "cell_type": "code",
   "execution_count": 6,
   "id": "83e377d2",
   "metadata": {},
   "outputs": [],
   "source": [
    "columns_list = ['Name', 'Code', 'Category']\n",
    "\n",
    "try:\n",
    "    dataset = pd.read_csv(dataset_name)\n",
    "except Exception: \n",
    "    dataset = pd.DataFrame(columns = columns_list)\n",
    "    "
   ]
  },
  {
   "cell_type": "markdown",
   "id": "625e121c",
   "metadata": {},
   "source": [
    "Check columns in the dataset. Just for safety."
   ]
  },
  {
   "cell_type": "code",
   "execution_count": 7,
   "id": "f1383227",
   "metadata": {},
   "outputs": [],
   "source": [
    "assert (dataset.columns == columns_list).all()"
   ]
  },
  {
   "cell_type": "markdown",
   "id": "db2e0245",
   "metadata": {},
   "source": [
    "Printing some info about dataset"
   ]
  },
  {
   "cell_type": "code",
   "execution_count": 8,
   "id": "3f234ec0",
   "metadata": {},
   "outputs": [
    {
     "name": "stdout",
     "output_type": "stream",
     "text": [
      "<class 'pandas.core.frame.DataFrame'>\n",
      "RangeIndex: 2903 entries, 0 to 2902\n",
      "Data columns (total 3 columns):\n",
      " #   Column    Non-Null Count  Dtype \n",
      "---  ------    --------------  ----- \n",
      " 0   Name      2903 non-null   object\n",
      " 1   Code      2903 non-null   object\n",
      " 2   Category  2903 non-null   object\n",
      "dtypes: object(3)\n",
      "memory usage: 68.2+ KB\n"
     ]
    }
   ],
   "source": [
    "dataset.info()"
   ]
  },
  {
   "cell_type": "markdown",
   "id": "7781568d",
   "metadata": {},
   "source": [
    "For technical reasons, new dataset entries stores in the dictionary `new_data` first. \n",
    "\n",
    "Each dict entry associates with one of the columns in database, and values is list of new entries"
   ]
  },
  {
   "cell_type": "code",
   "execution_count": 9,
   "id": "f117d913",
   "metadata": {},
   "outputs": [],
   "source": [
    "new_data = {col: [] for col in columns_list}"
   ]
  },
  {
   "cell_type": "markdown",
   "id": "1b76b2c1",
   "metadata": {},
   "source": [
    "### Progress file"
   ]
  },
  {
   "cell_type": "markdown",
   "id": "0041424c",
   "metadata": {},
   "source": [
    "Progress file is a file, which stores all completed file adresses. They are saved and loaded by the same princible as the dataset."
   ]
  },
  {
   "cell_type": "markdown",
   "id": "a175c790",
   "metadata": {},
   "source": [
    "Setting up `dir_sep` symbol, which separates entries of the file.\n",
    "Also specifying progress file name"
   ]
  },
  {
   "cell_type": "code",
   "execution_count": 10,
   "id": "3492ce55",
   "metadata": {},
   "outputs": [],
   "source": [
    "dir_sep = '$'\n",
    "files_progress_name = 'file_progress.txt'"
   ]
  },
  {
   "cell_type": "markdown",
   "id": "85a51082",
   "metadata": {},
   "source": [
    "Opening routine. During script execution, all completed files stores in a set. That allows avoiding duplicating entries and faster search for specific element"
   ]
  },
  {
   "cell_type": "code",
   "execution_count": 11,
   "id": "54e924e3",
   "metadata": {},
   "outputs": [],
   "source": [
    "files_completed = set()\n",
    "\n",
    "try:\n",
    "    with open(files_progress_name, 'r') as f:\n",
    "        files_completed = set(f.read().split(dir_sep))\n",
    "except Exception:\n",
    "    pass\n",
    "\n",
    "current_progress = len(files_completed)"
   ]
  },
  {
   "cell_type": "markdown",
   "id": "70340c7c",
   "metadata": {},
   "source": [
    "### Functions"
   ]
  },
  {
   "cell_type": "markdown",
   "id": "0e1e7e10",
   "metadata": {},
   "source": [
    "Opens given file and returns all its content in string"
   ]
  },
  {
   "cell_type": "code",
   "execution_count": 12,
   "id": "5118c6f5",
   "metadata": {},
   "outputs": [],
   "source": [
    "def text_from_file(path):\n",
    "    with open(path, 'rb') as f:\n",
    "        text = f.read()\n",
    "    return text.decode('UTF-8')"
   ]
  },
  {
   "cell_type": "markdown",
   "id": "f6fd6b1b",
   "metadata": {},
   "source": [
    "`show_to_user` asks user for variable names, parses them and adds to `new_data`\n",
    "\n",
    "`print_gui` prints main user interface elements on the screen."
   ]
  },
  {
   "cell_type": "code",
   "execution_count": 13,
   "id": "28a3bbef",
   "metadata": {},
   "outputs": [],
   "source": [
    "def print_gui(code_fragment, keyword_found):\n",
    "    print(sep)\n",
    "    print(f'Parser found keyword {keyword_found}!\\n')\n",
    "    print('List all needed variables in the form:')\n",
    "    print('\"varName typeName\"')\n",
    "    print(f'There are only the following variable categories: {categories_available}.')\n",
    "    print('You can write either full category name, or only first letter.\\n')\n",
    "    print('To end -- press Enter with empty line. To restart -- type \"$r\" + Enter')\n",
    "    print('Invalid input would result in force restart.')\n",
    "    print(sep)\n",
    "    print(f'Code fragment:')\n",
    "    print()\n",
    "    print(code_fragment)\n",
    "    print(sep)\n",
    "    \n",
    "    \n",
    "def show_to_user(code_fragment, keyword_found, new_data):\n",
    "    \n",
    "    while True:\n",
    "        # Printing GUI\n",
    "        time.sleep(sleep_time)\n",
    "        IPython.display.clear_output()\n",
    "        print_gui(code_fragment, keyword_found)\n",
    "        \n",
    "        # The reason why we keep input in these lists first is \n",
    "        # possibility of reloading\n",
    "        names = list()\n",
    "        categories = list()  \n",
    "        \n",
    "        line = input()    \n",
    "        while line != '' and line.find('$r') == -1:\n",
    "            # words should be a list of two elements: variable name and its type\n",
    "            words = line.split(' ')\n",
    "            \n",
    "            # Check list size\n",
    "            if len(words) != 2:\n",
    "                print('Invalid words amount! Restarting...')\n",
    "                line = '$r'\n",
    "                break        \n",
    "            # Check if code fragment actually contains written variable\n",
    "            if code_fragment.find(words[0]) == -1:\n",
    "                print('Invalid variable name! Restarting...')\n",
    "                line = '$r'\n",
    "                break\n",
    "            \n",
    "            # Validating the type\n",
    "            category = None\n",
    "            for cat in categories_available:\n",
    "                # !!! This is a place, where you can change the way categories detected\n",
    "                # By default, you can mention:\n",
    "                #     - First letter of category\n",
    "                #     - First two letters of category\n",
    "                #     - Full category name\n",
    "                if words[1] == cat or words[1] == cat[0] or words[1] == cat[0:2]:\n",
    "                    category = cat\n",
    "                    break        \n",
    "                    \n",
    "            if category is None:\n",
    "                print('Invalid category! Restarting...')\n",
    "                line = '$r'\n",
    "                break    \n",
    "            \n",
    "            names.append(words[0])\n",
    "            categories.append(category) \n",
    "            \n",
    "            line = input()\n",
    "            \n",
    "        if line.find('$r') != -1:\n",
    "            print(\"Restarting...\")\n",
    "            continue\n",
    "        break        \n",
    "    \n",
    "    # Adding data to temporary data structure\n",
    "    new_data['Name'] += names\n",
    "    new_data['Code'] += [code_fragment] * len(names)\n",
    "    new_data['Category'] += categories\n",
    "    \n",
    "    print(sep)\n",
    "    print('New samples successfully added to database!')\n",
    "   "
   ]
  },
  {
   "cell_type": "markdown",
   "id": "5ef27bd9",
   "metadata": {},
   "source": [
    "This function returns `True` if the code fragment (given by `code` and `idx`) corresponds to the key from `search_keywords`  "
   ]
  },
  {
   "cell_type": "code",
   "execution_count": 14,
   "id": "7a0b1642",
   "metadata": {},
   "outputs": [],
   "source": [
    "def check(code, idx, key, isWord):\n",
    "    prevIdx = idx - 1\n",
    "    postIdx = idx + len(key)\n",
    "    \n",
    "    if code[idx : postIdx] != key:\n",
    "        return False\n",
    "    \n",
    "    return not isWord or ((prevIdx == -1 or not code[prevIdx].isalnum()) and \n",
    "                          (postIdx >= len(code) or not code[postIdx].isalnum()))"
   ]
  },
  {
   "cell_type": "markdown",
   "id": "01c9938c",
   "metadata": {},
   "source": [
    "This function tries to find any keyword in a given code fragment. Calls `show_to_user` funciton and returns `True` if founds any keyword, returns `False` otherwise"
   ]
  },
  {
   "cell_type": "code",
   "execution_count": 15,
   "id": "2466900c",
   "metadata": {},
   "outputs": [],
   "source": [
    "def try_find_keywords(code, new_data):\n",
    "    lcode = code.lower()\n",
    "    \n",
    "    for (key, isWord) in search_keywords:\n",
    "        cur_idx = 0\n",
    "        key_len = len(key)\n",
    "        \n",
    "        while cur_idx != len(code) - 1 :\n",
    "            # If comment opening symbol found, jump to comment close symbol\n",
    "            if cur_idx < len(code) - 1 and lcode[cur_idx:cur_idx+2] == r'/*':\n",
    "                cur_idx = lcode.find(r'*/', cur_idx)\n",
    "            if cur_idx < len(code) - 1 and lcode[cur_idx:cur_idx+2] == r'//':\n",
    "                cur_idx = lcode.find('\\n', cur_idx)\n",
    "            \n",
    "            # If string literal beginning found, jump to string literal end\n",
    "            if lcode[cur_idx] == r'\"':\n",
    "                cur_idx = lcode.find(r'\"', cur_idx + 1);\n",
    "            \n",
    "            if cur_idx == -1:\n",
    "                break\n",
    "                \n",
    "            if check(lcode, cur_idx, key, isWord):\n",
    "                show_to_user(code, key, new_data)\n",
    "                \n",
    "                return True\n",
    "            \n",
    "            cur_idx += 1\n",
    "            \n",
    "    return False"
   ]
  },
  {
   "cell_type": "markdown",
   "id": "a2247d18",
   "metadata": {},
   "source": [
    "This version works much faster. However, it does not exclude search inside string literals and comments"
   ]
  },
  {
   "cell_type": "code",
   "execution_count": 16,
   "id": "974a0569",
   "metadata": {},
   "outputs": [],
   "source": [
    "def try_find_keywords_depricated(code, new_data):\n",
    "    lcode = code.lower()\n",
    "    for (key, isWord) in search_keywords:\n",
    "        idx = lcode.find(key)\n",
    "        prevIdx = idx - 1\n",
    "        postIdx = idx + len(key)\n",
    "        if idx != -1:\n",
    "            if not isWord or ((prevIdx == -1 or not lcode[prevIdx].isalnum()) and (postIdx >= len(code) or not lcode[postIdx].isalnum())):\n",
    "                show_to_user(code, key, new_data)\n",
    "                return True\n",
    "            \n",
    "    return False"
   ]
  },
  {
   "cell_type": "markdown",
   "id": "21fe23ef",
   "metadata": {},
   "source": [
    "### Traversing the reps"
   ]
  },
  {
   "cell_type": "markdown",
   "id": "16653144",
   "metadata": {},
   "source": [
    "This code traverses recursively all directories from `repos_dir` and add all `.java` files in the `code_samples` list.\n",
    "\n",
    "Entry of `code_samples` has a form `(path, code)`, where:\n",
    " * `path` - relative path to the variable\n",
    " * `code` - string with all code in the file"
   ]
  },
  {
   "cell_type": "code",
   "execution_count": 17,
   "id": "57f1e285",
   "metadata": {},
   "outputs": [],
   "source": [
    "code_samples = []\n",
    "files_amount = 0\n",
    "\n",
    "# Traversing all repositories from the list, and \n",
    "# saving code from *.java files and their pathes\n",
    "for rep in reps_dir:\n",
    "    walk = os.walk(rep)\n",
    "\n",
    "    for root, dirs, files in walk:\n",
    "        for file in files:\n",
    "            if file.endswith(\".java\"):\n",
    "                files_amount += 1\n",
    "                path = root + '/' + file\n",
    "                code = text_from_file(path)\n",
    "                code_samples.append((path, code))"
   ]
  },
  {
   "cell_type": "markdown",
   "id": "6fab476f",
   "metadata": {},
   "source": [
    "Comparing total amount of files and amount of currently completed:"
   ]
  },
  {
   "cell_type": "code",
   "execution_count": 18,
   "id": "abb06f39",
   "metadata": {},
   "outputs": [
    {
     "name": "stdout",
     "output_type": "stream",
     "text": [
      "Completed 3133 out of 277\n"
     ]
    }
   ],
   "source": [
    "print(f\"Completed {current_progress} out of {files_amount}\")"
   ]
  },
  {
   "cell_type": "markdown",
   "id": "7072232f",
   "metadata": {},
   "source": [
    "### Parsing files"
   ]
  },
  {
   "cell_type": "markdown",
   "id": "6514d6ed",
   "metadata": {},
   "source": [
    "This function supports the main loop further. It returns `True` if given code fragment (given by code string and index) contains `class` key reegarding all required rules, and `False` otherwise."
   ]
  },
  {
   "cell_type": "code",
   "execution_count": 19,
   "id": "5986af40",
   "metadata": {},
   "outputs": [],
   "source": [
    "def class_check(code, idx):\n",
    "    keys = [\"class\", \"enum\"]\n",
    "    \n",
    "    prevIdx = idx - 1\n",
    "    \n",
    "    for key in keys:\n",
    "        postIdx = idx + len(key)\n",
    "        if code[idx : postIdx] != key:\n",
    "            continue\n",
    "    \n",
    "        # class keyword has to be rounded by whitespaces\n",
    "        if ((prevIdx == -1 or code[prevIdx].isspace()) and \n",
    "                (postIdx >= len(code) or code[postIdx].isspace())):\n",
    "            return True\n",
    "    \n",
    "    return False"
   ]
  },
  {
   "cell_type": "markdown",
   "id": "dbaac4e2",
   "metadata": {},
   "source": [
    "**Main parsing loop**\n",
    "\n",
    "Iterates all saved code samples, tries to spot methods inside and sends it to `try_find_variable` function"
   ]
  },
  {
   "cell_type": "code",
   "execution_count": 20,
   "id": "ef5629d0",
   "metadata": {
    "scrolled": false
   },
   "outputs": [
    {
     "name": "stdout",
     "output_type": "stream",
     "text": [
      "All repos were parced!\n"
     ]
    }
   ],
   "source": [
    "for (path, code) in code_samples:\n",
    "    # Check if file was already processed, and adding it to the set otherwise\n",
    "    if path in files_completed:\n",
    "        continue\n",
    "        \n",
    "    # Current index in code\n",
    "    idx = 0\n",
    "    # Unclosed curve brackets\n",
    "    bracket_idx = 0\n",
    "    # Unclosed class bodies\n",
    "    class_bracket_idx = 0\n",
    "    # Index where last method began. If no method currently proceeding, then 0\n",
    "    method_begin_idx = 0\n",
    "    \n",
    "    \n",
    "    if_variable_added = False\n",
    "    if_method_proceeded = False\n",
    "    if_brackets_open = False\n",
    "    if_comment_open = False\n",
    "    if_multiline_comment_open = False\n",
    "         \n",
    "    while idx < len(code):                \n",
    "        # Skipping string litterals and comments\n",
    "        if code[idx] == '\"':\n",
    "            idx += 1\n",
    "            while code[idx] != '\"':\n",
    "                if code[idx] == '\\\\':\n",
    "                    idx += 1\n",
    "                \n",
    "                idx += 1\n",
    "                \n",
    "        if code[idx] == \"'\":\n",
    "            idx += 1\n",
    "            while code[idx] != \"'\":\n",
    "                if code[idx] == '\\\\':\n",
    "                    idx += 1\n",
    "                \n",
    "                idx += 1\n",
    "                \n",
    "        if idx+1 < len(code) and code[idx : idx+2] == '//':\n",
    "            idx = code.find('\\n', idx)\n",
    "        if idx+1 < len(code) and code[idx : idx+2] == '/*':\n",
    "            idx = code.find('*/', idx)\n",
    "        \n",
    "        if idx == -1:\n",
    "            break\n",
    "        \n",
    "        # Counting brackets\n",
    "        if code[idx] == '{':\n",
    "            bracket_idx += 1\n",
    "            \n",
    "        if code[idx] == '}':\n",
    "            bracket_idx -= 1\n",
    "        \n",
    "        # Try to find new class or close opened one\n",
    "        if not if_method_proceeded: \n",
    "            if class_check(code, idx):\n",
    "                idx = code.find('{', idx)\n",
    "                bracket_idx += 1\n",
    "                class_bracket_idx += 1\n",
    "                \n",
    "            elif class_bracket_idx > bracket_idx:\n",
    "                class_bracket_idx -= 1    \n",
    "        # Spot new method beginning   \n",
    "        if code[idx] == '{' and bracket_idx == class_bracket_idx+1 and not if_method_proceeded:\n",
    "            method_begin_idx = idx\n",
    "            if_method_proceeded = True\n",
    "        \n",
    "        # Spot method closing\n",
    "        if code[idx] == '}' and bracket_idx == class_bracket_idx and if_method_proceeded:\n",
    "            if method_begin_idx == 0:\n",
    "                raise Error(f\"Slicing error in file {file}!\")    \n",
    "            \n",
    "            # Main loop part. Trying to find keywords in found method body\n",
    "            if try_find_keywords(code[method_begin_idx : idx+1], new_data):\n",
    "                if_variable_added = True\n",
    "            method_begin_idx = 0\n",
    "                \n",
    "            if_method_proceeded = not if_method_proceeded\n",
    "        \n",
    "        # Each loop iteration, index increases\n",
    "        idx += 1\n",
    "\n",
    "    if bracket_idx != 0:\n",
    "        raise NameError(f'Bracket error in file {path}!')\n",
    "\n",
    "    if if_variable_added:\n",
    "        print(f'You have finished {path}.')\n",
    "    files_completed.add(path)\n",
    "    \n",
    "    \n",
    "IPython.display.clear_output()\n",
    "print('All repos were parced!')        "
   ]
  },
  {
   "cell_type": "markdown",
   "id": "2bde325d",
   "metadata": {},
   "source": [
    "### Error handling\n"
   ]
  },
  {
   "cell_type": "markdown",
   "id": "e7d67cb8",
   "metadata": {},
   "source": [
    "These section is for dealing with errors. \n",
    "In the following cell, write the path to the file. "
   ]
  },
  {
   "cell_type": "code",
   "execution_count": null,
   "id": "ef6e4217",
   "metadata": {},
   "outputs": [],
   "source": [
    "err_file_name = './reps/Arduino/arduino-core/src/processing/app/helpers/PreferencesHelper.java' "
   ]
  },
  {
   "cell_type": "markdown",
   "id": "1ebf2007",
   "metadata": {},
   "source": [
    "Finding code inside this file"
   ]
  },
  {
   "cell_type": "code",
   "execution_count": null,
   "id": "b57083c3",
   "metadata": {},
   "outputs": [],
   "source": [
    "err_code = \"\"\n",
    "for (name, code) in code_samples:\n",
    "    if name == err_file_name:\n",
    "        err_code = code\n",
    "print(err_code)"
   ]
  },
  {
   "cell_type": "markdown",
   "id": "244f5cfa",
   "metadata": {},
   "source": [
    "After fixing the code, save this path in separate file"
   ]
  },
  {
   "cell_type": "code",
   "execution_count": null,
   "id": "b785b4c3",
   "metadata": {},
   "outputs": [],
   "source": [
    "name = \"error_pathes\"\n",
    "with open(\"file_progress.txt\", 'a') as f:\n",
    "    f.write(dir_sep + name)"
   ]
  },
  {
   "cell_type": "markdown",
   "id": "8f993adf",
   "metadata": {},
   "source": [
    "## After parsing"
   ]
  },
  {
   "cell_type": "markdown",
   "id": "c2d3dc31",
   "metadata": {},
   "source": [
    "Showing progress and saving all progress inside dataframe. Also cleaning up the new_data, so that it's possible to proceed with main parsing loop"
   ]
  },
  {
   "cell_type": "code",
   "execution_count": 21,
   "id": "6643c7c9",
   "metadata": {},
   "outputs": [
    {
     "name": "stdout",
     "output_type": "stream",
     "text": [
      "Amount of examples was 2903\n",
      "Amount of examples now 2903\n"
     ]
    }
   ],
   "source": [
    "print(f'Amount of examples was {len(dataset)}')\n",
    "dataset = pd.concat([dataset, pd.DataFrame(new_data)], axis = 0, ignore_index = True)\n",
    "print(f'Amount of examples now {len(dataset)}')\n",
    "\n",
    "new_data = {col: [] for col in columns_list}"
   ]
  },
  {
   "cell_type": "markdown",
   "id": "d356c6d3",
   "metadata": {},
   "source": [
    "Saving all the changes into the files"
   ]
  },
  {
   "cell_type": "code",
   "execution_count": null,
   "id": "90ecde47",
   "metadata": {},
   "outputs": [],
   "source": [
    "with open(\"file_progress.txt\", 'w') as f:\n",
    "    f.write(dir_sep.join(files_completed))\n",
    "dataset.to_csv(dataset_name, index = False)"
   ]
  },
  {
   "cell_type": "markdown",
   "id": "69871577",
   "metadata": {},
   "source": [
    "Checking if file updated"
   ]
  },
  {
   "cell_type": "code",
   "execution_count": null,
   "id": "2102aa46",
   "metadata": {
    "scrolled": true
   },
   "outputs": [],
   "source": [
    "# Use for checking purposes\n",
    "try:\n",
    "    dataset = pd.read_csv(dataset_name)\n",
    "except Exception: \n",
    "    dataset = pd.DataFrame(columns = columns_list)\n",
    "\n",
    "dataset.info()"
   ]
  },
  {
   "cell_type": "code",
   "execution_count": null,
   "id": "b24b1690",
   "metadata": {},
   "outputs": [],
   "source": [
    "print(dataset['Category'].value_counts())"
   ]
  }
 ],
 "metadata": {
  "kernelspec": {
   "display_name": "Python 3 (ipykernel)",
   "language": "python",
   "name": "python3"
  },
  "language_info": {
   "codemirror_mode": {
    "name": "ipython",
    "version": 3
   },
   "file_extension": ".py",
   "mimetype": "text/x-python",
   "name": "python",
   "nbconvert_exporter": "python",
   "pygments_lexer": "ipython3",
   "version": "3.9.7"
  }
 },
 "nbformat": 4,
 "nbformat_minor": 5
}
