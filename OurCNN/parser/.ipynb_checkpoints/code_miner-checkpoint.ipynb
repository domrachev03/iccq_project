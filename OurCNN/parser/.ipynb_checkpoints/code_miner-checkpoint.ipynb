{
 "cells": [
  {
   "cell_type": "markdown",
   "id": "50a93c11",
   "metadata": {},
   "source": [
    "# Code miner"
   ]
  },
  {
   "cell_type": "markdown",
   "id": "63c25e06",
   "metadata": {},
   "source": [
    "This script simplifies the process of data mining of variable categories in a Java code.\n",
    "It makes best efford to extract code snippets and select ones that could contain useful variables using *keywords*. Then, user should choose manually the variables and map them to the categories. "
   ]
  },
  {
   "cell_type": "markdown",
   "id": "3ce2d59a",
   "metadata": {},
   "source": [
    "## Working pipeline\n",
    "The working pipeline is the following:\n",
    "1. Clone Java code repositories\n",
    "2. Choose keywords and their type\n",
    "3. Run all the code until *Main Parcing Loop*\n",
    "4. Parce repositories\n",
    "5. Save all the changes in the part *After parcing*"
   ]
  },
  {
   "cell_type": "markdown",
   "id": "1b748ea2",
   "metadata": {},
   "source": [
    "## Setup"
   ]
  },
  {
   "cell_type": "code",
   "execution_count": 1,
   "id": "c67332fe",
   "metadata": {},
   "outputs": [],
   "source": [
    "import pandas as pd\n",
    "import os\n",
    "import IPython\n",
    "import time\n",
    "import re\n",
    "\n",
    "# String separator for GUI\n",
    "sep = '-'*40\n",
    "\n",
    "# Time in seconds, which scripts waits till erasing current cell output during the work \n",
    "sleep_time = 2"
   ]
  },
  {
   "cell_type": "markdown",
   "id": "521f0fc1",
   "metadata": {},
   "source": [
    "### Code directories"
   ]
  },
  {
   "cell_type": "markdown",
   "id": "10d743a4",
   "metadata": {},
   "source": [
    "`reps_dir` list stores all repositories, which parser will traverse."
   ]
  },
  {
   "cell_type": "code",
   "execution_count": 2,
   "id": "120e535f",
   "metadata": {},
   "outputs": [],
   "source": [
    "reps_dir = [r'./reps/Arduino']\n",
    "# reps_dir = [r'./reps/Arduino', r'./reps/sndcpy', r'./reps/AmazeFileManager']"
   ]
  },
  {
   "cell_type": "markdown",
   "id": "48c38f4b",
   "metadata": {},
   "source": [
    "### Keywords and categories"
   ]
  },
  {
   "cell_type": "markdown",
   "id": "549ecef8",
   "metadata": {},
   "source": [
    "Keywords are words (could be regex, but you should use them with understanding and care) which parser tries to find in the code snippet. Each keyword is actually a tuple in the form `(key, isWord)`:\n",
    " * `key` is the word itself\n",
    " * `isWord` is a boolean, which equals `True` if script should search for given key only as separate word, and `False` otherwise\n",
    " "
   ]
  },
  {
   "cell_type": "code",
   "execution_count": 3,
   "id": "fd28fb4a",
   "metadata": {},
   "outputs": [],
   "source": [
    "search_keywords = [('for', True), \n",
    "                   ('while', True), \n",
    "                   ('iterator', False)]"
   ]
  },
  {
   "cell_type": "markdown",
   "id": "2fc97edb",
   "metadata": {},
   "source": [
    " For example, consider the following part of code:\n",
    " ```java\n",
    " void main() {\n",
    "     Boolean isFormatted = False;\n",
    "     ListIterator it = new ArrayList<Integer>().begin();\n",
    "     while(true) {\n",
    "         if (foo(isFormatted, it)) {\n",
    "             break;\n",
    "         }\n",
    "     }\n",
    " }\n",
    "```\n",
    "And the provided `search_keywors` list. Here parse would not trigger on key `for` in `isFormatted`, since it is a part of another word. However, it would trigger on key `while`, since it is separate word and on key `iterator` since parameter `isWord` for it is `False`.\n",
    " \n",
    "Last notice: search with keywords is *case insensitive*"
   ]
  },
  {
   "cell_type": "markdown",
   "id": "67ba3db5",
   "metadata": {},
   "source": [
    "Also, here are the list of available categories, which variables could be mapped to\n",
    "\n",
    "> **Important**: make sure that categories does not start with the same letter. If you want to disable this rule, check `show_to_user` function implementation"
   ]
  },
  {
   "cell_type": "code",
   "execution_count": 4,
   "id": "08ec3288",
   "metadata": {},
   "outputs": [],
   "source": [
    "#Category names could not start with the same letter!\n",
    "categories_available = ['loop_control', 'iterator', 'maybe_loop_control', 'break_loop_control']"
   ]
  },
  {
   "cell_type": "markdown",
   "id": "1a99ee77",
   "metadata": {},
   "source": [
    "### Dataset"
   ]
  },
  {
   "cell_type": "markdown",
   "id": "ea13cdbe",
   "metadata": {},
   "source": [
    "The data will be loaded from and saved to the file with a name `dataset_name`"
   ]
  },
  {
   "cell_type": "code",
   "execution_count": 5,
   "id": "cfe01331",
   "metadata": {},
   "outputs": [],
   "source": [
    "columns_list = ['Name', 'Code', 'Category']\n",
    "\n",
    "dataset_name = 'parser_dataset.csv'"
   ]
  },
  {
   "cell_type": "markdown",
   "id": "a5becc4a",
   "metadata": {},
   "source": [
    "This is simple routine to load `pd.DataFrame` file, or create one if it doesn't exist. "
   ]
  },
  {
   "cell_type": "code",
   "execution_count": 6,
   "id": "83e377d2",
   "metadata": {},
   "outputs": [],
   "source": [
    "try:\n",
    "    dataset = pd.read_csv(dataset_name)\n",
    "except Exception: \n",
    "    dataset = pd.DataFrame(columns = columns_list)    "
   ]
  },
  {
   "cell_type": "markdown",
   "id": "625e121c",
   "metadata": {},
   "source": [
    "Check columns in the dataset. Just for safety."
   ]
  },
  {
   "cell_type": "code",
   "execution_count": 7,
   "id": "f1383227",
   "metadata": {},
   "outputs": [],
   "source": [
    "assert (dataset.columns == columns_list).all()"
   ]
  },
  {
   "cell_type": "markdown",
   "id": "db2e0245",
   "metadata": {},
   "source": [
    "Printing some info about dataset"
   ]
  },
  {
   "cell_type": "code",
   "execution_count": 8,
   "id": "3f234ec0",
   "metadata": {},
   "outputs": [
    {
     "name": "stdout",
     "output_type": "stream",
     "text": [
      "<class 'pandas.core.frame.DataFrame'>\n",
      "RangeIndex: 2903 entries, 0 to 2902\n",
      "Data columns (total 3 columns):\n",
      " #   Column    Non-Null Count  Dtype \n",
      "---  ------    --------------  ----- \n",
      " 0   Name      2903 non-null   object\n",
      " 1   Code      2903 non-null   object\n",
      " 2   Category  2903 non-null   object\n",
      "dtypes: object(3)\n",
      "memory usage: 68.2+ KB\n"
     ]
    }
   ],
   "source": [
    "dataset.info()"
   ]
  },
  {
   "cell_type": "markdown",
   "id": "7781568d",
   "metadata": {},
   "source": [
    "New entries are stored in the dictionary `new_data` first, so that you can roll changes back.\n",
    "\n",
    "Each dict entry associates with one of the columns in database, and values is list of new entries"
   ]
  },
  {
   "cell_type": "code",
   "execution_count": 9,
   "id": "f117d913",
   "metadata": {},
   "outputs": [],
   "source": [
    "new_data = {col: [] for col in columns_list}"
   ]
  },
  {
   "cell_type": "markdown",
   "id": "1b76b2c1",
   "metadata": {},
   "source": [
    "### Progress file"
   ]
  },
  {
   "cell_type": "markdown",
   "id": "0041424c",
   "metadata": {},
   "source": [
    "Progress file is a file, which stores all completed file adresses. They are saved and loaded by the same princible as the dataset."
   ]
  },
  {
   "cell_type": "markdown",
   "id": "a175c790",
   "metadata": {},
   "source": [
    "Setting up `dir_sep` symbol, which separates entries of the file.\n",
    "Also specifying progress file name"
   ]
  },
  {
   "cell_type": "code",
   "execution_count": 10,
   "id": "3492ce55",
   "metadata": {},
   "outputs": [],
   "source": [
    "dir_sep = '\\n'\n",
    "files_progress_name = 'file_progress.txt'"
   ]
  },
  {
   "cell_type": "markdown",
   "id": "85a51082",
   "metadata": {},
   "source": [
    "Opening routine. During script execution, all completed files stores in a set. That allows avoiding duplicating entries and faster search for specific element"
   ]
  },
  {
   "cell_type": "code",
   "execution_count": 11,
   "id": "54e924e3",
   "metadata": {},
   "outputs": [],
   "source": [
    "files_completed = set()\n",
    "\n",
    "try:\n",
    "    with open(files_progress_name, 'r') as f:\n",
    "        files_completed = set(f.read().split(dir_sep))\n",
    "except Exception:\n",
    "    pass\n",
    "\n",
    "current_progress = len(files_completed)"
   ]
  },
  {
   "cell_type": "markdown",
   "id": "77bd9b8c",
   "metadata": {},
   "source": [
    "### Traversing the reps"
   ]
  },
  {
   "cell_type": "markdown",
   "id": "c6fca6ad",
   "metadata": {},
   "source": [
    "This code traverses recursively all directories from `repos_dir` and add all `.java` files in the `code_samples` list.\n",
    "\n",
    "Entry of `code_samples` has a form `(path, code)`, where:\n",
    " * `path` - relative path to the variable\n",
    " * `code` - string with all code in the file"
   ]
  },
  {
   "cell_type": "code",
   "execution_count": 17,
   "id": "7045205f",
   "metadata": {},
   "outputs": [],
   "source": [
    "code_samples = []\n",
    "files_amount = 0\n",
    "\n",
    "# Traversing all repositories from the list, and \n",
    "# saving code from *.java files and their pathes\n",
    "for rep in reps_dir:\n",
    "    walk = os.walk(rep)\n",
    "\n",
    "    for root, dirs, files in walk:\n",
    "        for file in files:\n",
    "            if file.endswith(\".java\"):\n",
    "                files_amount += 1\n",
    "                path = root + '/' + file\n",
    "                code = text_from_file(path)\n",
    "                code_samples.append((path, code))"
   ]
  },
  {
   "cell_type": "markdown",
   "id": "607e001d",
   "metadata": {},
   "source": [
    "Comparing total amount of files and amount of currently completed:"
   ]
  },
  {
   "cell_type": "code",
   "execution_count": 18,
   "id": "e7a93d0c",
   "metadata": {},
   "outputs": [
    {
     "name": "stdout",
     "output_type": "stream",
     "text": [
      "Completed 3135 out of 548\n"
     ]
    }
   ],
   "source": [
    "print(f\"Completed {current_progress} out of {files_amount}\")"
   ]
  },
  {
   "cell_type": "markdown",
   "id": "70340c7c",
   "metadata": {},
   "source": [
    "## Functions"
   ]
  },
  {
   "cell_type": "markdown",
   "id": "b1a3da73",
   "metadata": {},
   "source": [
    "### GUI"
   ]
  },
  {
   "cell_type": "markdown",
   "id": "f6fd6b1b",
   "metadata": {},
   "source": [
    "* `print_gui` prints main user interface elements on the screen."
   ]
  },
  {
   "cell_type": "code",
   "execution_count": null,
   "id": "fc3faba7",
   "metadata": {},
   "outputs": [],
   "source": [
    "def print_gui(code_fragment, keyword_found):\n",
    "    print(sep)\n",
    "    print(f'Parser found keyword {keyword_found}!\\n')\n",
    "    print('List all needed variables in the form:')\n",
    "    print('\"varName typeName\"')\n",
    "    print(f'There are only the following variable categories: {categories_available}.')\n",
    "    print('You can write either full category name, or only first letter.\\n')\n",
    "    print('To end -- press Enter with empty line. To restart -- type \"$r\" + Enter')\n",
    "    print('Invalid input would result in force restart.')\n",
    "    print(sep)\n",
    "    print(f'Code fragment:')\n",
    "    print()\n",
    "    print(code_fragment)\n",
    "    print(sep)\n",
    "    "
   ]
  },
  {
   "cell_type": "markdown",
   "id": "9dc983a0",
   "metadata": {},
   "source": [
    "* `show_to_user` asks user for variable names, parses them and adds to `new_data`"
   ]
  },
  {
   "cell_type": "code",
   "execution_count": 13,
   "id": "28a3bbef",
   "metadata": {},
   "outputs": [],
   "source": [
    "def show_to_user(code_fragment, keyword_found, new_data):\n",
    "    while True:\n",
    "        # Printing GUI\n",
    "        time.sleep(sleep_time)\n",
    "        IPython.display.clear_output()\n",
    "        print_gui(code_fragment, keyword_found)\n",
    "        \n",
    "        # The reason why we keep input in these lists first is \n",
    "        # possibility of reloading\n",
    "        names = list()\n",
    "        categories = list()  \n",
    "        \n",
    "        line = input()    \n",
    "        while line != '' and line.find('$r') == -1:\n",
    "            # Words should be a list of two elements: variable name and its type\n",
    "            words = line.split(' ')\n",
    "            \n",
    "            # Check list size\n",
    "            if len(words) != 2:\n",
    "                print('Invalid words amount! Restarting...')\n",
    "                line = '$r'\n",
    "                break        \n",
    "            # Check if code fragment actually contains written variable\n",
    "            if code_fragment.find(words[0]) == -1:\n",
    "                print('Invalid variable name! Restarting...')\n",
    "                line = '$r'\n",
    "                break\n",
    "            \n",
    "            # Validating the type\n",
    "            category = None\n",
    "            for cat in categories_available:\n",
    "                # !!! This is a place, where you can change the way categories detected\n",
    "                # By default, you can mention:\n",
    "                #     - First letter of category\n",
    "                #     - First two letters of category\n",
    "                #     - Full category name\n",
    "                if words[1] == cat or words[1] == cat[0] or words[1] == cat[0:2]:\n",
    "                    category = cat\n",
    "                    break        \n",
    "                    \n",
    "            if category is None:\n",
    "                print('Invalid category! Restarting...')\n",
    "                line = '$r'\n",
    "                break    \n",
    "            \n",
    "            names.append(words[0])\n",
    "            categories.append(category) \n",
    "            \n",
    "            line = input()\n",
    "            \n",
    "        if line.find('$r') != -1:\n",
    "            print(\"Restarting...\")\n",
    "            continue\n",
    "        break        \n",
    "    \n",
    "    # Adding data to temporary data structure\n",
    "    new_data['Name'] += names\n",
    "    new_data['Code'] += [code_fragment] * len(names)\n",
    "    new_data['Category'] += categories\n",
    "    \n",
    "    print(sep)\n",
    "    print('New samples successfully added to database!')"
   ]
  },
  {
   "cell_type": "markdown",
   "id": "7c8008f1",
   "metadata": {},
   "source": [
    "### Validating code fragments "
   ]
  },
  {
   "cell_type": "markdown",
   "id": "5ef27bd9",
   "metadata": {},
   "source": [
    "* `check_variable` returns `True` if the code fragment (given by `code` and `idx`) corresponds to the key from `search_keywords`  "
   ]
  },
  {
   "cell_type": "code",
   "execution_count": 14,
   "id": "7a0b1642",
   "metadata": {},
   "outputs": [],
   "source": [
    "def check_variable(code, idx, key, isWord):\n",
    "    prevIdx = idx - 1\n",
    "    postIdx = idx + len(key)\n",
    "    \n",
    "    if re.match(key, code[idx:]) is None:\n",
    "        return False\n",
    "    \n",
    "    #      either not word or word rule should match\n",
    "    return not isWord or ((prevIdx == -1 or not code[prevIdx].isalnum()) and \n",
    "                          (postIdx >= len(code) or not code[postIdx].isalnum()))"
   ]
  },
  {
   "cell_type": "markdown",
   "id": "01c9938c",
   "metadata": {},
   "source": [
    " * `try_find_keywords` tries to find any keyword in a given code fragment. Calls `show_to_user` funciton and returns `True` if founds any keyword, returns `False` otherwise"
   ]
  },
  {
   "cell_type": "code",
   "execution_count": 15,
   "id": "2466900c",
   "metadata": {},
   "outputs": [],
   "source": [
    "def try_find_keywords(code, new_data):\n",
    "    lcode = code.lower()\n",
    "    cur_idx = 0        \n",
    "    \n",
    "    while cur_idx != len(code) - 1 :\n",
    "        # If comment opening symbol found, jump to comment close symbol\n",
    "        if cur_idx < len(lcode) - 1 and lcode[cur_idx:cur_idx+2] == r'/*':\n",
    "            cur_idx = lcode.find(r'*/', cur_idx+2)\n",
    "            \n",
    "        if cur_idx < len(lcode) - 1 and lcode[cur_idx:cur_idx+2] == r'//':\n",
    "            cur_idx = lcode.find('\\n', cur_idx+2)\n",
    "\n",
    "        # If string literal beginning found, jump to string literal end\n",
    "        if lcode[cur_idx] == r'\"':\n",
    "            cur_idx = lcode.find(r'\"', cur_idx + 1);\n",
    "\n",
    "        if cur_idx == -1:\n",
    "            break\n",
    "\n",
    "        for (key, isWord) in search_keywords:\n",
    "            if check_variable(lcode, cur_idx, key, isWord):\n",
    "                show_to_user(code, key, new_data)\n",
    "\n",
    "                return True\n",
    "\n",
    "        cur_idx += 1\n",
    "            \n",
    "    return False"
   ]
  },
  {
   "cell_type": "markdown",
   "id": "a2247d18",
   "metadata": {},
   "source": [
    " * `try_find_keywords_alternative` works much faster then `try_find_keywords`. However, it does not exclude search inside string literals and comments"
   ]
  },
  {
   "cell_type": "code",
   "execution_count": 16,
   "id": "974a0569",
   "metadata": {},
   "outputs": [],
   "source": [
    "def try_find_keywords_alternative(code, new_data):\n",
    "    lcode = code.lower()\n",
    "    for (key, isWord) in search_keywords:\n",
    "        idx = lcode.find(key)\n",
    "        prevIdx = idx - 1\n",
    "        postIdx = idx + len(key)\n",
    "        if idx != -1:\n",
    "            if not isWord or ((prevIdx == -1 or not lcode[prevIdx].isalnum()) and (postIdx >= len(code) or not lcode[postIdx].isalnum())):\n",
    "                show_to_user(code, key, new_data)\n",
    "                return True\n",
    "            \n",
    "    return False"
   ]
  },
  {
   "cell_type": "markdown",
   "id": "19dcd467",
   "metadata": {},
   "source": [
    "### Others"
   ]
  },
  {
   "cell_type": "markdown",
   "id": "0e1e7e10",
   "metadata": {},
   "source": [
    " * `text_from_file` opens given file and returns all its content in string"
   ]
  },
  {
   "cell_type": "code",
   "execution_count": 12,
   "id": "5118c6f5",
   "metadata": {},
   "outputs": [],
   "source": [
    "def text_from_file(path):\n",
    "    with open(path, 'rb') as f:\n",
    "        text = f.read()\n",
    "    return text.decode('UTF-8')"
   ]
  },
  {
   "cell_type": "markdown",
   "id": "c9e41b74",
   "metadata": {},
   "source": [
    " * `class_check` returns `True` if given code fragment (given by code string and index) contains `class` key reegarding all required rules, and `False` otherwise."
   ]
  },
  {
   "cell_type": "code",
   "execution_count": 19,
   "id": "b68e2439",
   "metadata": {},
   "outputs": [],
   "source": [
    "def class_check(code, idx):\n",
    "    keys = [\"class\", \"enum\"]\n",
    "    \n",
    "    prevIdx = idx - 1\n",
    "    \n",
    "    for key in keys:\n",
    "        postIdx = idx + len(key)\n",
    "        if code[idx : postIdx] != key:\n",
    "            continue\n",
    "    \n",
    "        # class keyword has to be rounded by whitespaces\n",
    "        if ((prevIdx == -1 or code[prevIdx].isspace()) and \n",
    "                (postIdx >= len(code) or code[postIdx].isspace())):\n",
    "            return True\n",
    "    \n",
    "    return False"
   ]
  },
  {
   "cell_type": "markdown",
   "id": "037f65df",
   "metadata": {},
   "source": [
    "## Main parsing loop"
   ]
  },
  {
   "cell_type": "markdown",
   "id": "dbaac4e2",
   "metadata": {},
   "source": [
    "The following part tries to spot methods and send its body to the functions, which try to find keywords. If such a word is found, it starts communication with the user."
   ]
  },
  {
   "cell_type": "code",
   "execution_count": 20,
   "id": "ef5629d0",
   "metadata": {
    "scrolled": false
   },
   "outputs": [
    {
     "name": "stdout",
     "output_type": "stream",
     "text": [
      "----------------------------------------\n",
      "Parser found keyword for!\n",
      "\n",
      "List all needed variables in the form:\n",
      "\"varName typeName\"\n",
      "There are only the following variable categories: ['loop_control', 'iterator', 'maybe_loop_control', 'break_loop_control'].\n",
      "You can write either full category name, or only first letter.\n",
      "\n",
      "To end -- press Enter with empty line. To restart -- type \"$r\" + Enter\n",
      "Invalid input would result in force restart.\n",
      "----------------------------------------\n",
      "Code fragment:\n",
      "\n",
      "{\n",
      "        if (totalOutputStreams == 0) {\n",
      "            return 0;\n",
      "        }\n",
      "        for (int i = ((int)totalOutputStreams) - 1; i >= 0; i--) {\n",
      "            if (findBindPairForOutStream(i) < 0) {\n",
      "                return unpackSizes[i];\n",
      "            }\n",
      "        }\n",
      "        return 0;\n",
      "    }\n",
      "----------------------------------------\n"
     ]
    },
    {
     "ename": "KeyboardInterrupt",
     "evalue": "Interrupted by user",
     "output_type": "error",
     "traceback": [
      "\u001b[0;31m---------------------------------------------------------------------------\u001b[0m",
      "\u001b[0;31mKeyboardInterrupt\u001b[0m                         Traceback (most recent call last)",
      "\u001b[0;32m/tmp/ipykernel_23505/3958601693.py\u001b[0m in \u001b[0;36m<module>\u001b[0;34m\u001b[0m\n\u001b[1;32m     73\u001b[0m \u001b[0;34m\u001b[0m\u001b[0m\n\u001b[1;32m     74\u001b[0m             \u001b[0;31m# Main loop part. Trying to find keywords in found method body\u001b[0m\u001b[0;34m\u001b[0m\u001b[0;34m\u001b[0m\u001b[0m\n\u001b[0;32m---> 75\u001b[0;31m             \u001b[0;32mif\u001b[0m \u001b[0mtry_find_keywords\u001b[0m\u001b[0;34m(\u001b[0m\u001b[0mcode\u001b[0m\u001b[0;34m[\u001b[0m\u001b[0mmethod_begin_idx\u001b[0m \u001b[0;34m:\u001b[0m \u001b[0midx\u001b[0m\u001b[0;34m+\u001b[0m\u001b[0;36m1\u001b[0m\u001b[0;34m]\u001b[0m\u001b[0;34m,\u001b[0m \u001b[0mnew_data\u001b[0m\u001b[0;34m)\u001b[0m\u001b[0;34m:\u001b[0m\u001b[0;34m\u001b[0m\u001b[0;34m\u001b[0m\u001b[0m\n\u001b[0m\u001b[1;32m     76\u001b[0m                 \u001b[0mif_variable_added\u001b[0m \u001b[0;34m=\u001b[0m \u001b[0;32mTrue\u001b[0m\u001b[0;34m\u001b[0m\u001b[0;34m\u001b[0m\u001b[0m\n\u001b[1;32m     77\u001b[0m             \u001b[0mmethod_begin_idx\u001b[0m \u001b[0;34m=\u001b[0m \u001b[0;36m0\u001b[0m\u001b[0;34m\u001b[0m\u001b[0;34m\u001b[0m\u001b[0m\n",
      "\u001b[0;32m/tmp/ipykernel_23505/165264085.py\u001b[0m in \u001b[0;36mtry_find_keywords\u001b[0;34m(code, new_data)\u001b[0m\n\u001b[1;32m     20\u001b[0m         \u001b[0;32mfor\u001b[0m \u001b[0;34m(\u001b[0m\u001b[0mkey\u001b[0m\u001b[0;34m,\u001b[0m \u001b[0misWord\u001b[0m\u001b[0;34m)\u001b[0m \u001b[0;32min\u001b[0m \u001b[0msearch_keywords\u001b[0m\u001b[0;34m:\u001b[0m\u001b[0;34m\u001b[0m\u001b[0;34m\u001b[0m\u001b[0m\n\u001b[1;32m     21\u001b[0m             \u001b[0;32mif\u001b[0m \u001b[0mcheck\u001b[0m\u001b[0;34m(\u001b[0m\u001b[0mlcode\u001b[0m\u001b[0;34m,\u001b[0m \u001b[0mcur_idx\u001b[0m\u001b[0;34m,\u001b[0m \u001b[0mkey\u001b[0m\u001b[0;34m,\u001b[0m \u001b[0misWord\u001b[0m\u001b[0;34m)\u001b[0m\u001b[0;34m:\u001b[0m\u001b[0;34m\u001b[0m\u001b[0;34m\u001b[0m\u001b[0m\n\u001b[0;32m---> 22\u001b[0;31m                 \u001b[0mshow_to_user\u001b[0m\u001b[0;34m(\u001b[0m\u001b[0mcode\u001b[0m\u001b[0;34m,\u001b[0m \u001b[0mkey\u001b[0m\u001b[0;34m,\u001b[0m \u001b[0mnew_data\u001b[0m\u001b[0;34m)\u001b[0m\u001b[0;34m\u001b[0m\u001b[0;34m\u001b[0m\u001b[0m\n\u001b[0m\u001b[1;32m     23\u001b[0m \u001b[0;34m\u001b[0m\u001b[0m\n\u001b[1;32m     24\u001b[0m                 \u001b[0;32mreturn\u001b[0m \u001b[0;32mTrue\u001b[0m\u001b[0;34m\u001b[0m\u001b[0;34m\u001b[0m\u001b[0m\n",
      "\u001b[0;32m/tmp/ipykernel_23505/3669348690.py\u001b[0m in \u001b[0;36mshow_to_user\u001b[0;34m(code_fragment, keyword_found, new_data)\u001b[0m\n\u001b[1;32m     28\u001b[0m         \u001b[0mcategories\u001b[0m \u001b[0;34m=\u001b[0m \u001b[0mlist\u001b[0m\u001b[0;34m(\u001b[0m\u001b[0;34m)\u001b[0m\u001b[0;34m\u001b[0m\u001b[0;34m\u001b[0m\u001b[0m\n\u001b[1;32m     29\u001b[0m \u001b[0;34m\u001b[0m\u001b[0m\n\u001b[0;32m---> 30\u001b[0;31m         \u001b[0mline\u001b[0m \u001b[0;34m=\u001b[0m \u001b[0minput\u001b[0m\u001b[0;34m(\u001b[0m\u001b[0;34m)\u001b[0m\u001b[0;34m\u001b[0m\u001b[0;34m\u001b[0m\u001b[0m\n\u001b[0m\u001b[1;32m     31\u001b[0m         \u001b[0;32mwhile\u001b[0m \u001b[0mline\u001b[0m \u001b[0;34m!=\u001b[0m \u001b[0;34m''\u001b[0m \u001b[0;32mand\u001b[0m \u001b[0mline\u001b[0m\u001b[0;34m.\u001b[0m\u001b[0mfind\u001b[0m\u001b[0;34m(\u001b[0m\u001b[0;34m'$r'\u001b[0m\u001b[0;34m)\u001b[0m \u001b[0;34m==\u001b[0m \u001b[0;34m-\u001b[0m\u001b[0;36m1\u001b[0m\u001b[0;34m:\u001b[0m\u001b[0;34m\u001b[0m\u001b[0;34m\u001b[0m\u001b[0m\n\u001b[1;32m     32\u001b[0m             \u001b[0;31m# Words should be a list of two elements: variable name and its type\u001b[0m\u001b[0;34m\u001b[0m\u001b[0;34m\u001b[0m\u001b[0m\n",
      "\u001b[0;32m~/miniconda3/envs/neural_networks/lib/python3.9/site-packages/ipykernel/kernelbase.py\u001b[0m in \u001b[0;36mraw_input\u001b[0;34m(self, prompt)\u001b[0m\n\u001b[1;32m   1004\u001b[0m                 \u001b[0;34m\"raw_input was called, but this frontend does not support input requests.\"\u001b[0m\u001b[0;34m\u001b[0m\u001b[0;34m\u001b[0m\u001b[0m\n\u001b[1;32m   1005\u001b[0m             )\n\u001b[0;32m-> 1006\u001b[0;31m         return self._input_request(\n\u001b[0m\u001b[1;32m   1007\u001b[0m             \u001b[0mstr\u001b[0m\u001b[0;34m(\u001b[0m\u001b[0mprompt\u001b[0m\u001b[0;34m)\u001b[0m\u001b[0;34m,\u001b[0m\u001b[0;34m\u001b[0m\u001b[0;34m\u001b[0m\u001b[0m\n\u001b[1;32m   1008\u001b[0m             \u001b[0mself\u001b[0m\u001b[0;34m.\u001b[0m\u001b[0m_parent_ident\u001b[0m\u001b[0;34m[\u001b[0m\u001b[0;34m\"shell\"\u001b[0m\u001b[0;34m]\u001b[0m\u001b[0;34m,\u001b[0m\u001b[0;34m\u001b[0m\u001b[0;34m\u001b[0m\u001b[0m\n",
      "\u001b[0;32m~/miniconda3/envs/neural_networks/lib/python3.9/site-packages/ipykernel/kernelbase.py\u001b[0m in \u001b[0;36m_input_request\u001b[0;34m(self, prompt, ident, parent, password)\u001b[0m\n\u001b[1;32m   1049\u001b[0m             \u001b[0;32mexcept\u001b[0m \u001b[0mKeyboardInterrupt\u001b[0m\u001b[0;34m:\u001b[0m\u001b[0;34m\u001b[0m\u001b[0;34m\u001b[0m\u001b[0m\n\u001b[1;32m   1050\u001b[0m                 \u001b[0;31m# re-raise KeyboardInterrupt, to truncate traceback\u001b[0m\u001b[0;34m\u001b[0m\u001b[0;34m\u001b[0m\u001b[0m\n\u001b[0;32m-> 1051\u001b[0;31m                 \u001b[0;32mraise\u001b[0m \u001b[0mKeyboardInterrupt\u001b[0m\u001b[0;34m(\u001b[0m\u001b[0;34m\"Interrupted by user\"\u001b[0m\u001b[0;34m)\u001b[0m \u001b[0;32mfrom\u001b[0m \u001b[0;32mNone\u001b[0m\u001b[0;34m\u001b[0m\u001b[0;34m\u001b[0m\u001b[0m\n\u001b[0m\u001b[1;32m   1052\u001b[0m             \u001b[0;32mexcept\u001b[0m \u001b[0mException\u001b[0m\u001b[0;34m:\u001b[0m\u001b[0;34m\u001b[0m\u001b[0;34m\u001b[0m\u001b[0m\n\u001b[1;32m   1053\u001b[0m                 \u001b[0mself\u001b[0m\u001b[0;34m.\u001b[0m\u001b[0mlog\u001b[0m\u001b[0;34m.\u001b[0m\u001b[0mwarning\u001b[0m\u001b[0;34m(\u001b[0m\u001b[0;34m\"Invalid Message:\"\u001b[0m\u001b[0;34m,\u001b[0m \u001b[0mexc_info\u001b[0m\u001b[0;34m=\u001b[0m\u001b[0;32mTrue\u001b[0m\u001b[0;34m)\u001b[0m\u001b[0;34m\u001b[0m\u001b[0;34m\u001b[0m\u001b[0m\n",
      "\u001b[0;31mKeyboardInterrupt\u001b[0m: Interrupted by user"
     ]
    }
   ],
   "source": [
    "for (path, code) in code_samples:\n",
    "    # Check if file was already processed, and adding it to the set otherwise\n",
    "    if path in files_completed:\n",
    "        continue\n",
    "        \n",
    "    # Current index in code\n",
    "    idx = 0\n",
    "    # Unclosed curve brackets\n",
    "    bracket_idx = 0\n",
    "    # Unclosed class bodies\n",
    "    class_bracket_idx = 0\n",
    "    # Index where last method began. If no method currently proceeding, then 0\n",
    "    method_begin_idx = 0\n",
    "    \n",
    "    \n",
    "    if_variable_added = False\n",
    "    if_method_proceeded = False\n",
    "    if_brackets_open = False\n",
    "    if_comment_open = False\n",
    "    if_multiline_comment_open = False\n",
    "         \n",
    "    while idx < len(code):                \n",
    "        # Skipping string litterals and comments\n",
    "        if code[idx] == '\"':\n",
    "            idx += 1\n",
    "            while code[idx] != '\"':\n",
    "                if code[idx] == '\\\\':\n",
    "                    idx += 1\n",
    "                \n",
    "                idx += 1\n",
    "                \n",
    "        if code[idx] == \"'\":\n",
    "            idx += 1\n",
    "            while code[idx] != \"'\":\n",
    "                if code[idx] == '\\\\':\n",
    "                    idx += 1\n",
    "                \n",
    "                idx += 1\n",
    "                \n",
    "        if idx+1 < len(code) and code[idx : idx+2] == '//':\n",
    "            idx = code.find('\\n', idx)\n",
    "        if idx+1 < len(code) and code[idx : idx+2] == '/*':\n",
    "            idx = code.find('*/', idx)\n",
    "        \n",
    "        if idx == -1:\n",
    "            break\n",
    "        \n",
    "        # Counting brackets\n",
    "        if code[idx] == '{':\n",
    "            bracket_idx += 1\n",
    "            \n",
    "        if code[idx] == '}':\n",
    "            bracket_idx -= 1\n",
    "        \n",
    "        # Try to find new class or close opened one\n",
    "        if not if_method_proceeded: \n",
    "            if class_check(code, idx):\n",
    "                idx = code.find('{', idx)\n",
    "                bracket_idx += 1\n",
    "                class_bracket_idx += 1\n",
    "                \n",
    "            elif class_bracket_idx > bracket_idx:\n",
    "                class_bracket_idx -= 1    \n",
    "        # Spot new method beginning   \n",
    "        if code[idx] == '{' and bracket_idx == class_bracket_idx+1 and not if_method_proceeded:\n",
    "            method_begin_idx = idx\n",
    "            if_method_proceeded = True\n",
    "        \n",
    "        # Spot method closing\n",
    "        if code[idx] == '}' and bracket_idx == class_bracket_idx and if_method_proceeded:\n",
    "            if method_begin_idx == 0:\n",
    "                raise Error(f\"Slicing error in file {file}!\")    \n",
    "            \n",
    "            # Main loop part. Trying to find keywords in found method body\n",
    "            if try_find_keywords(code[method_begin_idx : idx+1], new_data):\n",
    "                if_variable_added = True\n",
    "            method_begin_idx = 0\n",
    "                \n",
    "            if_method_proceeded = not if_method_proceeded\n",
    "        \n",
    "        # Each loop iteration, index increases\n",
    "        idx += 1\n",
    "\n",
    "    if bracket_idx != 0:\n",
    "        raise NameError(f'Bracket error in file {path}!')\n",
    "\n",
    "    if if_variable_added:\n",
    "        print(f'You have finished {path}.')\n",
    "    files_completed.add(path)\n",
    "    \n",
    "    \n",
    "IPython.display.clear_output()\n",
    "print('All repos were parced!')        "
   ]
  },
  {
   "cell_type": "markdown",
   "id": "8f993adf",
   "metadata": {},
   "source": [
    "## Saving progress"
   ]
  },
  {
   "cell_type": "markdown",
   "id": "c2d3dc31",
   "metadata": {},
   "source": [
    "Showing progress and saving all progress inside dataframe. Also cleaning up the new_data, so that it's possible to proceed with main parsing loop"
   ]
  },
  {
   "cell_type": "code",
   "execution_count": 28,
   "id": "6643c7c9",
   "metadata": {},
   "outputs": [
    {
     "name": "stdout",
     "output_type": "stream",
     "text": [
      "Amount of examples was 2903\n",
      "Amount of examples now 2903\n"
     ]
    }
   ],
   "source": [
    "print(f'Amount of examples was {len(dataset)}')\n",
    "dataset = pd.concat([dataset, pd.DataFrame(new_data)], axis = 0, ignore_index = True)\n",
    "print(f'Amount of examples now {len(dataset)}')\n",
    "\n",
    "new_data = {col: [] for col in columns_list}"
   ]
  },
  {
   "cell_type": "markdown",
   "id": "d356c6d3",
   "metadata": {},
   "source": [
    "Saving all the changes into the files"
   ]
  },
  {
   "cell_type": "code",
   "execution_count": 25,
   "id": "90ecde47",
   "metadata": {},
   "outputs": [],
   "source": [
    "with open(files_progress_name, 'w') as f:\n",
    "    f.write(dir_sep.join(files_completed))\n",
    "dataset.to_csv(dataset_name, index = False)"
   ]
  },
  {
   "cell_type": "markdown",
   "id": "69871577",
   "metadata": {},
   "source": [
    "Checking if file updated"
   ]
  },
  {
   "cell_type": "code",
   "execution_count": 26,
   "id": "2102aa46",
   "metadata": {
    "scrolled": true
   },
   "outputs": [
    {
     "name": "stdout",
     "output_type": "stream",
     "text": [
      "<class 'pandas.core.frame.DataFrame'>\n",
      "RangeIndex: 2903 entries, 0 to 2902\n",
      "Data columns (total 3 columns):\n",
      " #   Column    Non-Null Count  Dtype \n",
      "---  ------    --------------  ----- \n",
      " 0   Name      2903 non-null   object\n",
      " 1   Code      2903 non-null   object\n",
      " 2   Category  2903 non-null   object\n",
      "dtypes: object(3)\n",
      "memory usage: 68.2+ KB\n"
     ]
    }
   ],
   "source": [
    "# Use for checking purposes\n",
    "try:\n",
    "    dataset = pd.read_csv(dataset_name)\n",
    "except Exception: \n",
    "    dataset = pd.DataFrame(columns = columns_list)\n",
    "\n",
    "dataset.info()"
   ]
  },
  {
   "cell_type": "code",
   "execution_count": 27,
   "id": "b24b1690",
   "metadata": {},
   "outputs": [
    {
     "name": "stdout",
     "output_type": "stream",
     "text": [
      "loop_control          1474\n",
      "iterator              1055\n",
      "maybe_loop_control     225\n",
      "break_loop_control     149\n",
      "Name: Category, dtype: int64\n"
     ]
    }
   ],
   "source": [
    "print(dataset['Category'].value_counts())"
   ]
  },
  {
   "cell_type": "markdown",
   "id": "238d8b76",
   "metadata": {},
   "source": [
    "## Error handling\n"
   ]
  },
  {
   "cell_type": "code",
   "execution_count": 24,
   "id": "6c2cc198",
   "metadata": {},
   "outputs": [
    {
     "ename": "AssertionError",
     "evalue": "Do not run this part with \"Run all\"!",
     "output_type": "error",
     "traceback": [
      "\u001b[0;31m---------------------------------------------------------------------------\u001b[0m",
      "\u001b[0;31mAssertionError\u001b[0m                            Traceback (most recent call last)",
      "\u001b[0;32m/tmp/ipykernel_23505/2249369238.py\u001b[0m in \u001b[0;36m<module>\u001b[0;34m\u001b[0m\n\u001b[0;32m----> 1\u001b[0;31m \u001b[0;32massert\u001b[0m \u001b[0;32mFalse\u001b[0m\u001b[0;34m,\u001b[0m \u001b[0;34m'Do not run this part with \"Run all\"!'\u001b[0m\u001b[0;34m\u001b[0m\u001b[0;34m\u001b[0m\u001b[0m\n\u001b[0m",
      "\u001b[0;31mAssertionError\u001b[0m: Do not run this part with \"Run all\"!"
     ]
    }
   ],
   "source": [
    "assert False, 'Do not run this part with \"Run all\"!'"
   ]
  },
  {
   "cell_type": "markdown",
   "id": "c0188002",
   "metadata": {},
   "source": [
    "These section is for dealing with errors. \n",
    "In the following cell, write the path to the file. "
   ]
  },
  {
   "cell_type": "code",
   "execution_count": 21,
   "id": "227ff43a",
   "metadata": {},
   "outputs": [],
   "source": [
    "err_file_name = './reps/Arduino/arduino-core/src/processing/app/helpers/PreferencesHelper.java' "
   ]
  },
  {
   "cell_type": "markdown",
   "id": "77963334",
   "metadata": {},
   "source": [
    "Finding code inside this file"
   ]
  },
  {
   "cell_type": "code",
   "execution_count": 22,
   "id": "92d84562",
   "metadata": {},
   "outputs": [
    {
     "name": "stdout",
     "output_type": "stream",
     "text": [
      "package processing.app.helpers;\n",
      "\n",
      "import java.awt.Color;\n",
      "import java.awt.Font;\n",
      "\n",
      "public abstract class PreferencesHelper {\n",
      "\n",
      "//  /**\n",
      "//   * Create a Color with the value of the specified key. The format of the color\n",
      "//   * should be an hexadecimal number of 6 digit, eventually prefixed with a '#'.\n",
      "//   * \n",
      "//   * @param name\n",
      "//   * @return A Color object or <b>null</b> if the key is not found or the format\n",
      "//   *         is wrong\n",
      "//   */\n",
      "//  static public Color getColor(PreferencesMap prefs, String name) {\n",
      "//    Color parsed = parseColor(prefs.get(name));\n",
      "//    if (parsed != null)\n",
      "//      return parsed;\n",
      "//    return Color.GRAY; // set a default\n",
      "//  }\n",
      "//\n",
      "//\n",
      "//  static public void setColor(PreferencesMap prefs, String attr, Color what) {\n",
      "//    putColor(prefs, attr, what);\n",
      "//  }\n",
      "//\n",
      "//\n",
      "//  static public Font getFontWithDefault(PreferencesMap prefs, PreferencesMap defaults, String attr) {\n",
      "//    Font font = getFont(prefs, attr);\n",
      "//    if (font == null) {\n",
      "//      String value = defaults.get(attr);\n",
      "//      prefs.put(attr, value);\n",
      "//      font = getFont(prefs, attr);\n",
      "//    }\n",
      "//    return font;\n",
      "//  }\n",
      "//\n",
      "//  static public SyntaxStyle getStyle(PreferencesMap prefs, String what) {\n",
      "//    String str = prefs.get(\"editor.\" + what + \".style\");\n",
      "//\n",
      "//    StringTokenizer st = new StringTokenizer(str, \",\");\n",
      "//\n",
      "//    String s = st.nextToken();\n",
      "//    if (s.indexOf(\"#\") == 0) s = s.substring(1);\n",
      "//    Color color = Color.DARK_GRAY;\n",
      "//    try {\n",
      "//      color = new Color(Integer.parseInt(s, 16));\n",
      "//    } catch (Exception e) { }\n",
      "//\n",
      "//    s = st.nextToken();\n",
      "//    boolean bold = (s.indexOf(\"bold\") != -1);\n",
      "//    boolean italic = (s.indexOf(\"italic\") != -1);\n",
      "//    boolean underlined = (s.indexOf(\"underlined\") != -1);\n",
      "//\n",
      "//    return new SyntaxStyle(color, italic, bold, underlined);\n",
      "//  }\n",
      "\n",
      "  /**\n",
      "   * Set the value of the specified key based on the Color passed as parameter.\n",
      "   * \n",
      "   * @param attr\n",
      "   * @param color\n",
      "   */\n",
      "  public static void putColor(PreferencesMap prefs, String attr, Color color) {\n",
      "    prefs.put(attr, \"#\" + String.format(\"%06x\", color.getRGB() & 0xffffff));\n",
      "  }\n",
      "\n",
      "  public static Color parseColor(String v) {\n",
      "    try {\n",
      "      if (v.indexOf(\"#\") == 0)\n",
      "        v = v.substring(1);\n",
      "      return new Color(Integer.parseInt(v, 16));\n",
      "    } catch (Exception e) {\n",
      "      return null;\n",
      "    }\n",
      "  }\n",
      "\n",
      "  public static Font getFont(PreferencesMap prefs, String key) {\n",
      "    String value = prefs.get(key);\n",
      "    if (value == null)\n",
      "      return null;\n",
      "    String[] split = value.split(\",\");\n",
      "    if (split.length != 3)\n",
      "      return null;\n",
      "\n",
      "    String name = split[0];\n",
      "    int style = Font.PLAIN;\n",
      "    if (split[1].contains(\"bold\"))\n",
      "      style |= Font.BOLD;\n",
      "    if (split[1].contains(\"italic\"))\n",
      "      style |= Font.ITALIC;\n",
      "    int size;\n",
      "    try {\n",
      "      // ParseDouble handle numbers with decimals too\n",
      "      size = (int) Double.parseDouble(split[2]);\n",
      "      if (size < 1) // Do not allow negative or zero size\n",
      "        throw new NumberFormatException();\n",
      "    } catch (NumberFormatException e) {\n",
      "      // for wrong formatted size pick the default\n",
      "      size = 12;\n",
      "    }\n",
      "    return new Font(name, style, size);\n",
      "  }\n",
      "}\n",
      "\n"
     ]
    }
   ],
   "source": [
    "err_code = \"\"\n",
    "for (name, code) in code_samples:\n",
    "    if name == err_file_name:\n",
    "        err_code = code\n",
    "print(err_code)"
   ]
  },
  {
   "cell_type": "markdown",
   "id": "4c3dab62",
   "metadata": {},
   "source": [
    "After fixing the code, save this path in separate file"
   ]
  },
  {
   "cell_type": "code",
   "execution_count": 23,
   "id": "642185b2",
   "metadata": {},
   "outputs": [],
   "source": [
    "name = \"error_pathes\"\n",
    "with open(\"file_progress.txt\", 'a') as f:\n",
    "    f.write(dir_sep + name)"
   ]
  }
 ],
 "metadata": {
  "kernelspec": {
   "display_name": "Python 3 (ipykernel)",
   "language": "python",
   "name": "python3"
  },
  "language_info": {
   "codemirror_mode": {
    "name": "ipython",
    "version": 3
   },
   "file_extension": ".py",
   "mimetype": "text/x-python",
   "name": "python",
   "nbconvert_exporter": "python",
   "pygments_lexer": "ipython3",
   "version": "3.9.7"
  }
 },
 "nbformat": 4,
 "nbformat_minor": 5
}
