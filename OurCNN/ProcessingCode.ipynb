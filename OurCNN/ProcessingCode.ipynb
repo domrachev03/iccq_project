{
 "cells": [
  {
   "cell_type": "markdown",
   "metadata": {},
   "source": [
    "## Preprocessing\n",
    "\n",
    "From binary files to uniform and same sized .input files."
   ]
  },
  {
   "cell_type": "code",
   "execution_count": 1,
   "metadata": {},
   "outputs": [],
   "source": [
    "import pandas as pd\n",
    "import numpy as np\n",
    "import sys"
   ]
  },
  {
   "cell_type": "code",
   "execution_count": 2,
   "metadata": {},
   "outputs": [],
   "source": [
    "df = pd.read_csv('parser_dataset.csv')"
   ]
  },
  {
   "cell_type": "code",
   "execution_count": 3,
   "metadata": {},
   "outputs": [
    {
     "data": {
      "text/html": [
       "<div>\n",
       "<style scoped>\n",
       "    .dataframe tbody tr th:only-of-type {\n",
       "        vertical-align: middle;\n",
       "    }\n",
       "\n",
       "    .dataframe tbody tr th {\n",
       "        vertical-align: top;\n",
       "    }\n",
       "\n",
       "    .dataframe thead th {\n",
       "        text-align: right;\n",
       "    }\n",
       "</style>\n",
       "<table border=\"1\" class=\"dataframe\">\n",
       "  <thead>\n",
       "    <tr style=\"text-align: right;\">\n",
       "      <th></th>\n",
       "      <th>Name</th>\n",
       "      <th>Code</th>\n",
       "      <th>Category</th>\n",
       "    </tr>\n",
       "  </thead>\n",
       "  <tbody>\n",
       "    <tr>\n",
       "      <th>0</th>\n",
       "      <td>i</td>\n",
       "      <td>{\\n        ArrayList&lt;Room&gt; hotelRooms = new Ar...</td>\n",
       "      <td>loop_control</td>\n",
       "    </tr>\n",
       "    <tr>\n",
       "      <th>1</th>\n",
       "      <td>updatedW</td>\n",
       "      <td>{\\n        staff = staff.stream().map(w -&gt; {\\n...</td>\n",
       "      <td>iterator</td>\n",
       "    </tr>\n",
       "    <tr>\n",
       "      <th>2</th>\n",
       "      <td>deletedW</td>\n",
       "      <td>{\\n        staff = staff.stream().filter(w -&gt; ...</td>\n",
       "      <td>iterator</td>\n",
       "    </tr>\n",
       "    <tr>\n",
       "      <th>3</th>\n",
       "      <td>currentStaff</td>\n",
       "      <td>{\\n        staff.addAll(Arrays.stream(createdS...</td>\n",
       "      <td>iterator</td>\n",
       "    </tr>\n",
       "    <tr>\n",
       "      <th>4</th>\n",
       "      <td>updatedW</td>\n",
       "      <td>{\\n        rooms = rooms.stream().map(w -&gt; {\\n...</td>\n",
       "      <td>iterator</td>\n",
       "    </tr>\n",
       "  </tbody>\n",
       "</table>\n",
       "</div>"
      ],
      "text/plain": [
       "           Name                                               Code  \\\n",
       "0             i  {\\n        ArrayList<Room> hotelRooms = new Ar...   \n",
       "1      updatedW  {\\n        staff = staff.stream().map(w -> {\\n...   \n",
       "2      deletedW  {\\n        staff = staff.stream().filter(w -> ...   \n",
       "3  currentStaff  {\\n        staff.addAll(Arrays.stream(createdS...   \n",
       "4      updatedW  {\\n        rooms = rooms.stream().map(w -> {\\n...   \n",
       "\n",
       "       Category  \n",
       "0  loop_control  \n",
       "1      iterator  \n",
       "2      iterator  \n",
       "3      iterator  \n",
       "4      iterator  "
      ]
     },
     "execution_count": 3,
     "metadata": {},
     "output_type": "execute_result"
    }
   ],
   "source": [
    "df.head()"
   ]
  },
  {
   "cell_type": "code",
   "execution_count": 4,
   "metadata": {},
   "outputs": [],
   "source": [
    "max_character_encoding = 130 # it should be 126, but maybe there are characters that I didn't see in the training se\n",
    "\n",
    "def convert_str_to_array(text):\n",
    "    content_numbers = np.zeros(len(text))\n",
    "    for i in range(len(text)):\n",
    "            # print(ord(str_text[i]) / max_character_encoding)\n",
    "            content_numbers[i] = ord(text[i]) / max_character_encoding\n",
    "    return content_numbers\n",
    "\n",
    "def concatenate(x):\n",
    "    x['Code'] = x['Name'] + '\\n' + x['Code']\n",
    "    return x\n",
    "\n",
    "def remove_spaces(x):\n",
    "    return \"\".join(x.split())\n",
    "\n",
    "def squaring(x, max_len):\n",
    "    import math\n",
    "    \n",
    "    height = int( math.sqrt( int(  max_len / 3 ) ) )\n",
    "    width = height\n",
    "    total_size = height * width * 3\n",
    "\n",
    "    return np.pad(x, (0, total_size - len(x)), 'constant')\n",
    "\n",
    "def substitute_var_name(x):\n",
    "    VAR_NAME = \"$VAR$\"\n",
    "    \n",
    "    name = x['Name']\n",
    "    code = x['Code']\n",
    "    \n",
    "    idx = code.find(name)\n",
    "    \n",
    "    while idx != -1 :\n",
    "        prevIdx = idx - 1\n",
    "        postIdx = idx + len(name)\n",
    "        if (prevIdx == -1 or not code[prevIdx].isalnum()) and (postIdx >= len(code) or not code[postIdx].isalnum()):\n",
    "            code = code[:idx] + VAR_NAME + code[postIdx:]        \n",
    "        idx = code.find(name, idx + 1)\n",
    "        \n",
    "    x['Code'] = code\n",
    "    return x"
   ]
  },
  {
   "cell_type": "code",
   "execution_count": 5,
   "metadata": {},
   "outputs": [
    {
     "name": "stdout",
     "output_type": "stream",
     "text": [
      "i\n",
      "{\n",
      "        ArrayList<Room> hotelRooms = new ArrayList<>();\n",
      "        for (int i = 0; i < 15; i++) {\n",
      "            hotelRooms.add(new HostelRoom(new StandardRoom(i + 1, 2, RoomType.ECONOMY)));\n",
      "        }\n",
      "        for (int i = 0; i < 15; i++) {\n",
      "            hotelRooms.add(new ExpandableRoom(new StandardRoom(i + 16, 3, RoomType.LUX)));\n",
      "        }\n",
      "        Hotel hotel = new Hotel(hotelRooms);\n",
      "        RoomManager roomManager = new RoomManager();\n",
      "        StaffManager staffManager = new StaffManager();\n",
      "        Human client1 = new Human(\"Kopeikina\", \"Anna\");\n",
      "        Human client2 = new Human(\"Tyulebaeva\", \"Karina\");\n",
      "        Human client3 = new Human(\"Domrachev\", \"Ivan\");\n",
      "\n",
      "        Human slave1 = new Human(\"Alentev\", \"Igor\");\n",
      "\n",
      "        Human slave2 = new Human(\"Asatullaev\", \"Maruf\");\n",
      "\n",
      "        staffManager.hireStaff(hotel, new PlumberCreator().createStaff(slave1, StaffType.IRREGULAR));\n",
      "        staffManager.hireStaff(hotel, new SecurityGuardCreator().createStaff(slave2, StaffType.IRREGULAR));\n",
      "        for (int i = 0; i < hotel.getStaff().size(); i++) {\n",
      "            System.out.println(hotel.getStaff().get(i).getPersonalInformation().getName());\n",
      "        }\n",
      "        staffManager.makeOrder(Plumber.class, hotel, 2, \"Help, our pump was broken :(\");\n",
      "    }\n"
     ]
    }
   ],
   "source": [
    "df = df.apply(concatenate, axis = 1)\n",
    "print(df['Code'][0])"
   ]
  },
  {
   "cell_type": "code",
   "execution_count": 6,
   "metadata": {
    "scrolled": true
   },
   "outputs": [
    {
     "name": "stdout",
     "output_type": "stream",
     "text": [
      "$VAR$\n",
      "{\n",
      "        ArrayList<Room> hotelRooms = new ArrayList<>();\n",
      "        for (int $VAR$ = 0; $VAR$ < 15; $VAR$++) {\n",
      "            hotelRooms.add(new HostelRoom(new StandardRoom($VAR$ + 1, 2, RoomType.ECONOMY)));\n",
      "        }\n",
      "        for (int $VAR$ = 0; $VAR$ < 15; $VAR$++) {\n",
      "            hotelRooms.add(new ExpandableRoom(new StandardRoom($VAR$ + 16, 3, RoomType.LUX)));\n",
      "        }\n",
      "        Hotel hotel = new Hotel(hotelRooms);\n",
      "        RoomManager roomManager = new RoomManager();\n",
      "        StaffManager staffManager = new StaffManager();\n",
      "        Human client1 = new Human(\"Kopeikina\", \"Anna\");\n",
      "        Human client2 = new Human(\"Tyulebaeva\", \"Karina\");\n",
      "        Human client3 = new Human(\"Domrachev\", \"Ivan\");\n",
      "\n",
      "        Human slave1 = new Human(\"Alentev\", \"Igor\");\n",
      "\n",
      "        Human slave2 = new Human(\"Asatullaev\", \"Maruf\");\n",
      "\n",
      "        staffManager.hireStaff(hotel, new PlumberCreator().createStaff(slave1, StaffType.IRREGULAR));\n",
      "        staffManager.hireStaff(hotel, new SecurityGuardCreator().createStaff(slave2, StaffType.IRREGULAR));\n",
      "        for (int $VAR$ = 0; $VAR$ < hotel.getStaff().size(); $VAR$++) {\n",
      "            System.out.println(hotel.getStaff().get($VAR$).getPersonalInformation().getName());\n",
      "        }\n",
      "        staffManager.makeOrder(Plumber.class, hotel, 2, \"Help, our pump was broken :(\");\n",
      "    }\n"
     ]
    }
   ],
   "source": [
    "df = df.apply(substitute_var_name, axis = 1)\n",
    "print(df['Code'][0])"
   ]
  },
  {
   "cell_type": "code",
   "execution_count": 7,
   "metadata": {},
   "outputs": [
    {
     "data": {
      "text/html": [
       "<div>\n",
       "<style scoped>\n",
       "    .dataframe tbody tr th:only-of-type {\n",
       "        vertical-align: middle;\n",
       "    }\n",
       "\n",
       "    .dataframe tbody tr th {\n",
       "        vertical-align: top;\n",
       "    }\n",
       "\n",
       "    .dataframe thead th {\n",
       "        text-align: right;\n",
       "    }\n",
       "</style>\n",
       "<table border=\"1\" class=\"dataframe\">\n",
       "  <thead>\n",
       "    <tr style=\"text-align: right;\">\n",
       "      <th></th>\n",
       "      <th>Name</th>\n",
       "      <th>Code</th>\n",
       "      <th>Category</th>\n",
       "    </tr>\n",
       "  </thead>\n",
       "  <tbody>\n",
       "    <tr>\n",
       "      <th>0</th>\n",
       "      <td>i</td>\n",
       "      <td>$VAR${ArrayList&lt;Room&gt;hotelRooms=newArrayList&lt;&gt;...</td>\n",
       "      <td>loop_control</td>\n",
       "    </tr>\n",
       "    <tr>\n",
       "      <th>1</th>\n",
       "      <td>updatedW</td>\n",
       "      <td>$VAR${staff=staff.stream().map(w-&gt;{for(Staff$V...</td>\n",
       "      <td>iterator</td>\n",
       "    </tr>\n",
       "    <tr>\n",
       "      <th>2</th>\n",
       "      <td>deletedW</td>\n",
       "      <td>$VAR${staff=staff.stream().filter(w-&gt;{for(Staf...</td>\n",
       "      <td>iterator</td>\n",
       "    </tr>\n",
       "    <tr>\n",
       "      <th>3</th>\n",
       "      <td>currentStaff</td>\n",
       "      <td>$VAR${staff.addAll(Arrays.stream(createdStaff)...</td>\n",
       "      <td>iterator</td>\n",
       "    </tr>\n",
       "    <tr>\n",
       "      <th>4</th>\n",
       "      <td>updatedW</td>\n",
       "      <td>$VAR${rooms=rooms.stream().map(w-&gt;{for(Room$VA...</td>\n",
       "      <td>iterator</td>\n",
       "    </tr>\n",
       "  </tbody>\n",
       "</table>\n",
       "</div>"
      ],
      "text/plain": [
       "           Name                                               Code  \\\n",
       "0             i  $VAR${ArrayList<Room>hotelRooms=newArrayList<>...   \n",
       "1      updatedW  $VAR${staff=staff.stream().map(w->{for(Staff$V...   \n",
       "2      deletedW  $VAR${staff=staff.stream().filter(w->{for(Staf...   \n",
       "3  currentStaff  $VAR${staff.addAll(Arrays.stream(createdStaff)...   \n",
       "4      updatedW  $VAR${rooms=rooms.stream().map(w->{for(Room$VA...   \n",
       "\n",
       "       Category  \n",
       "0  loop_control  \n",
       "1      iterator  \n",
       "2      iterator  \n",
       "3      iterator  \n",
       "4      iterator  "
      ]
     },
     "execution_count": 7,
     "metadata": {},
     "output_type": "execute_result"
    }
   ],
   "source": [
    "df['Code'] = df['Code'].apply(remove_spaces)\n",
    "df.head()"
   ]
  },
  {
   "cell_type": "code",
   "execution_count": 8,
   "metadata": {},
   "outputs": [
    {
     "data": {
      "text/html": [
       "<div>\n",
       "<style scoped>\n",
       "    .dataframe tbody tr th:only-of-type {\n",
       "        vertical-align: middle;\n",
       "    }\n",
       "\n",
       "    .dataframe tbody tr th {\n",
       "        vertical-align: top;\n",
       "    }\n",
       "\n",
       "    .dataframe thead th {\n",
       "        text-align: right;\n",
       "    }\n",
       "</style>\n",
       "<table border=\"1\" class=\"dataframe\">\n",
       "  <thead>\n",
       "    <tr style=\"text-align: right;\">\n",
       "      <th></th>\n",
       "      <th>Name</th>\n",
       "      <th>Code</th>\n",
       "      <th>Category</th>\n",
       "    </tr>\n",
       "  </thead>\n",
       "  <tbody>\n",
       "    <tr>\n",
       "      <th>0</th>\n",
       "      <td>i</td>\n",
       "      <td>[0.27692307692307694, 0.6615384615384615, 0.5,...</td>\n",
       "      <td>loop_control</td>\n",
       "    </tr>\n",
       "    <tr>\n",
       "      <th>1</th>\n",
       "      <td>updatedW</td>\n",
       "      <td>[0.27692307692307694, 0.6615384615384615, 0.5,...</td>\n",
       "      <td>iterator</td>\n",
       "    </tr>\n",
       "    <tr>\n",
       "      <th>2</th>\n",
       "      <td>deletedW</td>\n",
       "      <td>[0.27692307692307694, 0.6615384615384615, 0.5,...</td>\n",
       "      <td>iterator</td>\n",
       "    </tr>\n",
       "    <tr>\n",
       "      <th>3</th>\n",
       "      <td>currentStaff</td>\n",
       "      <td>[0.27692307692307694, 0.6615384615384615, 0.5,...</td>\n",
       "      <td>iterator</td>\n",
       "    </tr>\n",
       "    <tr>\n",
       "      <th>4</th>\n",
       "      <td>updatedW</td>\n",
       "      <td>[0.27692307692307694, 0.6615384615384615, 0.5,...</td>\n",
       "      <td>iterator</td>\n",
       "    </tr>\n",
       "  </tbody>\n",
       "</table>\n",
       "</div>"
      ],
      "text/plain": [
       "           Name                                               Code  \\\n",
       "0             i  [0.27692307692307694, 0.6615384615384615, 0.5,...   \n",
       "1      updatedW  [0.27692307692307694, 0.6615384615384615, 0.5,...   \n",
       "2      deletedW  [0.27692307692307694, 0.6615384615384615, 0.5,...   \n",
       "3  currentStaff  [0.27692307692307694, 0.6615384615384615, 0.5,...   \n",
       "4      updatedW  [0.27692307692307694, 0.6615384615384615, 0.5,...   \n",
       "\n",
       "       Category  \n",
       "0  loop_control  \n",
       "1      iterator  \n",
       "2      iterator  \n",
       "3      iterator  \n",
       "4      iterator  "
      ]
     },
     "execution_count": 8,
     "metadata": {},
     "output_type": "execute_result"
    }
   ],
   "source": [
    "df['Code'] = df['Code'].apply(convert_str_to_array)\n",
    "df.head()"
   ]
  },
  {
   "cell_type": "code",
   "execution_count": 9,
   "metadata": {},
   "outputs": [
    {
     "data": {
      "text/html": [
       "<div>\n",
       "<style scoped>\n",
       "    .dataframe tbody tr th:only-of-type {\n",
       "        vertical-align: middle;\n",
       "    }\n",
       "\n",
       "    .dataframe tbody tr th {\n",
       "        vertical-align: top;\n",
       "    }\n",
       "\n",
       "    .dataframe thead th {\n",
       "        text-align: right;\n",
       "    }\n",
       "</style>\n",
       "<table border=\"1\" class=\"dataframe\">\n",
       "  <thead>\n",
       "    <tr style=\"text-align: right;\">\n",
       "      <th></th>\n",
       "      <th>Name</th>\n",
       "      <th>Code</th>\n",
       "      <th>Category</th>\n",
       "      <th>Length</th>\n",
       "    </tr>\n",
       "  </thead>\n",
       "  <tbody>\n",
       "    <tr>\n",
       "      <th>0</th>\n",
       "      <td>i</td>\n",
       "      <td>[0.27692307692307694, 0.6615384615384615, 0.5,...</td>\n",
       "      <td>loop_control</td>\n",
       "      <td>991</td>\n",
       "    </tr>\n",
       "    <tr>\n",
       "      <th>1</th>\n",
       "      <td>updatedW</td>\n",
       "      <td>[0.27692307692307694, 0.6615384615384615, 0.5,...</td>\n",
       "      <td>iterator</td>\n",
       "      <td>218</td>\n",
       "    </tr>\n",
       "    <tr>\n",
       "      <th>2</th>\n",
       "      <td>deletedW</td>\n",
       "      <td>[0.27692307692307694, 0.6615384615384615, 0.5,...</td>\n",
       "      <td>iterator</td>\n",
       "      <td>224</td>\n",
       "    </tr>\n",
       "    <tr>\n",
       "      <th>3</th>\n",
       "      <td>currentStaff</td>\n",
       "      <td>[0.27692307692307694, 0.6615384615384615, 0.5,...</td>\n",
       "      <td>iterator</td>\n",
       "      <td>238</td>\n",
       "    </tr>\n",
       "    <tr>\n",
       "      <th>4</th>\n",
       "      <td>updatedW</td>\n",
       "      <td>[0.27692307692307694, 0.6615384615384615, 0.5,...</td>\n",
       "      <td>iterator</td>\n",
       "      <td>175</td>\n",
       "    </tr>\n",
       "  </tbody>\n",
       "</table>\n",
       "</div>"
      ],
      "text/plain": [
       "           Name                                               Code  \\\n",
       "0             i  [0.27692307692307694, 0.6615384615384615, 0.5,...   \n",
       "1      updatedW  [0.27692307692307694, 0.6615384615384615, 0.5,...   \n",
       "2      deletedW  [0.27692307692307694, 0.6615384615384615, 0.5,...   \n",
       "3  currentStaff  [0.27692307692307694, 0.6615384615384615, 0.5,...   \n",
       "4      updatedW  [0.27692307692307694, 0.6615384615384615, 0.5,...   \n",
       "\n",
       "       Category  Length  \n",
       "0  loop_control     991  \n",
       "1      iterator     218  \n",
       "2      iterator     224  \n",
       "3      iterator     238  \n",
       "4      iterator     175  "
      ]
     },
     "execution_count": 9,
     "metadata": {},
     "output_type": "execute_result"
    }
   ],
   "source": [
    "df['Length'] = df['Code'].apply(len)\n",
    "df.head()"
   ]
  },
  {
   "cell_type": "code",
   "execution_count": 10,
   "metadata": {},
   "outputs": [
    {
     "data": {
      "text/plain": [
       "1967"
      ]
     },
     "execution_count": 10,
     "metadata": {},
     "output_type": "execute_result"
    }
   ],
   "source": [
    "maxlen = df['Length'].max() + 100\n",
    "maxlen"
   ]
  },
  {
   "cell_type": "code",
   "execution_count": 11,
   "metadata": {},
   "outputs": [],
   "source": [
    "df['SquaredCode'] = df['Code'].apply(squaring, args = (maxlen, ))"
   ]
  },
  {
   "cell_type": "code",
   "execution_count": 12,
   "metadata": {},
   "outputs": [],
   "source": [
    "df['Y'] = df['Category'].apply(lambda x: int(x == 'iterator'))"
   ]
  },
  {
   "cell_type": "code",
   "execution_count": 13,
   "metadata": {},
   "outputs": [
    {
     "data": {
      "text/plain": [
       "(array([[0],\n",
       "        [1],\n",
       "        [1],\n",
       "        [1],\n",
       "        [1]]),\n",
       " (748, 1))"
      ]
     },
     "execution_count": 13,
     "metadata": {},
     "output_type": "execute_result"
    }
   ],
   "source": [
    "X = np.array(df['SquaredCode'].tolist())\n",
    "Y = df['Y'].to_numpy()[:, np.newaxis]\n",
    "Y[:5], Y.shape"
   ]
  },
  {
   "cell_type": "markdown",
   "metadata": {},
   "source": [
    "## Using Tensorflow to classify the files"
   ]
  },
  {
   "cell_type": "code",
   "execution_count": 14,
   "metadata": {},
   "outputs": [],
   "source": [
    "import math\n",
    "import numpy as np\n",
    "import matplotlib.pyplot as plt\n",
    "from matplotlib.pyplot import imread\n",
    "import scipy\n",
    "from PIL import Image\n",
    "import pandas as pd\n",
    "import tensorflow as tf\n",
    "import tensorflow.keras.layers as tfl\n",
    "from tensorflow.python.framework import ops\n",
    "\n",
    "%matplotlib inline\n",
    "np.random.seed(1)"
   ]
  },
  {
   "cell_type": "code",
   "execution_count": 15,
   "metadata": {},
   "outputs": [
    {
     "name": "stdout",
     "output_type": "stream",
     "text": [
      "(748, 1875)\n",
      "(748, 1)\n"
     ]
    }
   ],
   "source": [
    "print(X.shape)\n",
    "print(Y.shape)"
   ]
  },
  {
   "cell_type": "code",
   "execution_count": 16,
   "metadata": {},
   "outputs": [
    {
     "data": {
      "image/png": "[encoded data removed]",
      "text/plain": [
       "<Figure size 432x288 with 1 Axes>"
      ]
     },
     "metadata": {
      "needs_background": "light"
     },
     "output_type": "display_data"
    },
    {
     "data": {
      "image/png": "[encoded data removed]",
      "text/plain": [
       "<Figure size 432x288 with 1 Axes>"
      ]
     },
     "metadata": {
      "needs_background": "light"
     },
     "output_type": "display_data"
    },
    {
     "data": {
      "image/png": "[encoded data removed]",
      "text/plain": [
       "<Figure size 432x288 with 1 Axes>"
      ]
     },
     "metadata": {
      "needs_background": "light"
     },
     "output_type": "display_data"
    },
    {
     "data": {
      "image/png": "[encoded data removed]",
      "text/plain": [
       "<Figure size 432x288 with 1 Axes>"
      ]
     },
     "metadata": {
      "needs_background": "light"
     },
     "output_type": "display_data"
    },
    {
     "data": {
      "image/png": "[encoded data removed]",
      "text/plain": [
       "<Figure size 432x288 with 1 Axes>"
      ]
     },
     "metadata": {
      "needs_background": "light"
     },
     "output_type": "display_data"
    },
    {
     "data": {
      "image/png": "[encoded data removed]",
      "text/plain": [
       "<Figure size 432x288 with 1 Axes>"
      ]
     },
     "metadata": {
      "needs_background": "light"
     },
     "output_type": "display_data"
    },
    {
     "data": {
      "image/png": "[encoded data removed]",
      "text/plain": [
       "<Figure size 432x288 with 1 Axes>"
      ]
     },
     "metadata": {
      "needs_background": "light"
     },
     "output_type": "display_data"
    },
    {
     "data": {
      "image/png": "[encoded data removed]",
      "text/plain": [
       "<Figure size 432x288 with 1 Axes>"
      ]
     },
     "metadata": {
      "needs_background": "light"
     },
     "output_type": "display_data"
    },
    {
     "data": {
      "image/png": "[encoded data removed]",
      "text/plain": [
       "<Figure size 432x288 with 1 Axes>"
      ]
     },
     "metadata": {
      "needs_background": "light"
     },
     "output_type": "display_data"
    },
    {
     "data": {
      "image/png": "[encoded data removed]",
      "text/plain": [
       "<Figure size 432x288 with 1 Axes>"
      ]
     },
     "metadata": {
      "needs_background": "light"
     },
     "output_type": "display_data"
    }
   ],
   "source": [
    "def show_compiled_as_image(index):\n",
    "    height = int( math.sqrt( int(  len(df['Code'][index]) / 3 ) ) )\n",
    "    width = height\n",
    "    total_pixels = height * width * 3\n",
    "\n",
    "    #print(\"X[index] = \", len(X[index]))\n",
    "    #print(\"total_pixels = \", total_pixels)\n",
    "\n",
    "    test = X[index,:total_pixels]\n",
    "\n",
    "    test = np.reshape(test, (height, width, 3))\n",
    "\n",
    "    plt.imshow(test) #display sample training image\n",
    "    plt.show()\n",
    "\n",
    "for i in range(10):\n",
    "    show_compiled_as_image(i)"
   ]
  },
  {
   "cell_type": "markdown",
   "metadata": {},
   "source": [
    "Shuffling and breaking in train and test set."
   ]
  },
  {
   "cell_type": "code",
   "execution_count": 22,
   "metadata": {},
   "outputs": [],
   "source": [
    "randomize = np.arange(len(df['Name'].tolist()))\n",
    "np.random.shuffle(randomize)\n",
    "\n",
    "X_shuffled = X[randomize]\n",
    "Y_shuffled = Y[randomize]\n",
    "# names_randomized = np.array(file_names)[randomize]\n",
    "\n",
    "size_train = 250\n",
    "\n",
    "X_train = X_shuffled[:size_train]\n",
    "X_train = np.reshape(X_train, (size_train, 25, 25, 3))\n",
    "\n",
    "X_test  = X_shuffled[size_train:]\n",
    "X_test = np.reshape(X_test, (len(df['Name'].tolist())-size_train, 25, 25, 3))\n",
    "\n",
    "Y_train = Y_shuffled[:size_train]\n",
    "Y_test  = Y_shuffled[size_train:]\n",
    "\n",
    "#print(Y_shuffled)\n",
    "#print(names_randomized)"
   ]
  },
  {
   "cell_type": "markdown",
   "metadata": {},
   "source": [
    "Creating my model."
   ]
  },
  {
   "cell_type": "code",
   "execution_count": 23,
   "metadata": {},
   "outputs": [],
   "source": [
    "def my_model():\n",
    "    \"\"\"\n",
    "    Implements the forward propagation for the binary classification model:\n",
    "    ZEROPAD2D -> CONV2D -> BATCHNORM -> RELU -> MAXPOOL -> FLATTEN -> DENSE\n",
    "    \n",
    "    Arguments:\n",
    "    None\n",
    "\n",
    "    Returns:\n",
    "    model -- TF Keras model (object containing the information for the entire training process) \n",
    "    \"\"\"\n",
    "    model = tf.keras.Sequential([\n",
    "            \n",
    "        ## ZeroPadding2D with padding 3, input shape of height x width x 3\n",
    "        tfl.ZeroPadding2D(padding=3,input_shape=(25, 25, 3)) ,\n",
    "        \n",
    "        ## Conv2D with 32 7x7 filters and stride of 1\n",
    "        tfl.Conv2D(filters=32, kernel_size=7, strides=1) ,\n",
    "        \n",
    "        ## BatchNormalization for axis 3\n",
    "        tfl.BatchNormalization(axis=3) ,\n",
    "        \n",
    "        ## ReLU\n",
    "        tfl.ReLU(),\n",
    "        \n",
    "        ## Max Pooling 2D with default parameters\n",
    "        tfl.MaxPooling2D(),\n",
    "        \n",
    "        ## Flatten layer\n",
    "        tfl.Flatten(),\n",
    "        \n",
    "        ## Dense layer with 1 unit for output & 'sigmoid' activation\n",
    "        tfl.Dense(units=1, activation='sigmoid')\n",
    "\n",
    "        ])\n",
    "    \n",
    "    return model"
   ]
  },
  {
   "cell_type": "markdown",
   "metadata": {},
   "source": [
    "Defining the optimizar, loss function and metric."
   ]
  },
  {
   "cell_type": "code",
   "execution_count": 24,
   "metadata": {},
   "outputs": [
    {
     "name": "stdout",
     "output_type": "stream",
     "text": [
      "Model: \"sequential_1\"\n",
      "_________________________________________________________________\n",
      "Layer (type)                 Output Shape              Param #   \n",
      "=================================================================\n",
      "zero_padding2d_1 (ZeroPaddin (None, 31, 31, 3)         0         \n",
      "_________________________________________________________________\n",
      "conv2d_1 (Conv2D)            (None, 25, 25, 32)        4736      \n",
      "_________________________________________________________________\n",
      "batch_normalization_1 (Batch (None, 25, 25, 32)        128       \n",
      "_________________________________________________________________\n",
      "re_lu_1 (ReLU)               (None, 25, 25, 32)        0         \n",
      "_________________________________________________________________\n",
      "max_pooling2d_1 (MaxPooling2 (None, 12, 12, 32)        0         \n",
      "_________________________________________________________________\n",
      "flatten_1 (Flatten)          (None, 4608)              0         \n",
      "_________________________________________________________________\n",
      "dense_1 (Dense)              (None, 1)                 4609      \n",
      "=================================================================\n",
      "Total params: 9,473\n",
      "Trainable params: 9,409\n",
      "Non-trainable params: 64\n",
      "_________________________________________________________________\n"
     ]
    }
   ],
   "source": [
    "my_model = my_model()\n",
    "my_model.compile(optimizer='adam',\n",
    "                 loss='binary_crossentropy',\n",
    "                 metrics=['accuracy'])\n",
    "my_model.summary()"
   ]
  },
  {
   "cell_type": "code",
   "execution_count": 25,
   "metadata": {},
   "outputs": [
    {
     "name": "stdout",
     "output_type": "stream",
     "text": [
      "Epoch 1/30\n",
      "1/1 [==============================] - 1s 1s/step - loss: 1.1202 - accuracy: 0.2360\n",
      "Epoch 2/30\n",
      "1/1 [==============================] - 1s 580ms/step - loss: 0.6469 - accuracy: 0.7680\n",
      "Epoch 3/30\n",
      "1/1 [==============================] - 0s 458ms/step - loss: 0.8701 - accuracy: 0.7680\n",
      "Epoch 4/30\n",
      "1/1 [==============================] - 0s 497ms/step - loss: 0.8718 - accuracy: 0.7680\n",
      "Epoch 5/30\n",
      "1/1 [==============================] - 1s 567ms/step - loss: 0.7616 - accuracy: 0.7680\n",
      "Epoch 6/30\n",
      "1/1 [==============================] - 0s 455ms/step - loss: 0.6198 - accuracy: 0.7760\n",
      "Epoch 7/30\n",
      "1/1 [==============================] - 1s 516ms/step - loss: 0.5235 - accuracy: 0.7920\n",
      "Epoch 8/30\n",
      "1/1 [==============================] - 0s 395ms/step - loss: 0.5182 - accuracy: 0.7560\n",
      "Epoch 9/30\n",
      "1/1 [==============================] - 1s 853ms/step - loss: 0.5750 - accuracy: 0.6960\n",
      "Epoch 10/30\n",
      "1/1 [==============================] - 1s 615ms/step - loss: 0.5804 - accuracy: 0.6920\n",
      "Epoch 11/30\n",
      "1/1 [==============================] - 0s 471ms/step - loss: 0.5108 - accuracy: 0.7880\n",
      "Epoch 12/30\n",
      "1/1 [==============================] - 1s 527ms/step - loss: 0.4499 - accuracy: 0.8080\n",
      "Epoch 13/30\n",
      "1/1 [==============================] - 0s 433ms/step - loss: 0.4453 - accuracy: 0.7920\n",
      "Epoch 14/30\n",
      "1/1 [==============================] - 1s 523ms/step - loss: 0.4741 - accuracy: 0.7760\n",
      "Epoch 15/30\n",
      "1/1 [==============================] - 0s 452ms/step - loss: 0.4980 - accuracy: 0.7920\n",
      "Epoch 16/30\n",
      "1/1 [==============================] - 0s 457ms/step - loss: 0.4984 - accuracy: 0.7880\n",
      "Epoch 17/30\n",
      "1/1 [==============================] - 1s 519ms/step - loss: 0.4773 - accuracy: 0.7920\n",
      "Epoch 18/30\n",
      "1/1 [==============================] - 0s 374ms/step - loss: 0.4494 - accuracy: 0.7880\n",
      "Epoch 19/30\n",
      "1/1 [==============================] - 0s 405ms/step - loss: 0.4323 - accuracy: 0.8120\n",
      "Epoch 20/30\n",
      "1/1 [==============================] - 0s 427ms/step - loss: 0.4324 - accuracy: 0.8240\n",
      "Epoch 21/30\n",
      "1/1 [==============================] - 1s 522ms/step - loss: 0.4378 - accuracy: 0.8160\n",
      "Epoch 22/30\n",
      "1/1 [==============================] - 0s 448ms/step - loss: 0.4330 - accuracy: 0.8200\n",
      "Epoch 23/30\n",
      "1/1 [==============================] - 0s 439ms/step - loss: 0.4185 - accuracy: 0.8240\n",
      "Epoch 24/30\n",
      "1/1 [==============================] - 1s 629ms/step - loss: 0.4062 - accuracy: 0.8000\n",
      "Epoch 25/30\n",
      "1/1 [==============================] - 0s 396ms/step - loss: 0.4033 - accuracy: 0.8080\n",
      "Epoch 26/30\n",
      "1/1 [==============================] - 0s 456ms/step - loss: 0.4063 - accuracy: 0.8200\n",
      "Epoch 27/30\n",
      "1/1 [==============================] - 1s 548ms/step - loss: 0.4082 - accuracy: 0.8240\n",
      "Epoch 28/30\n",
      "1/1 [==============================] - 0s 454ms/step - loss: 0.4046 - accuracy: 0.8280\n",
      "Epoch 29/30\n",
      "1/1 [==============================] - 0s 480ms/step - loss: 0.3956 - accuracy: 0.8280\n",
      "Epoch 30/30\n",
      "1/1 [==============================] - 0s 482ms/step - loss: 0.3848 - accuracy: 0.8320\n"
     ]
    },
    {
     "data": {
      "text/plain": [
       "<tensorflow.python.keras.callbacks.History at 0x7ff5c46e41c0>"
      ]
     },
     "execution_count": 25,
     "metadata": {},
     "output_type": "execute_result"
    }
   ],
   "source": [
    "my_model.fit(X_train, Y_train, epochs=30, batch_size=len(df['Name'].tolist()))"
   ]
  },
  {
   "cell_type": "code",
   "execution_count": 26,
   "metadata": {},
   "outputs": [
    {
     "name": "stdout",
     "output_type": "stream",
     "text": [
      "16/16 [==============================] - 0s 11ms/step - loss: 0.6212 - accuracy: 0.7691\n"
     ]
    },
    {
     "data": {
      "text/plain": [
       "[0.6212069392204285, 0.7690762877464294]"
      ]
     },
     "execution_count": 26,
     "metadata": {},
     "output_type": "execute_result"
    }
   ],
   "source": [
    "my_model.evaluate(X_test, Y_test)"
   ]
  }
 ],
 "metadata": {
  "kernelspec": {
   "display_name": "Python 3 (ipykernel)",
   "language": "python",
   "name": "python3"
  },
  "language_info": {
   "codemirror_mode": {
    "name": "ipython",
    "version": 3
   },
   "file_extension": ".py",
   "mimetype": "text/x-python",
   "name": "python",
   "nbconvert_exporter": "python",
   "pygments_lexer": "ipython3",
   "version": "3.9.7"
  }
 },
 "nbformat": 4,
 "nbformat_minor": 4
}
